{
 "cells": [
  {
   "cell_type": "markdown",
   "id": "6fd446b3",
   "metadata": {
    "papermill": {
     "duration": 0.013279,
     "end_time": "2023-05-12T12:41:26.101609",
     "exception": false,
     "start_time": "2023-05-12T12:41:26.088330",
     "status": "completed"
    },
    "tags": []
   },
   "source": [
    "## Libraries, Dependencies and Parameters\n"
   ]
  },
  {
   "cell_type": "markdown",
   "id": "6434803a",
   "metadata": {
    "papermill": {
     "duration": 0.009569,
     "end_time": "2023-05-12T12:41:26.121260",
     "exception": false,
     "start_time": "2023-05-12T12:41:26.111691",
     "status": "completed"
    },
    "tags": []
   },
   "source": [
    "_Install Required Libraries_\n"
   ]
  },
  {
   "cell_type": "code",
   "execution_count": 1,
   "id": "4e242e32",
   "metadata": {
    "execution": {
     "iopub.execute_input": "2023-05-12T12:41:26.142560Z",
     "iopub.status.busy": "2023-05-12T12:41:26.142087Z",
     "iopub.status.idle": "2023-05-12T12:42:07.124869Z",
     "shell.execute_reply": "2023-05-12T12:42:07.123200Z"
    },
    "id": "GJnzG561XzuD",
    "outputId": "8a1c54ef-d5f9-4ac9-9b92-6dff736b9344",
    "papermill": {
     "duration": 40.995921,
     "end_time": "2023-05-12T12:42:07.127097",
     "exception": false,
     "start_time": "2023-05-12T12:41:26.131176",
     "status": "completed"
    },
    "tags": []
   },
   "outputs": [
    {
     "name": "stdout",
     "output_type": "stream",
     "text": [
      "Collecting evaluate\r\n",
      "  Downloading evaluate-0.4.0-py3-none-any.whl (81 kB)\r\n",
      "\u001b[2K     \u001b[90m━━━━━━━━━━━━━━━━━━━━━━━━━━━━━━━━━━━━━━━━\u001b[0m \u001b[32m81.4/81.4 kB\u001b[0m \u001b[31m4.5 MB/s\u001b[0m eta \u001b[36m0:00:00\u001b[0m\r\n",
      "\u001b[?25hRequirement already satisfied: xxhash in /opt/conda/lib/python3.10/site-packages (from evaluate) (3.2.0)\r\n",
      "Requirement already satisfied: packaging in /opt/conda/lib/python3.10/site-packages (from evaluate) (21.3)\r\n",
      "Requirement already satisfied: datasets>=2.0.0 in /opt/conda/lib/python3.10/site-packages (from evaluate) (2.1.0)\r\n",
      "Requirement already satisfied: numpy>=1.17 in /opt/conda/lib/python3.10/site-packages (from evaluate) (1.23.5)\r\n",
      "Requirement already satisfied: requests>=2.19.0 in /opt/conda/lib/python3.10/site-packages (from evaluate) (2.28.2)\r\n",
      "Requirement already satisfied: tqdm>=4.62.1 in /opt/conda/lib/python3.10/site-packages (from evaluate) (4.64.1)\r\n",
      "Requirement already satisfied: fsspec[http]>=2021.05.0 in /opt/conda/lib/python3.10/site-packages (from evaluate) (2023.4.0)\r\n",
      "Requirement already satisfied: huggingface-hub>=0.7.0 in /opt/conda/lib/python3.10/site-packages (from evaluate) (0.13.4)\r\n",
      "Requirement already satisfied: responses<0.19 in /opt/conda/lib/python3.10/site-packages (from evaluate) (0.18.0)\r\n",
      "Requirement already satisfied: multiprocess in /opt/conda/lib/python3.10/site-packages (from evaluate) (0.70.14)\r\n",
      "Requirement already satisfied: dill in /opt/conda/lib/python3.10/site-packages (from evaluate) (0.3.6)\r\n",
      "Requirement already satisfied: pandas in /opt/conda/lib/python3.10/site-packages (from evaluate) (1.5.3)\r\n",
      "Requirement already satisfied: pyarrow>=5.0.0 in /opt/conda/lib/python3.10/site-packages (from datasets>=2.0.0->evaluate) (10.0.1)\r\n",
      "Requirement already satisfied: aiohttp in /opt/conda/lib/python3.10/site-packages (from datasets>=2.0.0->evaluate) (3.8.4)\r\n",
      "Requirement already satisfied: filelock in /opt/conda/lib/python3.10/site-packages (from huggingface-hub>=0.7.0->evaluate) (3.11.0)\r\n",
      "Requirement already satisfied: typing-extensions>=3.7.4.3 in /opt/conda/lib/python3.10/site-packages (from huggingface-hub>=0.7.0->evaluate) (4.5.0)\r\n",
      "Requirement already satisfied: pyyaml>=5.1 in /opt/conda/lib/python3.10/site-packages (from huggingface-hub>=0.7.0->evaluate) (6.0)\r\n",
      "Requirement already satisfied: pyparsing!=3.0.5,>=2.0.2 in /opt/conda/lib/python3.10/site-packages (from packaging->evaluate) (3.0.9)\r\n",
      "Requirement already satisfied: idna<4,>=2.5 in /opt/conda/lib/python3.10/site-packages (from requests>=2.19.0->evaluate) (3.4)\r\n",
      "Requirement already satisfied: urllib3<1.27,>=1.21.1 in /opt/conda/lib/python3.10/site-packages (from requests>=2.19.0->evaluate) (1.26.15)\r\n",
      "Requirement already satisfied: certifi>=2017.4.17 in /opt/conda/lib/python3.10/site-packages (from requests>=2.19.0->evaluate) (2022.12.7)\r\n",
      "Requirement already satisfied: charset-normalizer<4,>=2 in /opt/conda/lib/python3.10/site-packages (from requests>=2.19.0->evaluate) (2.1.1)\r\n",
      "Requirement already satisfied: python-dateutil>=2.8.1 in /opt/conda/lib/python3.10/site-packages (from pandas->evaluate) (2.8.2)\r\n",
      "Requirement already satisfied: pytz>=2020.1 in /opt/conda/lib/python3.10/site-packages (from pandas->evaluate) (2023.3)\r\n",
      "Requirement already satisfied: aiosignal>=1.1.2 in /opt/conda/lib/python3.10/site-packages (from aiohttp->datasets>=2.0.0->evaluate) (1.3.1)\r\n",
      "Requirement already satisfied: frozenlist>=1.1.1 in /opt/conda/lib/python3.10/site-packages (from aiohttp->datasets>=2.0.0->evaluate) (1.3.3)\r\n",
      "Requirement already satisfied: multidict<7.0,>=4.5 in /opt/conda/lib/python3.10/site-packages (from aiohttp->datasets>=2.0.0->evaluate) (6.0.4)\r\n",
      "Requirement already satisfied: yarl<2.0,>=1.0 in /opt/conda/lib/python3.10/site-packages (from aiohttp->datasets>=2.0.0->evaluate) (1.8.2)\r\n",
      "Requirement already satisfied: attrs>=17.3.0 in /opt/conda/lib/python3.10/site-packages (from aiohttp->datasets>=2.0.0->evaluate) (22.2.0)\r\n",
      "Requirement already satisfied: async-timeout<5.0,>=4.0.0a3 in /opt/conda/lib/python3.10/site-packages (from aiohttp->datasets>=2.0.0->evaluate) (4.0.2)\r\n",
      "Requirement already satisfied: six>=1.5 in /opt/conda/lib/python3.10/site-packages (from python-dateutil>=2.8.1->pandas->evaluate) (1.16.0)\r\n",
      "Installing collected packages: evaluate\r\n",
      "Successfully installed evaluate-0.4.0\r\n",
      "\u001b[33mWARNING: Running pip as the 'root' user can result in broken permissions and conflicting behaviour with the system package manager. It is recommended to use a virtual environment instead: https://pip.pypa.io/warnings/venv\u001b[0m\u001b[33m\r\n",
      "\u001b[0mNote: you may need to restart the kernel to use updated packages.\n",
      "Collecting openprompt\r\n",
      "  Downloading openprompt-1.0.1-py3-none-any.whl (146 kB)\r\n",
      "\u001b[2K     \u001b[90m━━━━━━━━━━━━━━━━━━━━━━━━━━━━━━━━━━━━━━━\u001b[0m \u001b[32m146.4/146.4 kB\u001b[0m \u001b[31m5.2 MB/s\u001b[0m eta \u001b[36m0:00:00\u001b[0m\r\n",
      "\u001b[?25hRequirement already satisfied: nltk in /opt/conda/lib/python3.10/site-packages (from openprompt) (3.2.4)\r\n",
      "Collecting rouge==1.0.0\r\n",
      "  Downloading rouge-1.0.0-py3-none-any.whl (14 kB)\r\n",
      "Requirement already satisfied: tensorboardX in /opt/conda/lib/python3.10/site-packages (from openprompt) (2.6)\r\n",
      "Collecting sentencepiece==0.1.96\r\n",
      "  Downloading sentencepiece-0.1.96-cp310-cp310-manylinux_2_17_x86_64.manylinux2014_x86_64.whl (1.2 MB)\r\n",
      "\u001b[2K     \u001b[90m━━━━━━━━━━━━━━━━━━━━━━━━━━━━━━━━━━━━━━━━\u001b[0m \u001b[32m1.2/1.2 MB\u001b[0m \u001b[31m27.5 MB/s\u001b[0m eta \u001b[36m0:00:00\u001b[0m\r\n",
      "\u001b[?25hCollecting yacs\r\n",
      "  Downloading yacs-0.1.8-py3-none-any.whl (14 kB)\r\n",
      "Requirement already satisfied: pyarrow in /opt/conda/lib/python3.10/site-packages (from openprompt) (10.0.1)\r\n",
      "Requirement already satisfied: dill in /opt/conda/lib/python3.10/site-packages (from openprompt) (0.3.6)\r\n",
      "Requirement already satisfied: scipy in /opt/conda/lib/python3.10/site-packages (from openprompt) (1.9.3)\r\n",
      "Requirement already satisfied: tqdm>=4.62.2 in /opt/conda/lib/python3.10/site-packages (from openprompt) (4.64.1)\r\n",
      "Requirement already satisfied: transformers>=4.10.0 in /opt/conda/lib/python3.10/site-packages (from openprompt) (4.28.1)\r\n",
      "Requirement already satisfied: datasets in /opt/conda/lib/python3.10/site-packages (from openprompt) (2.1.0)\r\n",
      "Requirement already satisfied: six in /opt/conda/lib/python3.10/site-packages (from rouge==1.0.0->openprompt) (1.16.0)\r\n",
      "Requirement already satisfied: requests in /opt/conda/lib/python3.10/site-packages (from transformers>=4.10.0->openprompt) (2.28.2)\r\n",
      "Requirement already satisfied: regex!=2019.12.17 in /opt/conda/lib/python3.10/site-packages (from transformers>=4.10.0->openprompt) (2023.3.23)\r\n",
      "Requirement already satisfied: pyyaml>=5.1 in /opt/conda/lib/python3.10/site-packages (from transformers>=4.10.0->openprompt) (6.0)\r\n",
      "Requirement already satisfied: huggingface-hub<1.0,>=0.11.0 in /opt/conda/lib/python3.10/site-packages (from transformers>=4.10.0->openprompt) (0.13.4)\r\n",
      "Requirement already satisfied: packaging>=20.0 in /opt/conda/lib/python3.10/site-packages (from transformers>=4.10.0->openprompt) (21.3)\r\n",
      "Requirement already satisfied: numpy>=1.17 in /opt/conda/lib/python3.10/site-packages (from transformers>=4.10.0->openprompt) (1.23.5)\r\n",
      "Requirement already satisfied: filelock in /opt/conda/lib/python3.10/site-packages (from transformers>=4.10.0->openprompt) (3.11.0)\r\n",
      "Requirement already satisfied: tokenizers!=0.11.3,<0.14,>=0.11.1 in /opt/conda/lib/python3.10/site-packages (from transformers>=4.10.0->openprompt) (0.13.3)\r\n",
      "Requirement already satisfied: xxhash in /opt/conda/lib/python3.10/site-packages (from datasets->openprompt) (3.2.0)\r\n",
      "Requirement already satisfied: pandas in /opt/conda/lib/python3.10/site-packages (from datasets->openprompt) (1.5.3)\r\n",
      "Requirement already satisfied: aiohttp in /opt/conda/lib/python3.10/site-packages (from datasets->openprompt) (3.8.4)\r\n",
      "Requirement already satisfied: responses<0.19 in /opt/conda/lib/python3.10/site-packages (from datasets->openprompt) (0.18.0)\r\n",
      "Requirement already satisfied: fsspec[http]>=2021.05.0 in /opt/conda/lib/python3.10/site-packages (from datasets->openprompt) (2023.4.0)\r\n",
      "Requirement already satisfied: multiprocess in /opt/conda/lib/python3.10/site-packages (from datasets->openprompt) (0.70.14)\r\n",
      "Requirement already satisfied: protobuf<4,>=3.8.0 in /opt/conda/lib/python3.10/site-packages (from tensorboardX->openprompt) (3.20.3)\r\n",
      "Requirement already satisfied: aiosignal>=1.1.2 in /opt/conda/lib/python3.10/site-packages (from aiohttp->datasets->openprompt) (1.3.1)\r\n",
      "Requirement already satisfied: multidict<7.0,>=4.5 in /opt/conda/lib/python3.10/site-packages (from aiohttp->datasets->openprompt) (6.0.4)\r\n",
      "Requirement already satisfied: async-timeout<5.0,>=4.0.0a3 in /opt/conda/lib/python3.10/site-packages (from aiohttp->datasets->openprompt) (4.0.2)\r\n",
      "Requirement already satisfied: attrs>=17.3.0 in /opt/conda/lib/python3.10/site-packages (from aiohttp->datasets->openprompt) (22.2.0)\r\n",
      "Requirement already satisfied: frozenlist>=1.1.1 in /opt/conda/lib/python3.10/site-packages (from aiohttp->datasets->openprompt) (1.3.3)\r\n",
      "Requirement already satisfied: charset-normalizer<4.0,>=2.0 in /opt/conda/lib/python3.10/site-packages (from aiohttp->datasets->openprompt) (2.1.1)\r\n",
      "Requirement already satisfied: yarl<2.0,>=1.0 in /opt/conda/lib/python3.10/site-packages (from aiohttp->datasets->openprompt) (1.8.2)\r\n",
      "Requirement already satisfied: typing-extensions>=3.7.4.3 in /opt/conda/lib/python3.10/site-packages (from huggingface-hub<1.0,>=0.11.0->transformers>=4.10.0->openprompt) (4.5.0)\r\n",
      "Requirement already satisfied: pyparsing!=3.0.5,>=2.0.2 in /opt/conda/lib/python3.10/site-packages (from packaging>=20.0->transformers>=4.10.0->openprompt) (3.0.9)\r\n",
      "Requirement already satisfied: urllib3<1.27,>=1.21.1 in /opt/conda/lib/python3.10/site-packages (from requests->transformers>=4.10.0->openprompt) (1.26.15)\r\n",
      "Requirement already satisfied: certifi>=2017.4.17 in /opt/conda/lib/python3.10/site-packages (from requests->transformers>=4.10.0->openprompt) (2022.12.7)\r\n",
      "Requirement already satisfied: idna<4,>=2.5 in /opt/conda/lib/python3.10/site-packages (from requests->transformers>=4.10.0->openprompt) (3.4)\r\n",
      "Requirement already satisfied: python-dateutil>=2.8.1 in /opt/conda/lib/python3.10/site-packages (from pandas->datasets->openprompt) (2.8.2)\r\n",
      "Requirement already satisfied: pytz>=2020.1 in /opt/conda/lib/python3.10/site-packages (from pandas->datasets->openprompt) (2023.3)\r\n",
      "Installing collected packages: sentencepiece, yacs, rouge, openprompt\r\n",
      "  Attempting uninstall: sentencepiece\r\n",
      "    Found existing installation: sentencepiece 0.1.98\r\n",
      "    Uninstalling sentencepiece-0.1.98:\r\n",
      "      Successfully uninstalled sentencepiece-0.1.98\r\n",
      "Successfully installed openprompt-1.0.1 rouge-1.0.0 sentencepiece-0.1.96 yacs-0.1.8\r\n",
      "\u001b[33mWARNING: Running pip as the 'root' user can result in broken permissions and conflicting behaviour with the system package manager. It is recommended to use a virtual environment instead: https://pip.pypa.io/warnings/venv\u001b[0m\u001b[33m\r\n",
      "\u001b[0mNote: you may need to restart the kernel to use updated packages.\n",
      "Collecting adapter-transformers==3.1.0\r\n",
      "  Downloading adapter_transformers-3.1.0-py3-none-any.whl (4.8 MB)\r\n",
      "\u001b[2K     \u001b[90m━━━━━━━━━━━━━━━━━━━━━━━━━━━━━━━━━━━━━━━━\u001b[0m \u001b[32m4.8/4.8 MB\u001b[0m \u001b[31m60.6 MB/s\u001b[0m eta \u001b[36m0:00:00\u001b[0m\r\n",
      "\u001b[?25hRequirement already satisfied: huggingface-hub<1.0,>=0.1.0 in /opt/conda/lib/python3.10/site-packages (from adapter-transformers==3.1.0) (0.13.4)\r\n",
      "Requirement already satisfied: pyyaml>=5.1 in /opt/conda/lib/python3.10/site-packages (from adapter-transformers==3.1.0) (6.0)\r\n",
      "Requirement already satisfied: numpy>=1.17 in /opt/conda/lib/python3.10/site-packages (from adapter-transformers==3.1.0) (1.23.5)\r\n",
      "Requirement already satisfied: tqdm>=4.27 in /opt/conda/lib/python3.10/site-packages (from adapter-transformers==3.1.0) (4.64.1)\r\n",
      "Collecting tokenizers!=0.11.3,<0.13,>=0.11.1\r\n",
      "  Downloading tokenizers-0.12.1-cp310-cp310-manylinux_2_12_x86_64.manylinux2010_x86_64.whl (6.6 MB)\r\n",
      "\u001b[2K     \u001b[90m━━━━━━━━━━━━━━━━━━━━━━━━━━━━━━━━━━━━━━━━\u001b[0m \u001b[32m6.6/6.6 MB\u001b[0m \u001b[31m84.4 MB/s\u001b[0m eta \u001b[36m0:00:00\u001b[0m\r\n",
      "\u001b[?25hRequirement already satisfied: packaging>=20.0 in /opt/conda/lib/python3.10/site-packages (from adapter-transformers==3.1.0) (21.3)\r\n",
      "Requirement already satisfied: regex!=2019.12.17 in /opt/conda/lib/python3.10/site-packages (from adapter-transformers==3.1.0) (2023.3.23)\r\n",
      "Requirement already satisfied: filelock in /opt/conda/lib/python3.10/site-packages (from adapter-transformers==3.1.0) (3.11.0)\r\n",
      "Requirement already satisfied: requests in /opt/conda/lib/python3.10/site-packages (from adapter-transformers==3.1.0) (2.28.2)\r\n",
      "Requirement already satisfied: typing-extensions>=3.7.4.3 in /opt/conda/lib/python3.10/site-packages (from huggingface-hub<1.0,>=0.1.0->adapter-transformers==3.1.0) (4.5.0)\r\n",
      "Requirement already satisfied: pyparsing!=3.0.5,>=2.0.2 in /opt/conda/lib/python3.10/site-packages (from packaging>=20.0->adapter-transformers==3.1.0) (3.0.9)\r\n",
      "Requirement already satisfied: urllib3<1.27,>=1.21.1 in /opt/conda/lib/python3.10/site-packages (from requests->adapter-transformers==3.1.0) (1.26.15)\r\n",
      "Requirement already satisfied: idna<4,>=2.5 in /opt/conda/lib/python3.10/site-packages (from requests->adapter-transformers==3.1.0) (3.4)\r\n",
      "Requirement already satisfied: certifi>=2017.4.17 in /opt/conda/lib/python3.10/site-packages (from requests->adapter-transformers==3.1.0) (2022.12.7)\r\n",
      "Requirement already satisfied: charset-normalizer<4,>=2 in /opt/conda/lib/python3.10/site-packages (from requests->adapter-transformers==3.1.0) (2.1.1)\r\n",
      "Installing collected packages: tokenizers, adapter-transformers\r\n",
      "  Attempting uninstall: tokenizers\r\n",
      "    Found existing installation: tokenizers 0.13.3\r\n",
      "    Uninstalling tokenizers-0.13.3:\r\n",
      "      Successfully uninstalled tokenizers-0.13.3\r\n",
      "Successfully installed adapter-transformers-3.1.0 tokenizers-0.12.1\r\n",
      "\u001b[33mWARNING: Running pip as the 'root' user can result in broken permissions and conflicting behaviour with the system package manager. It is recommended to use a virtual environment instead: https://pip.pypa.io/warnings/venv\u001b[0m\u001b[33m\r\n",
      "\u001b[0mNote: you may need to restart the kernel to use updated packages.\n"
     ]
    }
   ],
   "source": [
    "%pip install evaluate\n",
    "%pip install openprompt\n",
    "%pip install adapter-transformers==3.1.0"
   ]
  },
  {
   "cell_type": "markdown",
   "id": "7a253a3c",
   "metadata": {
    "execution": {
     "iopub.execute_input": "2023-04-19T11:46:38.93501Z",
     "iopub.status.busy": "2023-04-19T11:46:38.934658Z",
     "iopub.status.idle": "2023-04-19T11:46:49.19186Z",
     "shell.execute_reply": "2023-04-19T11:46:49.190506Z",
     "shell.execute_reply.started": "2023-04-19T11:46:38.93497Z"
    },
    "papermill": {
     "duration": 0.0106,
     "end_time": "2023-05-12T12:42:07.148528",
     "exception": false,
     "start_time": "2023-05-12T12:42:07.137928",
     "status": "completed"
    },
    "tags": []
   },
   "source": [
    "_Dependencies_\n"
   ]
  },
  {
   "cell_type": "code",
   "execution_count": 2,
   "id": "8402173c",
   "metadata": {
    "execution": {
     "iopub.execute_input": "2023-05-12T12:42:07.172188Z",
     "iopub.status.busy": "2023-05-12T12:42:07.171367Z",
     "iopub.status.idle": "2023-05-12T12:42:19.999174Z",
     "shell.execute_reply": "2023-05-12T12:42:19.998231Z"
    },
    "id": "6BIRiGiWkVU6",
    "papermill": {
     "duration": 12.842439,
     "end_time": "2023-05-12T12:42:20.001562",
     "exception": false,
     "start_time": "2023-05-12T12:42:07.159123",
     "status": "completed"
    },
    "tags": []
   },
   "outputs": [
    {
     "name": "stderr",
     "output_type": "stream",
     "text": [
      "/opt/conda/lib/python3.10/site-packages/scipy/__init__.py:146: UserWarning: A NumPy version >=1.16.5 and <1.23.0 is required for this version of SciPy (detected version 1.23.5\n",
      "  warnings.warn(f\"A NumPy version >={np_minversion} and <{np_maxversion}\"\n"
     ]
    }
   ],
   "source": [
    "import torch\n",
    "import warnings\n",
    "import pandas as pd\n",
    "from prettytable import PrettyTable\n",
    "from collections import defaultdict\n",
    "from datasets import load_metric\n",
    "from openprompt import PromptDataLoader, PromptForClassification\n",
    "from openprompt.data_utils import InputExample\n",
    "from openprompt.prompts import ManualTemplate, ManualVerbalizer\n",
    "from openprompt.plms.utils import TokenizerWrapper\n",
    "from transformers import XLMRobertaConfig, XLMRobertaTokenizer, XLMRobertaModel, XLMRobertaForMaskedLM, set_seed\n",
    "from sklearn.model_selection import train_test_split"
   ]
  },
  {
   "cell_type": "code",
   "execution_count": 3,
   "id": "bdb7ad92",
   "metadata": {
    "execution": {
     "iopub.execute_input": "2023-05-12T12:42:20.026522Z",
     "iopub.status.busy": "2023-05-12T12:42:20.025071Z",
     "iopub.status.idle": "2023-05-12T12:42:20.030515Z",
     "shell.execute_reply": "2023-05-12T12:42:20.029679Z"
    },
    "papermill": {
     "duration": 0.0193,
     "end_time": "2023-05-12T12:42:20.032519",
     "exception": false,
     "start_time": "2023-05-12T12:42:20.013219",
     "status": "completed"
    },
    "tags": []
   },
   "outputs": [],
   "source": [
    "warnings.filterwarnings('ignore')"
   ]
  },
  {
   "cell_type": "markdown",
   "id": "c16206f4",
   "metadata": {
    "papermill": {
     "duration": 0.010646,
     "end_time": "2023-05-12T12:42:20.053969",
     "exception": false,
     "start_time": "2023-05-12T12:42:20.043323",
     "status": "completed"
    },
    "tags": []
   },
   "source": [
    "_Parameters_\n"
   ]
  },
  {
   "cell_type": "code",
   "execution_count": 4,
   "id": "c3a5a018",
   "metadata": {
    "execution": {
     "iopub.execute_input": "2023-05-12T12:42:20.077287Z",
     "iopub.status.busy": "2023-05-12T12:42:20.077018Z",
     "iopub.status.idle": "2023-05-12T12:42:20.082191Z",
     "shell.execute_reply": "2023-05-12T12:42:20.081300Z"
    },
    "id": "JUCDlx1akOCt",
    "papermill": {
     "duration": 0.019377,
     "end_time": "2023-05-12T12:42:20.084493",
     "exception": false,
     "start_time": "2023-05-12T12:42:20.065116",
     "status": "completed"
    },
    "tags": []
   },
   "outputs": [],
   "source": [
    "model_type = \"XLM-R\"\n",
    "technique = \"Sentiment\" #@param [\"Sentiment\", \"Humor\", \"Hate-Speech\"]\n",
    "use_cuda = True\n",
    "no_of_labels = 4 #Sentiment:4, Humor:2, Hate-Speech:3\n",
    "validation_size = (1/9)\n",
    "test_size = 0.1\n",
    "split_random_state = 42\n",
    "max_seq_length = 128\n",
    "batch_size = 32\n",
    "training_seed = 42 #@param [8, 42, 77]\n",
    "script = \"Char-Script-1.0\""
   ]
  },
  {
   "cell_type": "markdown",
   "id": "c3f91d66",
   "metadata": {
    "papermill": {
     "duration": 0.010929,
     "end_time": "2023-05-12T12:42:20.106210",
     "exception": false,
     "start_time": "2023-05-12T12:42:20.095281",
     "status": "completed"
    },
    "tags": []
   },
   "source": [
    "## Dataset Preprocessing\n"
   ]
  },
  {
   "cell_type": "code",
   "execution_count": 5,
   "id": "c3d8899c",
   "metadata": {
    "execution": {
     "iopub.execute_input": "2023-05-12T12:42:20.129019Z",
     "iopub.status.busy": "2023-05-12T12:42:20.128755Z",
     "iopub.status.idle": "2023-05-12T12:42:20.224405Z",
     "shell.execute_reply": "2023-05-12T12:42:20.223186Z"
    },
    "papermill": {
     "duration": 0.109744,
     "end_time": "2023-05-12T12:42:20.226724",
     "exception": false,
     "start_time": "2023-05-12T12:42:20.116980",
     "status": "completed"
    },
    "tags": []
   },
   "outputs": [],
   "source": [
    "df = pd.read_csv(\"/kaggle/input/sinhala-english-cmcs-dataset/annotated-script(all).csv\")\n",
    "df = df[['Sentence', technique, script]]\n",
    "df.columns = ['Sentence', 'Label', script]"
   ]
  },
  {
   "cell_type": "markdown",
   "id": "06581f1a",
   "metadata": {
    "papermill": {
     "duration": 0.010925,
     "end_time": "2023-05-12T12:42:20.249017",
     "exception": false,
     "start_time": "2023-05-12T12:42:20.238092",
     "status": "completed"
    },
    "tags": []
   },
   "source": [
    "*Label Encoding*"
   ]
  },
  {
   "cell_type": "code",
   "execution_count": 6,
   "id": "8db13b6a",
   "metadata": {
    "execution": {
     "iopub.execute_input": "2023-05-12T12:42:20.273391Z",
     "iopub.status.busy": "2023-05-12T12:42:20.271948Z",
     "iopub.status.idle": "2023-05-12T12:42:20.280015Z",
     "shell.execute_reply": "2023-05-12T12:42:20.279233Z"
    },
    "papermill": {
     "duration": 0.021929,
     "end_time": "2023-05-12T12:42:20.281961",
     "exception": false,
     "start_time": "2023-05-12T12:42:20.260032",
     "status": "completed"
    },
    "tags": []
   },
   "outputs": [],
   "source": [
    "df['Label'], uniq = pd.factorize(df['Label'])"
   ]
  },
  {
   "cell_type": "markdown",
   "id": "b1902e3a",
   "metadata": {
    "papermill": {
     "duration": 0.011337,
     "end_time": "2023-05-12T12:42:20.305859",
     "exception": false,
     "start_time": "2023-05-12T12:42:20.294522",
     "status": "completed"
    },
    "tags": []
   },
   "source": [
    "*Train, Validation & Test Split*"
   ]
  },
  {
   "cell_type": "code",
   "execution_count": 7,
   "id": "39b5345c",
   "metadata": {
    "execution": {
     "iopub.execute_input": "2023-05-12T12:42:20.330584Z",
     "iopub.status.busy": "2023-05-12T12:42:20.329758Z",
     "iopub.status.idle": "2023-05-12T12:42:20.354294Z",
     "shell.execute_reply": "2023-05-12T12:42:20.353514Z"
    },
    "papermill": {
     "duration": 0.03946,
     "end_time": "2023-05-12T12:42:20.356176",
     "exception": false,
     "start_time": "2023-05-12T12:42:20.316716",
     "status": "completed"
    },
    "tags": []
   },
   "outputs": [],
   "source": [
    "X, y = df[['Sentence', script]], df[['Label']]\n",
    "stratifying_col = y[\"Label\"]\n",
    "X_rem, X_test, y_rem, y_test = train_test_split(X, y, test_size=test_size, stratify=stratifying_col, random_state=split_random_state)\n",
    "stratifying_col = y_rem[\"Label\"]\n",
    "X_train, X_validation, y_train, y_validation = train_test_split(X_rem, y_rem, test_size=validation_size, stratify=stratifying_col, random_state=split_random_state)"
   ]
  },
  {
   "cell_type": "code",
   "execution_count": 8,
   "id": "8f854b76",
   "metadata": {
    "execution": {
     "iopub.execute_input": "2023-05-12T12:42:20.380299Z",
     "iopub.status.busy": "2023-05-12T12:42:20.378966Z",
     "iopub.status.idle": "2023-05-12T12:42:20.386515Z",
     "shell.execute_reply": "2023-05-12T12:42:20.385625Z"
    },
    "papermill": {
     "duration": 0.021103,
     "end_time": "2023-05-12T12:42:20.388418",
     "exception": false,
     "start_time": "2023-05-12T12:42:20.367315",
     "status": "completed"
    },
    "tags": []
   },
   "outputs": [
    {
     "name": "stdout",
     "output_type": "stream",
     "text": [
      "Train : Rows = 10814 , Columns =  2\n",
      "y_train : Rows = 10814 , Columns =  1\n",
      "X_validation : Rows = 1352 , Columns =  2\n",
      "y_validation : Rows = 1352 , Columns =  1\n",
      "X_test : Rows = 1352 , Columns =  2\n",
      "y_test : Rows = 1352 , Columns =  1\n"
     ]
    }
   ],
   "source": [
    "print(\"Train : Rows =\", X_train.shape[0], \", Columns = \", X_train.shape[1])\n",
    "print(\"y_train : Rows =\", y_train.shape[0], \", Columns = \", y_train.shape[1])\n",
    "print(\"X_validation : Rows =\", X_validation.shape[0], \", Columns = \", X_validation.shape[1])\n",
    "print(\"y_validation : Rows =\", y_validation.shape[0], \", Columns = \", y_validation.shape[1])\n",
    "print(\"X_test : Rows =\", X_test.shape[0], \", Columns = \", X_test.shape[1])\n",
    "print(\"y_test : Rows =\", y_test.shape[0], \", Columns = \", y_test.shape[1])"
   ]
  },
  {
   "cell_type": "code",
   "execution_count": 9,
   "id": "a9274ace",
   "metadata": {
    "execution": {
     "iopub.execute_input": "2023-05-12T12:42:20.412358Z",
     "iopub.status.busy": "2023-05-12T12:42:20.411852Z",
     "iopub.status.idle": "2023-05-12T12:42:20.420506Z",
     "shell.execute_reply": "2023-05-12T12:42:20.419304Z"
    },
    "papermill": {
     "duration": 0.022919,
     "end_time": "2023-05-12T12:42:20.422516",
     "exception": false,
     "start_time": "2023-05-12T12:42:20.399597",
     "status": "completed"
    },
    "tags": []
   },
   "outputs": [
    {
     "name": "stdout",
     "output_type": "stream",
     "text": [
      "Labels : ['Negative', 'Neutral', 'Positive', 'Conflict']\n",
      "Train : [2913, 6877, 924, 100]\n",
      "Validation : [364, 860, 116, 12]\n",
      "Test : [364, 860, 116, 12]\n"
     ]
    }
   ],
   "source": [
    "print(\"Labels :\", ['Negative', 'Neutral', 'Positive', 'Conflict'])\n",
    "print(\"Train :\", y_train.groupby('Label').size().tolist())\n",
    "print(\"Validation :\", y_validation.groupby('Label').size().tolist())\n",
    "print(\"Test :\", y_test.groupby('Label').size().tolist())"
   ]
  },
  {
   "cell_type": "markdown",
   "id": "68982ba6",
   "metadata": {
    "papermill": {
     "duration": 0.01128,
     "end_time": "2023-05-12T12:42:20.445192",
     "exception": false,
     "start_time": "2023-05-12T12:42:20.433912",
     "status": "completed"
    },
    "tags": []
   },
   "source": [
    "## OpenPrompt\n"
   ]
  },
  {
   "cell_type": "code",
   "execution_count": 10,
   "id": "a134f290",
   "metadata": {
    "execution": {
     "iopub.execute_input": "2023-05-12T12:42:20.469136Z",
     "iopub.status.busy": "2023-05-12T12:42:20.468416Z",
     "iopub.status.idle": "2023-05-12T12:42:20.477261Z",
     "shell.execute_reply": "2023-05-12T12:42:20.476486Z"
    },
    "papermill": {
     "duration": 0.022763,
     "end_time": "2023-05-12T12:42:20.479093",
     "exception": false,
     "start_time": "2023-05-12T12:42:20.456330",
     "status": "completed"
    },
    "tags": []
   },
   "outputs": [],
   "source": [
    "set_seed(training_seed)\n",
    "torch.backends.cudnn.deterministic = True "
   ]
  },
  {
   "cell_type": "code",
   "execution_count": 11,
   "id": "5e039dc4",
   "metadata": {
    "execution": {
     "iopub.execute_input": "2023-05-12T12:42:20.513943Z",
     "iopub.status.busy": "2023-05-12T12:42:20.513269Z",
     "iopub.status.idle": "2023-05-12T12:42:20.549813Z",
     "shell.execute_reply": "2023-05-12T12:42:20.548393Z"
    },
    "id": "bq3XoGPBdJri",
    "papermill": {
     "duration": 0.059259,
     "end_time": "2023-05-12T12:42:20.552043",
     "exception": false,
     "start_time": "2023-05-12T12:42:20.492784",
     "status": "completed"
    },
    "tags": []
   },
   "outputs": [],
   "source": [
    "class MLMTokenizerWrapper(TokenizerWrapper):\n",
    "    add_input_keys = ['input_ids', 'attention_mask', 'token_type_ids']\n",
    "\n",
    "    @property\n",
    "    def mask_token(self):\n",
    "        return self.tokenizer.mask_token\n",
    "\n",
    "    @property\n",
    "    def mask_token_ids(self):\n",
    "        return self.tokenizer.mask_token_id\n",
    "\n",
    "    @property\n",
    "    def num_special_tokens_to_add(self):\n",
    "        if not hasattr(self, '_num_specials'):\n",
    "            self._num_specials = self.tokenizer.num_special_tokens_to_add()\n",
    "        return self._num_specials\n",
    "\n",
    "    def tokenize_one_example(self, wrapped_example, teacher_forcing):\n",
    "        wrapped_example, others = wrapped_example\n",
    "\n",
    "        # for some dataset like SuperGLUE.COPA, the answer requires prediction an span of\n",
    "        # the input. Or in generation tasks, we need to generate a piece of target_text.\n",
    "        # In these case, it tokenized to the encoded_tgt_text for future use.\n",
    "        encoded_tgt_text = []\n",
    "        if 'tgt_text' in others:\n",
    "            tgt_text = others['tgt_text']\n",
    "            if isinstance(tgt_text, str):\n",
    "                tgt_text = [tgt_text]\n",
    "            for t in tgt_text:\n",
    "                encoded_tgt_text.append(self.tokenizer.encode(t, add_special_tokens=False))\n",
    "\n",
    "        mask_id = 0 # the i-th the mask token in the template.\n",
    "\n",
    "        encoder_inputs = defaultdict(list)\n",
    "        for piece in wrapped_example:\n",
    "            if piece['loss_ids']==1:\n",
    "                if teacher_forcing: # fill the mask with the tgt task\n",
    "                    raise RuntimeError(\"Masked Language Model can't perform teacher forcing training!\")\n",
    "                else:\n",
    "                    encode_text = [self.mask_token_ids]\n",
    "                mask_id += 1\n",
    "\n",
    "            if piece['text'] in self.special_tokens_maps.keys():\n",
    "                to_replace = self.special_tokens_maps[piece['text']]\n",
    "                if to_replace is not None:\n",
    "                    piece['text'] = to_replace\n",
    "                else:\n",
    "                    raise KeyError(\"This tokenizer doesn't specify {} token.\".format(piece['text']))\n",
    "\n",
    "            if 'soft_token_ids' in piece and piece['soft_token_ids']!=0:\n",
    "                encode_text = [0] # can be replace by any token, since these token will use their own embeddings\n",
    "            else:\n",
    "                encode_text = self.tokenizer.encode(piece['text'], add_special_tokens=False)\n",
    "\n",
    "            encoding_length = len(encode_text)\n",
    "            encoder_inputs['input_ids'].append(encode_text)\n",
    "            for key in piece:\n",
    "                if key not in ['text']:\n",
    "                    encoder_inputs[key].append([piece[key]]*encoding_length)\n",
    "\n",
    "        encoder_inputs = self.truncate(encoder_inputs=encoder_inputs)\n",
    "        # delete shortenable ids\n",
    "        encoder_inputs.pop(\"shortenable_ids\")\n",
    "        encoder_inputs = self.concate_parts(input_dict=encoder_inputs)\n",
    "        encoder_inputs = self.add_special_tokens(encoder_inputs=encoder_inputs)\n",
    "        # create special input ids\n",
    "        encoder_inputs['attention_mask'] = [1] *len(encoder_inputs['input_ids'])\n",
    "        if self.create_token_type_ids:\n",
    "            encoder_inputs['token_type_ids'] = [0] *len(encoder_inputs['input_ids'])\n",
    "        # padding\n",
    "        encoder_inputs = self.padding(input_dict=encoder_inputs, max_len=self.max_seq_length, pad_id_for_inputs=self.tokenizer.pad_token_id)\n",
    "\n",
    "        if len(encoded_tgt_text) > 0:\n",
    "            encoder_inputs = {**encoder_inputs, \"encoded_tgt_text\": encoded_tgt_text}# convert defaultdict to dict\n",
    "        else:\n",
    "            encoder_inputs = {**encoder_inputs}\n",
    "        return encoder_inputs"
   ]
  },
  {
   "cell_type": "code",
   "execution_count": 12,
   "id": "ada30966",
   "metadata": {
    "execution": {
     "iopub.execute_input": "2023-05-12T12:42:20.591226Z",
     "iopub.status.busy": "2023-05-12T12:42:20.590869Z",
     "iopub.status.idle": "2023-05-12T12:42:20.597064Z",
     "shell.execute_reply": "2023-05-12T12:42:20.596184Z"
    },
    "id": "71QIB8CjdRPI",
    "papermill": {
     "duration": 0.034445,
     "end_time": "2023-05-12T12:42:20.600813",
     "exception": false,
     "start_time": "2023-05-12T12:42:20.566368",
     "status": "completed"
    },
    "tags": []
   },
   "outputs": [],
   "source": [
    "def load_plm(model_name, model_path):   \n",
    "    model_config = XLMRobertaConfig.from_pretrained(model_path)\n",
    "    model = XLMRobertaForMaskedLM.from_pretrained(model_path, config=model_config)\n",
    "    tokenizer = XLMRobertaTokenizer.from_pretrained(model_path)\n",
    "    wrapper = MLMTokenizerWrapper\n",
    "    return model, tokenizer, wrapper"
   ]
  },
  {
   "cell_type": "markdown",
   "id": "54ac50f3",
   "metadata": {
    "papermill": {
     "duration": 0.0157,
     "end_time": "2023-05-12T12:42:20.636764",
     "exception": false,
     "start_time": "2023-05-12T12:42:20.621064",
     "status": "completed"
    },
    "tags": []
   },
   "source": [
    "_Load Pre-trained Language Model (PLM)_\n"
   ]
  },
  {
   "cell_type": "code",
   "execution_count": 13,
   "id": "f646b21d",
   "metadata": {
    "execution": {
     "iopub.execute_input": "2023-05-12T12:42:20.675776Z",
     "iopub.status.busy": "2023-05-12T12:42:20.675500Z",
     "iopub.status.idle": "2023-05-12T12:42:47.893822Z",
     "shell.execute_reply": "2023-05-12T12:42:47.892812Z"
    },
    "id": "NDPRMGSXdUwW",
    "outputId": "c322f46e-4506-45f8-84b4-cc3804d9c171",
    "papermill": {
     "duration": 27.24164,
     "end_time": "2023-05-12T12:42:47.896189",
     "exception": false,
     "start_time": "2023-05-12T12:42:20.654549",
     "status": "completed"
    },
    "tags": []
   },
   "outputs": [
    {
     "data": {
      "application/vnd.jupyter.widget-view+json": {
       "model_id": "8f5adbe119c1442a893363c303c192e6",
       "version_major": 2,
       "version_minor": 0
      },
      "text/plain": [
       "Downloading config.json:   0%|          | 0.00/615 [00:00<?, ?B/s]"
      ]
     },
     "metadata": {},
     "output_type": "display_data"
    },
    {
     "data": {
      "application/vnd.jupyter.widget-view+json": {
       "model_id": "d456fab61b984a35bf4c54acf6b043eb",
       "version_major": 2,
       "version_minor": 0
      },
      "text/plain": [
       "Downloading pytorch_model.bin:   0%|          | 0.00/1.04G [00:00<?, ?B/s]"
      ]
     },
     "metadata": {},
     "output_type": "display_data"
    },
    {
     "data": {
      "application/vnd.jupyter.widget-view+json": {
       "model_id": "8ecda322238b478b9e1baefea0b0b6fc",
       "version_major": 2,
       "version_minor": 0
      },
      "text/plain": [
       "Downloading sentencepiece.bpe.model:   0%|          | 0.00/4.83M [00:00<?, ?B/s]"
      ]
     },
     "metadata": {},
     "output_type": "display_data"
    }
   ],
   "source": [
    "plm, tokenizer, wrapper_class = load_plm(\"xlm\", \"xlm-roberta-base\")"
   ]
  },
  {
   "cell_type": "markdown",
   "id": "ed9d67d9",
   "metadata": {
    "papermill": {
     "duration": 0.011992,
     "end_time": "2023-05-12T12:42:47.920701",
     "exception": false,
     "start_time": "2023-05-12T12:42:47.908709",
     "status": "completed"
    },
    "tags": []
   },
   "source": [
    "_Prompt Template, Verbalizer and PLM_\n"
   ]
  },
  {
   "cell_type": "code",
   "execution_count": 14,
   "id": "cd6afea7",
   "metadata": {
    "execution": {
     "iopub.execute_input": "2023-05-12T12:42:47.946542Z",
     "iopub.status.busy": "2023-05-12T12:42:47.945925Z",
     "iopub.status.idle": "2023-05-12T12:42:47.962321Z",
     "shell.execute_reply": "2023-05-12T12:42:47.961508Z"
    },
    "id": "jD4_Q5w0dXqx",
    "papermill": {
     "duration": 0.0315,
     "end_time": "2023-05-12T12:42:47.964280",
     "exception": false,
     "start_time": "2023-05-12T12:42:47.932780",
     "status": "completed"
    },
    "tags": []
   },
   "outputs": [],
   "source": [
    "prompt_verbalizer_sinhala = ManualVerbalizer(\n",
    "    classes = [ \"Positive\",\"Negative\",\"Neutral\",\"Conflict\"],\n",
    "    label_words={\"Positive\":[\"හොඳයි\", \"ධනාත්මක\"], \"Negative\":[\"නරකයි\", \"ඍණාත්මක\"], \"Neutral\":[\"මධ්යස්ථ\"], \"Conflict\":[\"ගැටුම්කාරී\"]},\n",
    "    tokenizer = tokenizer\n",
    ")\n",
    "\n",
    "prompt_verbalizer_english = ManualVerbalizer(\n",
    "    classes = [ \"Positive\",\"Negative\",\"Neutral\",\"Conflict\"],\n",
    "    label_words={\"Positive\":[\"good\", \"positive\",\"great\"], \"Negative\":[\"bad\", \"negative\",\"terrible\"], \"Neutral\":[\"okay\", \"neutral\"], \"Conflict\":[\"conflict\"]},\n",
    "    tokenizer = tokenizer\n",
    ")\n",
    "\n",
    "def get_prompttemplate_and_model(template):\n",
    "    prompt_template = ManualTemplate(text = template, tokenizer = tokenizer)\n",
    "    prompt_model = PromptForClassification(template = prompt_template, plm = plm, verbalizer = prompt_verbalizer_english, freeze_plm=True)\n",
    "    \n",
    "    return prompt_template, prompt_model"
   ]
  },
  {
   "cell_type": "markdown",
   "id": "5a869d8d",
   "metadata": {
    "papermill": {
     "duration": 0.011799,
     "end_time": "2023-05-12T12:42:47.988039",
     "exception": false,
     "start_time": "2023-05-12T12:42:47.976240",
     "status": "completed"
    },
    "tags": []
   },
   "source": [
    "## Create Test DataLoaders\n"
   ]
  },
  {
   "cell_type": "code",
   "execution_count": 15,
   "id": "bff14f73",
   "metadata": {
    "execution": {
     "iopub.execute_input": "2023-05-12T12:42:48.013530Z",
     "iopub.status.busy": "2023-05-12T12:42:48.012766Z",
     "iopub.status.idle": "2023-05-12T12:42:48.078871Z",
     "shell.execute_reply": "2023-05-12T12:42:48.078031Z"
    },
    "papermill": {
     "duration": 0.0808,
     "end_time": "2023-05-12T12:42:48.080885",
     "exception": false,
     "start_time": "2023-05-12T12:42:48.000085",
     "status": "completed"
    },
    "tags": []
   },
   "outputs": [],
   "source": [
    "X_train, y_train = X_train.values.tolist(), y_train.values.tolist()\n",
    "X_validation, y_validation = X_validation.values.tolist(), y_validation.values.tolist()\n",
    "X_test, y_test = X_test.values.tolist(), y_test.values.tolist()"
   ]
  },
  {
   "cell_type": "code",
   "execution_count": 16,
   "id": "bac9d409",
   "metadata": {
    "execution": {
     "iopub.execute_input": "2023-05-12T12:42:48.106273Z",
     "iopub.status.busy": "2023-05-12T12:42:48.106007Z",
     "iopub.status.idle": "2023-05-12T12:42:48.117948Z",
     "shell.execute_reply": "2023-05-12T12:42:48.117037Z"
    },
    "papermill": {
     "duration": 0.026995,
     "end_time": "2023-05-12T12:42:48.119939",
     "exception": false,
     "start_time": "2023-05-12T12:42:48.092944",
     "status": "completed"
    },
    "tags": []
   },
   "outputs": [],
   "source": [
    "test_examples=[]\n",
    "test_examples_latin=[]\n",
    "test_examples_sinhala=[]\n",
    "test_examples_mixed=[]\n",
    "\n",
    "for i in range(len(X_test)):\n",
    "    test_examples.append(InputExample(guid = i, text_a = X_test[i][0], label = y_test[i][0]))\n",
    "\n",
    "    if(X_test[i][1]==\"Latin\"):\n",
    "        test_examples_latin.append(InputExample(guid = i, text_a = X_test[i][0], label = y_test[i][0]))\n",
    "    elif(X_test[i][1]==\"Sinhala\"):\n",
    "        test_examples_sinhala.append(InputExample(guid = i, text_a = X_test[i][0], label = y_test[i][0]))    \n",
    "    elif(X_test[i][1]==\"Mixed\"):\n",
    "        test_examples_mixed.append(InputExample(guid = i, text_a = X_test[i][0], label = y_test[i][0]))"
   ]
  },
  {
   "cell_type": "code",
   "execution_count": 17,
   "id": "96c2b93b",
   "metadata": {
    "execution": {
     "iopub.execute_input": "2023-05-12T12:42:48.145469Z",
     "iopub.status.busy": "2023-05-12T12:42:48.144715Z",
     "iopub.status.idle": "2023-05-12T12:42:48.152622Z",
     "shell.execute_reply": "2023-05-12T12:42:48.151823Z"
    },
    "papermill": {
     "duration": 0.022545,
     "end_time": "2023-05-12T12:42:48.154550",
     "exception": false,
     "start_time": "2023-05-12T12:42:48.132005",
     "status": "completed"
    },
    "tags": []
   },
   "outputs": [],
   "source": [
    "def get_test_data_loaders(prompt_template):\n",
    "    test_data_loader = PromptDataLoader(\n",
    "        dataset = test_examples,\n",
    "        tokenizer = tokenizer,\n",
    "        template = prompt_template,\n",
    "        tokenizer_wrapper_class=wrapper_class,\n",
    "        batch_size=batch_size,\n",
    "        max_seq_length=max_seq_length,\n",
    "        truncation=True,\n",
    "        padding=\"max_length\"\n",
    "    ).dataloader\n",
    "    test_data_loader_latin = PromptDataLoader(\n",
    "        dataset = test_examples_latin,\n",
    "        tokenizer = tokenizer,\n",
    "        template = prompt_template,\n",
    "        tokenizer_wrapper_class=wrapper_class,\n",
    "        batch_size=batch_size,\n",
    "        max_seq_length=max_seq_length,\n",
    "        truncation=True,\n",
    "        padding=\"max_length\"\n",
    "    ).dataloader\n",
    "    test_data_loader_sinhala = PromptDataLoader(\n",
    "        dataset = test_examples_sinhala,\n",
    "        tokenizer = tokenizer,\n",
    "        template = prompt_template,\n",
    "        tokenizer_wrapper_class=wrapper_class,\n",
    "        batch_size=batch_size,\n",
    "        max_seq_length=max_seq_length,\n",
    "        truncation=True,\n",
    "        padding=\"max_length\"\n",
    "    ).dataloader\n",
    "    test_data_loader_mixed = PromptDataLoader(\n",
    "        dataset = test_examples_mixed,\n",
    "        tokenizer = tokenizer,\n",
    "        template = prompt_template,\n",
    "        tokenizer_wrapper_class=wrapper_class,\n",
    "        batch_size=batch_size,\n",
    "        max_seq_length=max_seq_length,\n",
    "        truncation=True,\n",
    "        padding=\"max_length\",\n",
    "    ).dataloader\n",
    "    \n",
    "    return test_data_loader, test_data_loader_latin, test_data_loader_sinhala, test_data_loader_mixed"
   ]
  },
  {
   "cell_type": "markdown",
   "id": "75944926",
   "metadata": {
    "papermill": {
     "duration": 0.01204,
     "end_time": "2023-05-12T12:42:48.179114",
     "exception": false,
     "start_time": "2023-05-12T12:42:48.167074",
     "status": "completed"
    },
    "tags": []
   },
   "source": [
    "## Define Evaluation Methods\n"
   ]
  },
  {
   "cell_type": "code",
   "execution_count": 18,
   "id": "e640ed94",
   "metadata": {
    "execution": {
     "iopub.execute_input": "2023-05-12T12:42:48.205157Z",
     "iopub.status.busy": "2023-05-12T12:42:48.204894Z",
     "iopub.status.idle": "2023-05-12T12:42:48.211108Z",
     "shell.execute_reply": "2023-05-12T12:42:48.210170Z"
    },
    "papermill": {
     "duration": 0.021291,
     "end_time": "2023-05-12T12:42:48.213176",
     "exception": false,
     "start_time": "2023-05-12T12:42:48.191885",
     "status": "completed"
    },
    "tags": []
   },
   "outputs": [],
   "source": [
    "def predict(promptModel, dataloader):\n",
    "    if use_cuda: promptModel=promptModel.cuda()\n",
    "    promptModel.eval()\n",
    "    allpreds = []\n",
    "    alllabels = []\n",
    "\n",
    "    for step, inputs in enumerate(dataloader):\n",
    "        if use_cuda: inputs = inputs.cuda()\n",
    "        logits = promptModel(inputs)\n",
    "        labels = inputs['label']\n",
    "        alllabels.extend(labels.cpu().tolist())\n",
    "        allpreds.extend(torch.argmax(logits, dim=-1).cpu().tolist())\n",
    "    return allpreds,alllabels"
   ]
  },
  {
   "cell_type": "code",
   "execution_count": 19,
   "id": "a34b22e3",
   "metadata": {
    "execution": {
     "iopub.execute_input": "2023-05-12T12:42:48.238789Z",
     "iopub.status.busy": "2023-05-12T12:42:48.238203Z",
     "iopub.status.idle": "2023-05-12T12:42:48.247077Z",
     "shell.execute_reply": "2023-05-12T12:42:48.246275Z"
    },
    "papermill": {
     "duration": 0.023562,
     "end_time": "2023-05-12T12:42:48.248893",
     "exception": false,
     "start_time": "2023-05-12T12:42:48.225331",
     "status": "completed"
    },
    "tags": []
   },
   "outputs": [],
   "source": [
    "def compute_metrics(allpreds,alllabels):\n",
    "    metric1 = load_metric(\"precision\")\n",
    "    metric2 = load_metric(\"recall\")\n",
    "    metric3 = load_metric(\"f1\")\n",
    "    metric4 = load_metric(\"accuracy\")\n",
    "    \n",
    "    predictions, labels = allpreds,alllabels\n",
    "    precision = metric1.compute(predictions=predictions, references=labels, average=\"weighted\")[\"precision\"]\n",
    "    recall = metric2.compute(predictions=predictions, references=labels, average=\"weighted\")[\"recall\"]\n",
    "    f1 = metric3.compute(predictions=predictions, references=labels, average=\"weighted\")[\"f1\"]\n",
    "    accuracy = metric4.compute(predictions=predictions, references=labels)[\"accuracy\"]\n",
    "    macro_precision = metric1.compute(predictions=predictions, references=labels, average=\"macro\")[\"precision\"]\n",
    "    macro_recall = metric2.compute(predictions=predictions, references=labels, average=\"macro\")[\"recall\"]\n",
    "    macro_f1 = metric3.compute(predictions=predictions, references=labels, average=\"macro\")[\"f1\"]\n",
    "    return {\"accuracy\":accuracy, \"precision\": precision, \"recall\": recall, \"f1\": f1, \"macro_precision\": macro_precision, \"macro_recall\": macro_recall, \"macro_f1\": macro_f1}"
   ]
  },
  {
   "cell_type": "code",
   "execution_count": 20,
   "id": "74b63a8f",
   "metadata": {
    "execution": {
     "iopub.execute_input": "2023-05-12T12:42:48.274624Z",
     "iopub.status.busy": "2023-05-12T12:42:48.273865Z",
     "iopub.status.idle": "2023-05-12T12:42:48.278536Z",
     "shell.execute_reply": "2023-05-12T12:42:48.277742Z"
    },
    "papermill": {
     "duration": 0.019524,
     "end_time": "2023-05-12T12:42:48.280451",
     "exception": false,
     "start_time": "2023-05-12T12:42:48.260927",
     "status": "completed"
    },
    "tags": []
   },
   "outputs": [],
   "source": [
    "def evaluate(promptModel, dataloader):\n",
    "    allpreds,alllabels=predict(promptModel, dataloader)\n",
    "    return compute_metrics(allpreds,alllabels)"
   ]
  },
  {
   "cell_type": "markdown",
   "id": "a6c1f074",
   "metadata": {
    "papermill": {
     "duration": 0.012148,
     "end_time": "2023-05-12T12:42:48.304931",
     "exception": false,
     "start_time": "2023-05-12T12:42:48.292783",
     "status": "completed"
    },
    "tags": []
   },
   "source": [
    "## Test\n"
   ]
  },
  {
   "cell_type": "code",
   "execution_count": 21,
   "id": "e9809ad0",
   "metadata": {
    "execution": {
     "iopub.execute_input": "2023-05-12T12:42:48.331759Z",
     "iopub.status.busy": "2023-05-12T12:42:48.330955Z",
     "iopub.status.idle": "2023-05-12T12:42:48.341263Z",
     "shell.execute_reply": "2023-05-12T12:42:48.340477Z"
    },
    "papermill": {
     "duration": 0.025797,
     "end_time": "2023-05-12T12:42:48.343186",
     "exception": false,
     "start_time": "2023-05-12T12:42:48.317389",
     "status": "completed"
    },
    "tags": []
   },
   "outputs": [],
   "source": [
    "def test(template, prompt_model, test_data_loader_latin, test_data_loader_sinhala, test_data_loader_mixed, test_data_loader_all):\n",
    "    t = PrettyTable()\n",
    "    t.field_names = ['Script', 'Accuracy', 'Precision', 'Recall', 'F1', 'Macro Pr.', 'Macro Re.', 'Macro F1']\n",
    "\n",
    "    res = evaluate(prompt_model, test_data_loader_latin)\n",
    "    res = {key : round(res[key], 4) for key in res}\n",
    "    t.add_row([\"Latin\", res['accuracy'], res['precision'], res['recall'], res['f1'], res['macro_precision'], res['macro_recall'], res['macro_f1']])\n",
    "    \n",
    "    res = evaluate(prompt_model, test_data_loader_sinhala)\n",
    "    res = {key : round(res[key], 4) for key in res}\n",
    "    t.add_row([\"Sinhala\", res['accuracy'], res['precision'], res['recall'], res['f1'], res['macro_precision'], res['macro_recall'], res['macro_f1']])\n",
    "    \n",
    "    res = evaluate(prompt_model, test_data_loader_mixed)\n",
    "    res = {key : round(res[key], 4) for key in res}\n",
    "    t.add_row([\"Mixed\", res['accuracy'], res['precision'], res['recall'], res['f1'], res['macro_precision'], res['macro_recall'], res['macro_f1']])\n",
    "    \n",
    "    res = evaluate(prompt_model, test_data_loader)\n",
    "    res = {key : round(res[key], 4) for key in res}\n",
    "    t.add_row([\"Overall\", res['accuracy'], res['precision'], res['recall'], res['f1'], res['macro_precision'], res['macro_recall'], res['macro_f1']])\n",
    "    \n",
    "    print(template)\n",
    "    print(t)"
   ]
  },
  {
   "cell_type": "code",
   "execution_count": 22,
   "id": "8c6032e5",
   "metadata": {
    "execution": {
     "iopub.execute_input": "2023-05-12T12:42:48.369245Z",
     "iopub.status.busy": "2023-05-12T12:42:48.368498Z",
     "iopub.status.idle": "2023-05-12T12:42:48.373975Z",
     "shell.execute_reply": "2023-05-12T12:42:48.373166Z"
    },
    "papermill": {
     "duration": 0.02045,
     "end_time": "2023-05-12T12:42:48.375881",
     "exception": false,
     "start_time": "2023-05-12T12:42:48.355431",
     "status": "completed"
    },
    "tags": []
   },
   "outputs": [],
   "source": [
    "sinhala_templates = [\n",
    "    '{\"placeholder\": \"text_a\"}. හැඟීම: {\"mask\"}.',\n",
    "    '{\"placeholder\": \"text_a\"}. එය {\"mask\"} විය.',\n",
    "    '{\"placeholder\": \"text_a\"}. මෙය {\"mask\"} ප්‍රකාශයකි.',\n",
    "    '{\"placeholder\": \"text_a\"}. සාරාංශයක් ලෙස, එය {\"mask\"} විය.',\n",
    "    '{\"placeholder\": \"text_a\"}. සමස්තයක් වශයෙන්, එය {\"mask\"} විය.',\n",
    "    '{\"placeholder\": \"text_a\"}. ප්‍රශ්නය: මෙම ප්‍රකාශයේ හැඟීම කුමක්ද? පිළිතුර: {\"mask\"}.'\n",
    "]\n",
    "\n",
    "english_templates = [\n",
    "    '{\"placeholder\": \"text_a\"}. {\"mask\"}.',\n",
    "    '{\"placeholder\": \"text_a\"}. It was {\"mask\"}.',\n",
    "    '{\"placeholder\": \"text_a\"}. Sentiment: {\"mask\"}.',\n",
    "    '{\"placeholder\": \"text_a\"}. In summary, it was {\"mask\"}.',\n",
    "    '{\"placeholder\": \"text_a\"}. All in all, it was {\"mask\"}.',\n",
    "    '{\"placeholder\": \"text_a\"}. Question: What is the sentiment of this statement? Answer: {\"mask\"}.',\n",
    "    '{\"placeholder\": \"text_a\"}. The sentiment or the feeling of the given sentence can be classified as positive, negative or neutral. The classified sentiment of the sentence is {\"mask\"}.'\n",
    "]"
   ]
  },
  {
   "cell_type": "code",
   "execution_count": 23,
   "id": "a6bc2da5",
   "metadata": {
    "execution": {
     "iopub.execute_input": "2023-05-12T12:42:48.401653Z",
     "iopub.status.busy": "2023-05-12T12:42:48.401170Z",
     "iopub.status.idle": "2023-05-12T12:47:09.929945Z",
     "shell.execute_reply": "2023-05-12T12:47:09.927039Z"
    },
    "papermill": {
     "duration": 261.57148,
     "end_time": "2023-05-12T12:47:09.959630",
     "exception": false,
     "start_time": "2023-05-12T12:42:48.388150",
     "status": "completed"
    },
    "tags": []
   },
   "outputs": [
    {
     "name": "stderr",
     "output_type": "stream",
     "text": [
      "tokenizing: 1352it [00:00, 1538.09it/s]\n",
      "tokenizing: 972it [00:00, 1039.17it/s]\n",
      "tokenizing: 184it [00:00, 1527.24it/s]\n",
      "tokenizing: 195it [00:00, 1435.61it/s]\n"
     ]
    },
    {
     "data": {
      "application/vnd.jupyter.widget-view+json": {
       "model_id": "9ac04a7fbe38400faef40b46bc15da12",
       "version_major": 2,
       "version_minor": 0
      },
      "text/plain": [
       "Downloading builder script:   0%|          | 0.00/2.20k [00:00<?, ?B/s]"
      ]
     },
     "metadata": {},
     "output_type": "display_data"
    },
    {
     "data": {
      "application/vnd.jupyter.widget-view+json": {
       "model_id": "5b1fc43626f843de8393cbb65a8d23f4",
       "version_major": 2,
       "version_minor": 0
      },
      "text/plain": [
       "Downloading builder script:   0%|          | 0.00/2.21k [00:00<?, ?B/s]"
      ]
     },
     "metadata": {},
     "output_type": "display_data"
    },
    {
     "data": {
      "application/vnd.jupyter.widget-view+json": {
       "model_id": "00746281a00141ffb05e06b90f32d54e",
       "version_major": 2,
       "version_minor": 0
      },
      "text/plain": [
       "Downloading builder script:   0%|          | 0.00/2.06k [00:00<?, ?B/s]"
      ]
     },
     "metadata": {},
     "output_type": "display_data"
    },
    {
     "data": {
      "application/vnd.jupyter.widget-view+json": {
       "model_id": "a46975afe6f046fea32eca70931bafa6",
       "version_major": 2,
       "version_minor": 0
      },
      "text/plain": [
       "Downloading builder script:   0%|          | 0.00/1.41k [00:00<?, ?B/s]"
      ]
     },
     "metadata": {},
     "output_type": "display_data"
    },
    {
     "name": "stdout",
     "output_type": "stream",
     "text": [
      "{\"placeholder\": \"text_a\"}. {\"mask\"}.\n",
      "+---------+----------+-----------+--------+--------+-----------+-----------+----------+\n",
      "|  Script | Accuracy | Precision | Recall |   F1   | Macro Pr. | Macro Re. | Macro F1 |\n",
      "+---------+----------+-----------+--------+--------+-----------+-----------+----------+\n",
      "|  Latin  |  0.2469  |   0.2605  | 0.2469 | 0.1135 |   0.1375  |   0.2367  |  0.1026  |\n",
      "| Sinhala |  0.2717  |    0.68   | 0.2717 | 0.1233 |   0.3169  |   0.2522  |   0.11   |\n",
      "|  Mixed  |  0.3385  |   0.1146  | 0.3385 | 0.1712 |   0.0846  |    0.25   |  0.1264  |\n",
      "| Overall |  0.2633  |   0.2826  | 0.2633 | 0.1223 |   0.1488  |   0.2413  |  0.1074  |\n",
      "+---------+----------+-----------+--------+--------+-----------+-----------+----------+\n"
     ]
    },
    {
     "name": "stderr",
     "output_type": "stream",
     "text": [
      "tokenizing: 1352it [00:00, 1465.72it/s]\n",
      "tokenizing: 972it [00:00, 1321.35it/s]\n",
      "tokenizing: 184it [00:00, 1002.82it/s]\n",
      "tokenizing: 195it [00:00, 974.06it/s]\n"
     ]
    },
    {
     "name": "stdout",
     "output_type": "stream",
     "text": [
      "{\"placeholder\": \"text_a\"}. It was {\"mask\"}.\n",
      "+---------+----------+-----------+--------+--------+-----------+-----------+----------+\n",
      "|  Script | Accuracy | Precision | Recall |   F1   | Macro Pr. | Macro Re. | Macro F1 |\n",
      "+---------+----------+-----------+--------+--------+-----------+-----------+----------+\n",
      "|  Latin  |  0.2562  |   0.3888  | 0.2562 | 0.1237 |   0.1877  |   0.2433  |  0.1078  |\n",
      "| Sinhala |  0.2663  |   0.0709  | 0.2663 | 0.112  |   0.0666  |    0.25   |  0.1052  |\n",
      "|  Mixed  |  0.3231  |   0.1111  | 0.3231 | 0.1653 |   0.082   |   0.2386  |  0.1221  |\n",
      "| Overall |  0.267   |   0.3509  | 0.267  | 0.1273 |   0.176   |   0.2436  |  0.1098  |\n",
      "+---------+----------+-----------+--------+--------+-----------+-----------+----------+\n"
     ]
    },
    {
     "name": "stderr",
     "output_type": "stream",
     "text": [
      "tokenizing: 1352it [00:00, 1439.58it/s]\n",
      "tokenizing: 972it [00:00, 1447.96it/s]\n",
      "tokenizing: 184it [00:00, 1398.69it/s]\n",
      "tokenizing: 195it [00:00, 1323.28it/s]\n"
     ]
    },
    {
     "name": "stdout",
     "output_type": "stream",
     "text": [
      "{\"placeholder\": \"text_a\"}. Sentiment: {\"mask\"}.\n",
      "+---------+----------+-----------+--------+--------+-----------+-----------+----------+\n",
      "|  Script | Accuracy | Precision | Recall |   F1   | Macro Pr. | Macro Re. | Macro F1 |\n",
      "+---------+----------+-----------+--------+--------+-----------+-----------+----------+\n",
      "|  Latin  |  0.2531  |   0.281   | 0.2531 | 0.1088 |   0.1464  |   0.2452  |  0.1026  |\n",
      "| Sinhala |  0.2663  |   0.0709  | 0.2663 | 0.112  |   0.0666  |    0.25   |  0.1052  |\n",
      "|  Mixed  |  0.3385  |   0.1146  | 0.3385 | 0.1712 |   0.0846  |    0.25   |  0.1264  |\n",
      "| Overall |  0.267   |   0.2838  | 0.267  | 0.1173 |    0.15   |   0.2468  |  0.1066  |\n",
      "+---------+----------+-----------+--------+--------+-----------+-----------+----------+\n"
     ]
    },
    {
     "name": "stderr",
     "output_type": "stream",
     "text": [
      "tokenizing: 1352it [00:00, 1389.34it/s]\n",
      "tokenizing: 972it [00:00, 1334.26it/s]\n",
      "tokenizing: 184it [00:00, 1328.45it/s]\n",
      "tokenizing: 195it [00:00, 1350.18it/s]\n"
     ]
    },
    {
     "name": "stdout",
     "output_type": "stream",
     "text": [
      "{\"placeholder\": \"text_a\"}. In summary, it was {\"mask\"}.\n",
      "+---------+----------+-----------+--------+--------+-----------+-----------+----------+\n",
      "|  Script | Accuracy | Precision | Recall |   F1   | Macro Pr. | Macro Re. | Macro F1 |\n",
      "+---------+----------+-----------+--------+--------+-----------+-----------+----------+\n",
      "|  Latin  |  0.2572  |   0.4083  | 0.2572 | 0.1206 |   0.1954  |   0.2455  |  0.107   |\n",
      "| Sinhala |  0.2609  |   0.0699  | 0.2609 | 0.1102 |   0.0656  |   0.2449  |  0.1034  |\n",
      "|  Mixed  |  0.3385  |   0.4114  | 0.3385 |  0.18  |   0.2092  |   0.2484  |  0.1297  |\n",
      "| Overall |  0.2692  |   0.3896  | 0.2692 | 0.1268 |   0.1914  |   0.246   |   0.11   |\n",
      "+---------+----------+-----------+--------+--------+-----------+-----------+----------+\n"
     ]
    },
    {
     "name": "stderr",
     "output_type": "stream",
     "text": [
      "tokenizing: 1352it [00:00, 1407.74it/s]\n",
      "tokenizing: 972it [00:00, 1457.19it/s]\n",
      "tokenizing: 184it [00:00, 1432.07it/s]\n",
      "tokenizing: 195it [00:00, 1376.71it/s]\n"
     ]
    },
    {
     "name": "stdout",
     "output_type": "stream",
     "text": [
      "{\"placeholder\": \"text_a\"}. All in all, it was {\"mask\"}.\n",
      "+---------+----------+-----------+--------+--------+-----------+-----------+----------+\n",
      "|  Script | Accuracy | Precision | Recall |   F1   | Macro Pr. | Macro Re. | Macro F1 |\n",
      "+---------+----------+-----------+--------+--------+-----------+-----------+----------+\n",
      "|  Latin  |  0.2541  |   0.3597  | 0.2541 | 0.1127 |   0.1767  |   0.245   |  0.104   |\n",
      "| Sinhala |  0.2663  |   0.0709  | 0.2663 | 0.112  |   0.0666  |    0.25   |  0.1052  |\n",
      "|  Mixed  |  0.3333  |   0.1134  | 0.3333 | 0.1692 |   0.0838  |   0.2462  |  0.125   |\n",
      "| Overall |  0.267   |   0.3366  | 0.267  | 0.1199 |   0.1706  |   0.246   |  0.1074  |\n",
      "+---------+----------+-----------+--------+--------+-----------+-----------+----------+\n"
     ]
    },
    {
     "name": "stderr",
     "output_type": "stream",
     "text": [
      "tokenizing: 1352it [00:01, 1290.75it/s]\n",
      "tokenizing: 972it [00:01, 934.39it/s]\n",
      "tokenizing: 184it [00:00, 1306.93it/s]\n",
      "tokenizing: 195it [00:00, 1238.65it/s]\n"
     ]
    },
    {
     "name": "stdout",
     "output_type": "stream",
     "text": [
      "{\"placeholder\": \"text_a\"}. Question: What is the sentiment of this statement? Answer: {\"mask\"}.\n",
      "+---------+----------+-----------+--------+--------+-----------+-----------+----------+\n",
      "|  Script | Accuracy | Precision | Recall |   F1   | Macro Pr. | Macro Re. | Macro F1 |\n",
      "+---------+----------+-----------+--------+--------+-----------+-----------+----------+\n",
      "|  Latin  |  0.2562  |   0.0656  | 0.2562 | 0.1045 |   0.064   |    0.25   |  0.102   |\n",
      "| Sinhala |  0.2663  |   0.0709  | 0.2663 | 0.112  |   0.0666  |    0.25   |  0.1052  |\n",
      "|  Mixed  |  0.3385  |   0.1146  | 0.3385 | 0.1712 |   0.0846  |    0.25   |  0.1264  |\n",
      "| Overall |  0.2692  |   0.0725  | 0.2692 | 0.1142 |   0.0673  |    0.25   |  0.1061  |\n",
      "+---------+----------+-----------+--------+--------+-----------+-----------+----------+\n"
     ]
    },
    {
     "name": "stderr",
     "output_type": "stream",
     "text": [
      "tokenizing: 1352it [00:01, 961.39it/s]\n",
      "tokenizing: 972it [00:00, 1040.56it/s]\n",
      "tokenizing: 184it [00:00, 1052.88it/s]\n",
      "tokenizing: 195it [00:00, 985.60it/s]\n"
     ]
    },
    {
     "name": "stdout",
     "output_type": "stream",
     "text": [
      "{\"placeholder\": \"text_a\"}. The sentiment or the feeling of the given sentence can be classified as positive, negative or neutral. The classified sentiment of the sentence is {\"mask\"}.\n",
      "+---------+----------+-----------+--------+--------+-----------+-----------+----------+\n",
      "|  Script | Accuracy | Precision | Recall |   F1   | Macro Pr. | Macro Re. | Macro F1 |\n",
      "+---------+----------+-----------+--------+--------+-----------+-----------+----------+\n",
      "|  Latin  |  0.2551  |   0.0654  | 0.2551 | 0.1041 |   0.0639  |   0.249   |  0.1016  |\n",
      "| Sinhala |  0.2663  |   0.0709  | 0.2663 | 0.112  |   0.0666  |    0.25   |  0.1052  |\n",
      "|  Mixed  |  0.3385  |   0.1146  | 0.3385 | 0.1712 |   0.0846  |    0.25   |  0.1264  |\n",
      "| Overall |  0.2685  |   0.0723  | 0.2685 | 0.114  |   0.0672  |   0.2493  |  0.1058  |\n",
      "+---------+----------+-----------+--------+--------+-----------+-----------+----------+\n"
     ]
    }
   ],
   "source": [
    "for template in english_templates:\n",
    "    prompt_template, prompt_model = get_prompttemplate_and_model(template)\n",
    "    test_data_loader, test_data_loader_latin, test_data_loader_sinhala, test_data_loader_mixed = get_test_data_loaders(prompt_template)\n",
    "    test(template, prompt_model, test_data_loader_latin, test_data_loader_sinhala, test_data_loader_mixed, test_data_loader)"
   ]
  }
 ],
 "metadata": {
  "kernelspec": {
   "display_name": "Python 3",
   "language": "python",
   "name": "python3"
  },
  "language_info": {
   "codemirror_mode": {
    "name": "ipython",
    "version": 3
   },
   "file_extension": ".py",
   "mimetype": "text/x-python",
   "name": "python",
   "nbconvert_exporter": "python",
   "pygments_lexer": "ipython3",
   "version": "3.10.10"
  },
  "papermill": {
   "default_parameters": {},
   "duration": 357.851726,
   "end_time": "2023-05-12T12:47:13.299628",
   "environment_variables": {},
   "exception": null,
   "input_path": "__notebook__.ipynb",
   "output_path": "__notebook__.ipynb",
   "parameters": {},
   "start_time": "2023-05-12T12:41:15.447902",
   "version": "2.4.0"
  },
  "widgets": {
   "application/vnd.jupyter.widget-state+json": {
    "state": {
     "00746281a00141ffb05e06b90f32d54e": {
      "model_module": "@jupyter-widgets/controls",
      "model_module_version": "1.5.0",
      "model_name": "HBoxModel",
      "state": {
       "_dom_classes": [],
       "_model_module": "@jupyter-widgets/controls",
       "_model_module_version": "1.5.0",
       "_model_name": "HBoxModel",
       "_view_count": null,
       "_view_module": "@jupyter-widgets/controls",
       "_view_module_version": "1.5.0",
       "_view_name": "HBoxView",
       "box_style": "",
       "children": [
        "IPY_MODEL_894ddacf2b664cf784379a871f4845e6",
        "IPY_MODEL_8cd96fe92b454a9789c80d4a796e6c4d",
        "IPY_MODEL_01d4c6b6063f4abcac34c7e3a831b7d9"
       ],
       "layout": "IPY_MODEL_87454df0ddec4136926f78032931be7d"
      }
     },
     "01a2cb643f8541fcac141e97a4e6eb99": {
      "model_module": "@jupyter-widgets/base",
      "model_module_version": "1.2.0",
      "model_name": "LayoutModel",
      "state": {
       "_model_module": "@jupyter-widgets/base",
       "_model_module_version": "1.2.0",
       "_model_name": "LayoutModel",
       "_view_count": null,
       "_view_module": "@jupyter-widgets/base",
       "_view_module_version": "1.2.0",
       "_view_name": "LayoutView",
       "align_content": null,
       "align_items": null,
       "align_self": null,
       "border": null,
       "bottom": null,
       "display": null,
       "flex": null,
       "flex_flow": null,
       "grid_area": null,
       "grid_auto_columns": null,
       "grid_auto_flow": null,
       "grid_auto_rows": null,
       "grid_column": null,
       "grid_gap": null,
       "grid_row": null,
       "grid_template_areas": null,
       "grid_template_columns": null,
       "grid_template_rows": null,
       "height": null,
       "justify_content": null,
       "justify_items": null,
       "left": null,
       "margin": null,
       "max_height": null,
       "max_width": null,
       "min_height": null,
       "min_width": null,
       "object_fit": null,
       "object_position": null,
       "order": null,
       "overflow": null,
       "overflow_x": null,
       "overflow_y": null,
       "padding": null,
       "right": null,
       "top": null,
       "visibility": null,
       "width": null
      }
     },
     "01d4c6b6063f4abcac34c7e3a831b7d9": {
      "model_module": "@jupyter-widgets/controls",
      "model_module_version": "1.5.0",
      "model_name": "HTMLModel",
      "state": {
       "_dom_classes": [],
       "_model_module": "@jupyter-widgets/controls",
       "_model_module_version": "1.5.0",
       "_model_name": "HTMLModel",
       "_view_count": null,
       "_view_module": "@jupyter-widgets/controls",
       "_view_module_version": "1.5.0",
       "_view_name": "HTMLView",
       "description": "",
       "description_tooltip": null,
       "layout": "IPY_MODEL_9190488023524a2eae678d4d7dbef086",
       "placeholder": "​",
       "style": "IPY_MODEL_fb186453b784479d8c936b9b4fdfb779",
       "value": " 5.27k/? [00:00&lt;00:00, 361kB/s]"
      }
     },
     "06b81de0bf3b4e6db242bfcc8c77cf52": {
      "model_module": "@jupyter-widgets/base",
      "model_module_version": "1.2.0",
      "model_name": "LayoutModel",
      "state": {
       "_model_module": "@jupyter-widgets/base",
       "_model_module_version": "1.2.0",
       "_model_name": "LayoutModel",
       "_view_count": null,
       "_view_module": "@jupyter-widgets/base",
       "_view_module_version": "1.2.0",
       "_view_name": "LayoutView",
       "align_content": null,
       "align_items": null,
       "align_self": null,
       "border": null,
       "bottom": null,
       "display": null,
       "flex": null,
       "flex_flow": null,
       "grid_area": null,
       "grid_auto_columns": null,
       "grid_auto_flow": null,
       "grid_auto_rows": null,
       "grid_column": null,
       "grid_gap": null,
       "grid_row": null,
       "grid_template_areas": null,
       "grid_template_columns": null,
       "grid_template_rows": null,
       "height": null,
       "justify_content": null,
       "justify_items": null,
       "left": null,
       "margin": null,
       "max_height": null,
       "max_width": null,
       "min_height": null,
       "min_width": null,
       "object_fit": null,
       "object_position": null,
       "order": null,
       "overflow": null,
       "overflow_x": null,
       "overflow_y": null,
       "padding": null,
       "right": null,
       "top": null,
       "visibility": null,
       "width": null
      }
     },
     "07d1cdef97514a82b2fb84ab59a13d95": {
      "model_module": "@jupyter-widgets/base",
      "model_module_version": "1.2.0",
      "model_name": "LayoutModel",
      "state": {
       "_model_module": "@jupyter-widgets/base",
       "_model_module_version": "1.2.0",
       "_model_name": "LayoutModel",
       "_view_count": null,
       "_view_module": "@jupyter-widgets/base",
       "_view_module_version": "1.2.0",
       "_view_name": "LayoutView",
       "align_content": null,
       "align_items": null,
       "align_self": null,
       "border": null,
       "bottom": null,
       "display": null,
       "flex": null,
       "flex_flow": null,
       "grid_area": null,
       "grid_auto_columns": null,
       "grid_auto_flow": null,
       "grid_auto_rows": null,
       "grid_column": null,
       "grid_gap": null,
       "grid_row": null,
       "grid_template_areas": null,
       "grid_template_columns": null,
       "grid_template_rows": null,
       "height": null,
       "justify_content": null,
       "justify_items": null,
       "left": null,
       "margin": null,
       "max_height": null,
       "max_width": null,
       "min_height": null,
       "min_width": null,
       "object_fit": null,
       "object_position": null,
       "order": null,
       "overflow": null,
       "overflow_x": null,
       "overflow_y": null,
       "padding": null,
       "right": null,
       "top": null,
       "visibility": null,
       "width": null
      }
     },
     "0b4e7ff9b6184f05b1a48670f947040a": {
      "model_module": "@jupyter-widgets/controls",
      "model_module_version": "1.5.0",
      "model_name": "DescriptionStyleModel",
      "state": {
       "_model_module": "@jupyter-widgets/controls",
       "_model_module_version": "1.5.0",
       "_model_name": "DescriptionStyleModel",
       "_view_count": null,
       "_view_module": "@jupyter-widgets/base",
       "_view_module_version": "1.2.0",
       "_view_name": "StyleView",
       "description_width": ""
      }
     },
     "0e5ac623de9b4339a6651abcf915c9e1": {
      "model_module": "@jupyter-widgets/controls",
      "model_module_version": "1.5.0",
      "model_name": "ProgressStyleModel",
      "state": {
       "_model_module": "@jupyter-widgets/controls",
       "_model_module_version": "1.5.0",
       "_model_name": "ProgressStyleModel",
       "_view_count": null,
       "_view_module": "@jupyter-widgets/base",
       "_view_module_version": "1.2.0",
       "_view_name": "StyleView",
       "bar_color": null,
       "description_width": ""
      }
     },
     "11f08147a5074afd9181aae5123106dc": {
      "model_module": "@jupyter-widgets/controls",
      "model_module_version": "1.5.0",
      "model_name": "FloatProgressModel",
      "state": {
       "_dom_classes": [],
       "_model_module": "@jupyter-widgets/controls",
       "_model_module_version": "1.5.0",
       "_model_name": "FloatProgressModel",
       "_view_count": null,
       "_view_module": "@jupyter-widgets/controls",
       "_view_module_version": "1.5.0",
       "_view_name": "ProgressView",
       "bar_style": "success",
       "description": "",
       "description_tooltip": null,
       "layout": "IPY_MODEL_672d05d720424c56807f6daec82e2782",
       "max": 1115590446.0,
       "min": 0.0,
       "orientation": "horizontal",
       "style": "IPY_MODEL_fa238483c4914c57a587876f1872b473",
       "value": 1115590446.0
      }
     },
     "136c7ea1c4d643c6b6194dbefe6a1f47": {
      "model_module": "@jupyter-widgets/controls",
      "model_module_version": "1.5.0",
      "model_name": "HTMLModel",
      "state": {
       "_dom_classes": [],
       "_model_module": "@jupyter-widgets/controls",
       "_model_module_version": "1.5.0",
       "_model_name": "HTMLModel",
       "_view_count": null,
       "_view_module": "@jupyter-widgets/controls",
       "_view_module_version": "1.5.0",
       "_view_name": "HTMLView",
       "description": "",
       "description_tooltip": null,
       "layout": "IPY_MODEL_af4c90548e9748199e102ec8841e894e",
       "placeholder": "​",
       "style": "IPY_MODEL_e8f583279a094897a6d4ebfbfc112021",
       "value": " 1.04G/1.04G [00:18&lt;00:00, 65.0MB/s]"
      }
     },
     "19ca7708963b4cb482ba5cc7e84cf857": {
      "model_module": "@jupyter-widgets/controls",
      "model_module_version": "1.5.0",
      "model_name": "HTMLModel",
      "state": {
       "_dom_classes": [],
       "_model_module": "@jupyter-widgets/controls",
       "_model_module_version": "1.5.0",
       "_model_name": "HTMLModel",
       "_view_count": null,
       "_view_module": "@jupyter-widgets/controls",
       "_view_module_version": "1.5.0",
       "_view_name": "HTMLView",
       "description": "",
       "description_tooltip": null,
       "layout": "IPY_MODEL_e02c9a18c578431996ad7dc4a3fd065e",
       "placeholder": "​",
       "style": "IPY_MODEL_1f51fce6b42b47daa97114f707ceda2b",
       "value": "Downloading sentencepiece.bpe.model: 100%"
      }
     },
     "19ed806ee8fb404397f1611c3d4e9570": {
      "model_module": "@jupyter-widgets/controls",
      "model_module_version": "1.5.0",
      "model_name": "ProgressStyleModel",
      "state": {
       "_model_module": "@jupyter-widgets/controls",
       "_model_module_version": "1.5.0",
       "_model_name": "ProgressStyleModel",
       "_view_count": null,
       "_view_module": "@jupyter-widgets/base",
       "_view_module_version": "1.2.0",
       "_view_name": "StyleView",
       "bar_color": null,
       "description_width": ""
      }
     },
     "1b8a36c4784349d3ac0194a89a5d97c8": {
      "model_module": "@jupyter-widgets/controls",
      "model_module_version": "1.5.0",
      "model_name": "DescriptionStyleModel",
      "state": {
       "_model_module": "@jupyter-widgets/controls",
       "_model_module_version": "1.5.0",
       "_model_name": "DescriptionStyleModel",
       "_view_count": null,
       "_view_module": "@jupyter-widgets/base",
       "_view_module_version": "1.2.0",
       "_view_name": "StyleView",
       "description_width": ""
      }
     },
     "1f51fce6b42b47daa97114f707ceda2b": {
      "model_module": "@jupyter-widgets/controls",
      "model_module_version": "1.5.0",
      "model_name": "DescriptionStyleModel",
      "state": {
       "_model_module": "@jupyter-widgets/controls",
       "_model_module_version": "1.5.0",
       "_model_name": "DescriptionStyleModel",
       "_view_count": null,
       "_view_module": "@jupyter-widgets/base",
       "_view_module_version": "1.2.0",
       "_view_name": "StyleView",
       "description_width": ""
      }
     },
     "20d957d99a5040879f76536d431635ef": {
      "model_module": "@jupyter-widgets/controls",
      "model_module_version": "1.5.0",
      "model_name": "FloatProgressModel",
      "state": {
       "_dom_classes": [],
       "_model_module": "@jupyter-widgets/controls",
       "_model_module_version": "1.5.0",
       "_model_name": "FloatProgressModel",
       "_view_count": null,
       "_view_module": "@jupyter-widgets/controls",
       "_view_module_version": "1.5.0",
       "_view_name": "ProgressView",
       "bar_style": "success",
       "description": "",
       "description_tooltip": null,
       "layout": "IPY_MODEL_d73e442ccf99482eb98b6900caadf5eb",
       "max": 1411.0,
       "min": 0.0,
       "orientation": "horizontal",
       "style": "IPY_MODEL_aeab134f7b5e48eaa5f850cde2979a35",
       "value": 1411.0
      }
     },
     "23697daab92047d9b44751072933f0b5": {
      "model_module": "@jupyter-widgets/controls",
      "model_module_version": "1.5.0",
      "model_name": "HTMLModel",
      "state": {
       "_dom_classes": [],
       "_model_module": "@jupyter-widgets/controls",
       "_model_module_version": "1.5.0",
       "_model_name": "HTMLModel",
       "_view_count": null,
       "_view_module": "@jupyter-widgets/controls",
       "_view_module_version": "1.5.0",
       "_view_name": "HTMLView",
       "description": "",
       "description_tooltip": null,
       "layout": "IPY_MODEL_513171dcb8334110b8eae0893aadcf17",
       "placeholder": "​",
       "style": "IPY_MODEL_b6af7c5c26034222b0b065f9bcacd4a1",
       "value": " 615/615 [00:00&lt;00:00, 40.9kB/s]"
      }
     },
     "2629411f1b254a3490ed86b557ae8562": {
      "model_module": "@jupyter-widgets/controls",
      "model_module_version": "1.5.0",
      "model_name": "DescriptionStyleModel",
      "state": {
       "_model_module": "@jupyter-widgets/controls",
       "_model_module_version": "1.5.0",
       "_model_name": "DescriptionStyleModel",
       "_view_count": null,
       "_view_module": "@jupyter-widgets/base",
       "_view_module_version": "1.2.0",
       "_view_name": "StyleView",
       "description_width": ""
      }
     },
     "262c07dc81614121825a913960b72e9f": {
      "model_module": "@jupyter-widgets/base",
      "model_module_version": "1.2.0",
      "model_name": "LayoutModel",
      "state": {
       "_model_module": "@jupyter-widgets/base",
       "_model_module_version": "1.2.0",
       "_model_name": "LayoutModel",
       "_view_count": null,
       "_view_module": "@jupyter-widgets/base",
       "_view_module_version": "1.2.0",
       "_view_name": "LayoutView",
       "align_content": null,
       "align_items": null,
       "align_self": null,
       "border": null,
       "bottom": null,
       "display": null,
       "flex": null,
       "flex_flow": null,
       "grid_area": null,
       "grid_auto_columns": null,
       "grid_auto_flow": null,
       "grid_auto_rows": null,
       "grid_column": null,
       "grid_gap": null,
       "grid_row": null,
       "grid_template_areas": null,
       "grid_template_columns": null,
       "grid_template_rows": null,
       "height": null,
       "justify_content": null,
       "justify_items": null,
       "left": null,
       "margin": null,
       "max_height": null,
       "max_width": null,
       "min_height": null,
       "min_width": null,
       "object_fit": null,
       "object_position": null,
       "order": null,
       "overflow": null,
       "overflow_x": null,
       "overflow_y": null,
       "padding": null,
       "right": null,
       "top": null,
       "visibility": null,
       "width": null
      }
     },
     "2d1d6f7f0a7443fca86282e40cde347a": {
      "model_module": "@jupyter-widgets/base",
      "model_module_version": "1.2.0",
      "model_name": "LayoutModel",
      "state": {
       "_model_module": "@jupyter-widgets/base",
       "_model_module_version": "1.2.0",
       "_model_name": "LayoutModel",
       "_view_count": null,
       "_view_module": "@jupyter-widgets/base",
       "_view_module_version": "1.2.0",
       "_view_name": "LayoutView",
       "align_content": null,
       "align_items": null,
       "align_self": null,
       "border": null,
       "bottom": null,
       "display": null,
       "flex": null,
       "flex_flow": null,
       "grid_area": null,
       "grid_auto_columns": null,
       "grid_auto_flow": null,
       "grid_auto_rows": null,
       "grid_column": null,
       "grid_gap": null,
       "grid_row": null,
       "grid_template_areas": null,
       "grid_template_columns": null,
       "grid_template_rows": null,
       "height": null,
       "justify_content": null,
       "justify_items": null,
       "left": null,
       "margin": null,
       "max_height": null,
       "max_width": null,
       "min_height": null,
       "min_width": null,
       "object_fit": null,
       "object_position": null,
       "order": null,
       "overflow": null,
       "overflow_x": null,
       "overflow_y": null,
       "padding": null,
       "right": null,
       "top": null,
       "visibility": null,
       "width": null
      }
     },
     "2ebfc56c94a94d6a92a919a6d1c0f882": {
      "model_module": "@jupyter-widgets/base",
      "model_module_version": "1.2.0",
      "model_name": "LayoutModel",
      "state": {
       "_model_module": "@jupyter-widgets/base",
       "_model_module_version": "1.2.0",
       "_model_name": "LayoutModel",
       "_view_count": null,
       "_view_module": "@jupyter-widgets/base",
       "_view_module_version": "1.2.0",
       "_view_name": "LayoutView",
       "align_content": null,
       "align_items": null,
       "align_self": null,
       "border": null,
       "bottom": null,
       "display": null,
       "flex": null,
       "flex_flow": null,
       "grid_area": null,
       "grid_auto_columns": null,
       "grid_auto_flow": null,
       "grid_auto_rows": null,
       "grid_column": null,
       "grid_gap": null,
       "grid_row": null,
       "grid_template_areas": null,
       "grid_template_columns": null,
       "grid_template_rows": null,
       "height": null,
       "justify_content": null,
       "justify_items": null,
       "left": null,
       "margin": null,
       "max_height": null,
       "max_width": null,
       "min_height": null,
       "min_width": null,
       "object_fit": null,
       "object_position": null,
       "order": null,
       "overflow": null,
       "overflow_x": null,
       "overflow_y": null,
       "padding": null,
       "right": null,
       "top": null,
       "visibility": null,
       "width": null
      }
     },
     "36b22daeab67485982feded84f449f44": {
      "model_module": "@jupyter-widgets/base",
      "model_module_version": "1.2.0",
      "model_name": "LayoutModel",
      "state": {
       "_model_module": "@jupyter-widgets/base",
       "_model_module_version": "1.2.0",
       "_model_name": "LayoutModel",
       "_view_count": null,
       "_view_module": "@jupyter-widgets/base",
       "_view_module_version": "1.2.0",
       "_view_name": "LayoutView",
       "align_content": null,
       "align_items": null,
       "align_self": null,
       "border": null,
       "bottom": null,
       "display": null,
       "flex": null,
       "flex_flow": null,
       "grid_area": null,
       "grid_auto_columns": null,
       "grid_auto_flow": null,
       "grid_auto_rows": null,
       "grid_column": null,
       "grid_gap": null,
       "grid_row": null,
       "grid_template_areas": null,
       "grid_template_columns": null,
       "grid_template_rows": null,
       "height": null,
       "justify_content": null,
       "justify_items": null,
       "left": null,
       "margin": null,
       "max_height": null,
       "max_width": null,
       "min_height": null,
       "min_width": null,
       "object_fit": null,
       "object_position": null,
       "order": null,
       "overflow": null,
       "overflow_x": null,
       "overflow_y": null,
       "padding": null,
       "right": null,
       "top": null,
       "visibility": null,
       "width": null
      }
     },
     "3fc2f16142aa4525a41936806a15b1da": {
      "model_module": "@jupyter-widgets/controls",
      "model_module_version": "1.5.0",
      "model_name": "HTMLModel",
      "state": {
       "_dom_classes": [],
       "_model_module": "@jupyter-widgets/controls",
       "_model_module_version": "1.5.0",
       "_model_name": "HTMLModel",
       "_view_count": null,
       "_view_module": "@jupyter-widgets/controls",
       "_view_module_version": "1.5.0",
       "_view_name": "HTMLView",
       "description": "",
       "description_tooltip": null,
       "layout": "IPY_MODEL_d512c88552a34892a05a226c7dbd602b",
       "placeholder": "​",
       "style": "IPY_MODEL_b974489d02a34c8a80428ee986eff1bc",
       "value": " 5.76k/? [00:00&lt;00:00, 307kB/s]"
      }
     },
     "4178ffb655714dd08061a3dc97bbfd99": {
      "model_module": "@jupyter-widgets/base",
      "model_module_version": "1.2.0",
      "model_name": "LayoutModel",
      "state": {
       "_model_module": "@jupyter-widgets/base",
       "_model_module_version": "1.2.0",
       "_model_name": "LayoutModel",
       "_view_count": null,
       "_view_module": "@jupyter-widgets/base",
       "_view_module_version": "1.2.0",
       "_view_name": "LayoutView",
       "align_content": null,
       "align_items": null,
       "align_self": null,
       "border": null,
       "bottom": null,
       "display": null,
       "flex": null,
       "flex_flow": null,
       "grid_area": null,
       "grid_auto_columns": null,
       "grid_auto_flow": null,
       "grid_auto_rows": null,
       "grid_column": null,
       "grid_gap": null,
       "grid_row": null,
       "grid_template_areas": null,
       "grid_template_columns": null,
       "grid_template_rows": null,
       "height": null,
       "justify_content": null,
       "justify_items": null,
       "left": null,
       "margin": null,
       "max_height": null,
       "max_width": null,
       "min_height": null,
       "min_width": null,
       "object_fit": null,
       "object_position": null,
       "order": null,
       "overflow": null,
       "overflow_x": null,
       "overflow_y": null,
       "padding": null,
       "right": null,
       "top": null,
       "visibility": null,
       "width": null
      }
     },
     "43b4baab1b7d4390bbb418d8dbb8174d": {
      "model_module": "@jupyter-widgets/controls",
      "model_module_version": "1.5.0",
      "model_name": "DescriptionStyleModel",
      "state": {
       "_model_module": "@jupyter-widgets/controls",
       "_model_module_version": "1.5.0",
       "_model_name": "DescriptionStyleModel",
       "_view_count": null,
       "_view_module": "@jupyter-widgets/base",
       "_view_module_version": "1.2.0",
       "_view_name": "StyleView",
       "description_width": ""
      }
     },
     "45f33bb189cb480a86f9c5d174779840": {
      "model_module": "@jupyter-widgets/controls",
      "model_module_version": "1.5.0",
      "model_name": "HTMLModel",
      "state": {
       "_dom_classes": [],
       "_model_module": "@jupyter-widgets/controls",
       "_model_module_version": "1.5.0",
       "_model_name": "HTMLModel",
       "_view_count": null,
       "_view_module": "@jupyter-widgets/controls",
       "_view_module_version": "1.5.0",
       "_view_name": "HTMLView",
       "description": "",
       "description_tooltip": null,
       "layout": "IPY_MODEL_2d1d6f7f0a7443fca86282e40cde347a",
       "placeholder": "​",
       "style": "IPY_MODEL_80105626d5d349c59bdf5f394ecd2b8e",
       "value": " 3.19k/? [00:00&lt;00:00, 197kB/s]"
      }
     },
     "47ad8b01c52a45c6a539c06109f29001": {
      "model_module": "@jupyter-widgets/base",
      "model_module_version": "1.2.0",
      "model_name": "LayoutModel",
      "state": {
       "_model_module": "@jupyter-widgets/base",
       "_model_module_version": "1.2.0",
       "_model_name": "LayoutModel",
       "_view_count": null,
       "_view_module": "@jupyter-widgets/base",
       "_view_module_version": "1.2.0",
       "_view_name": "LayoutView",
       "align_content": null,
       "align_items": null,
       "align_self": null,
       "border": null,
       "bottom": null,
       "display": null,
       "flex": null,
       "flex_flow": null,
       "grid_area": null,
       "grid_auto_columns": null,
       "grid_auto_flow": null,
       "grid_auto_rows": null,
       "grid_column": null,
       "grid_gap": null,
       "grid_row": null,
       "grid_template_areas": null,
       "grid_template_columns": null,
       "grid_template_rows": null,
       "height": null,
       "justify_content": null,
       "justify_items": null,
       "left": null,
       "margin": null,
       "max_height": null,
       "max_width": null,
       "min_height": null,
       "min_width": null,
       "object_fit": null,
       "object_position": null,
       "order": null,
       "overflow": null,
       "overflow_x": null,
       "overflow_y": null,
       "padding": null,
       "right": null,
       "top": null,
       "visibility": null,
       "width": null
      }
     },
     "490f6e41c43042f8bf566305d8a2a8fc": {
      "model_module": "@jupyter-widgets/base",
      "model_module_version": "1.2.0",
      "model_name": "LayoutModel",
      "state": {
       "_model_module": "@jupyter-widgets/base",
       "_model_module_version": "1.2.0",
       "_model_name": "LayoutModel",
       "_view_count": null,
       "_view_module": "@jupyter-widgets/base",
       "_view_module_version": "1.2.0",
       "_view_name": "LayoutView",
       "align_content": null,
       "align_items": null,
       "align_self": null,
       "border": null,
       "bottom": null,
       "display": null,
       "flex": null,
       "flex_flow": null,
       "grid_area": null,
       "grid_auto_columns": null,
       "grid_auto_flow": null,
       "grid_auto_rows": null,
       "grid_column": null,
       "grid_gap": null,
       "grid_row": null,
       "grid_template_areas": null,
       "grid_template_columns": null,
       "grid_template_rows": null,
       "height": null,
       "justify_content": null,
       "justify_items": null,
       "left": null,
       "margin": null,
       "max_height": null,
       "max_width": null,
       "min_height": null,
       "min_width": null,
       "object_fit": null,
       "object_position": null,
       "order": null,
       "overflow": null,
       "overflow_x": null,
       "overflow_y": null,
       "padding": null,
       "right": null,
       "top": null,
       "visibility": null,
       "width": null
      }
     },
     "4de21b4e03624167aed1d1c2a1b22e07": {
      "model_module": "@jupyter-widgets/base",
      "model_module_version": "1.2.0",
      "model_name": "LayoutModel",
      "state": {
       "_model_module": "@jupyter-widgets/base",
       "_model_module_version": "1.2.0",
       "_model_name": "LayoutModel",
       "_view_count": null,
       "_view_module": "@jupyter-widgets/base",
       "_view_module_version": "1.2.0",
       "_view_name": "LayoutView",
       "align_content": null,
       "align_items": null,
       "align_self": null,
       "border": null,
       "bottom": null,
       "display": null,
       "flex": null,
       "flex_flow": null,
       "grid_area": null,
       "grid_auto_columns": null,
       "grid_auto_flow": null,
       "grid_auto_rows": null,
       "grid_column": null,
       "grid_gap": null,
       "grid_row": null,
       "grid_template_areas": null,
       "grid_template_columns": null,
       "grid_template_rows": null,
       "height": null,
       "justify_content": null,
       "justify_items": null,
       "left": null,
       "margin": null,
       "max_height": null,
       "max_width": null,
       "min_height": null,
       "min_width": null,
       "object_fit": null,
       "object_position": null,
       "order": null,
       "overflow": null,
       "overflow_x": null,
       "overflow_y": null,
       "padding": null,
       "right": null,
       "top": null,
       "visibility": null,
       "width": null
      }
     },
     "4f015bc1ab2943a4911a0c2dea8575cd": {
      "model_module": "@jupyter-widgets/controls",
      "model_module_version": "1.5.0",
      "model_name": "DescriptionStyleModel",
      "state": {
       "_model_module": "@jupyter-widgets/controls",
       "_model_module_version": "1.5.0",
       "_model_name": "DescriptionStyleModel",
       "_view_count": null,
       "_view_module": "@jupyter-widgets/base",
       "_view_module_version": "1.2.0",
       "_view_name": "StyleView",
       "description_width": ""
      }
     },
     "513171dcb8334110b8eae0893aadcf17": {
      "model_module": "@jupyter-widgets/base",
      "model_module_version": "1.2.0",
      "model_name": "LayoutModel",
      "state": {
       "_model_module": "@jupyter-widgets/base",
       "_model_module_version": "1.2.0",
       "_model_name": "LayoutModel",
       "_view_count": null,
       "_view_module": "@jupyter-widgets/base",
       "_view_module_version": "1.2.0",
       "_view_name": "LayoutView",
       "align_content": null,
       "align_items": null,
       "align_self": null,
       "border": null,
       "bottom": null,
       "display": null,
       "flex": null,
       "flex_flow": null,
       "grid_area": null,
       "grid_auto_columns": null,
       "grid_auto_flow": null,
       "grid_auto_rows": null,
       "grid_column": null,
       "grid_gap": null,
       "grid_row": null,
       "grid_template_areas": null,
       "grid_template_columns": null,
       "grid_template_rows": null,
       "height": null,
       "justify_content": null,
       "justify_items": null,
       "left": null,
       "margin": null,
       "max_height": null,
       "max_width": null,
       "min_height": null,
       "min_width": null,
       "object_fit": null,
       "object_position": null,
       "order": null,
       "overflow": null,
       "overflow_x": null,
       "overflow_y": null,
       "padding": null,
       "right": null,
       "top": null,
       "visibility": null,
       "width": null
      }
     },
     "55d17eea0be14ef9a1f43c96a018fe5c": {
      "model_module": "@jupyter-widgets/controls",
      "model_module_version": "1.5.0",
      "model_name": "HTMLModel",
      "state": {
       "_dom_classes": [],
       "_model_module": "@jupyter-widgets/controls",
       "_model_module_version": "1.5.0",
       "_model_name": "HTMLModel",
       "_view_count": null,
       "_view_module": "@jupyter-widgets/controls",
       "_view_module_version": "1.5.0",
       "_view_name": "HTMLView",
       "description": "",
       "description_tooltip": null,
       "layout": "IPY_MODEL_06b81de0bf3b4e6db242bfcc8c77cf52",
       "placeholder": "​",
       "style": "IPY_MODEL_e04f357746d64ccfb72f7528aabe1c31",
       "value": "Downloading builder script: "
      }
     },
     "587af0b20e7d4c8bb1160570421dee07": {
      "model_module": "@jupyter-widgets/controls",
      "model_module_version": "1.5.0",
      "model_name": "HTMLModel",
      "state": {
       "_dom_classes": [],
       "_model_module": "@jupyter-widgets/controls",
       "_model_module_version": "1.5.0",
       "_model_name": "HTMLModel",
       "_view_count": null,
       "_view_module": "@jupyter-widgets/controls",
       "_view_module_version": "1.5.0",
       "_view_name": "HTMLView",
       "description": "",
       "description_tooltip": null,
       "layout": "IPY_MODEL_07d1cdef97514a82b2fb84ab59a13d95",
       "placeholder": "​",
       "style": "IPY_MODEL_8f679ab26b54463ab0cdb22fbfbfaa15",
       "value": " 4.83M/4.83M [00:00&lt;00:00, 5.93MB/s]"
      }
     },
     "5b1fc43626f843de8393cbb65a8d23f4": {
      "model_module": "@jupyter-widgets/controls",
      "model_module_version": "1.5.0",
      "model_name": "HBoxModel",
      "state": {
       "_dom_classes": [],
       "_model_module": "@jupyter-widgets/controls",
       "_model_module_version": "1.5.0",
       "_model_name": "HBoxModel",
       "_view_count": null,
       "_view_module": "@jupyter-widgets/controls",
       "_view_module_version": "1.5.0",
       "_view_name": "HBoxView",
       "box_style": "",
       "children": [
        "IPY_MODEL_60154948a9f644dbae383cd275d8fb67",
        "IPY_MODEL_97889871615a4b2fa44a3dddb7dd03d0",
        "IPY_MODEL_3fc2f16142aa4525a41936806a15b1da"
       ],
       "layout": "IPY_MODEL_6dc33af3441a461baa0f553a7e7d5787"
      }
     },
     "5e55ee26b2ef4dc3995dcda262f2e99f": {
      "model_module": "@jupyter-widgets/controls",
      "model_module_version": "1.5.0",
      "model_name": "DescriptionStyleModel",
      "state": {
       "_model_module": "@jupyter-widgets/controls",
       "_model_module_version": "1.5.0",
       "_model_name": "DescriptionStyleModel",
       "_view_count": null,
       "_view_module": "@jupyter-widgets/base",
       "_view_module_version": "1.2.0",
       "_view_name": "StyleView",
       "description_width": ""
      }
     },
     "60154948a9f644dbae383cd275d8fb67": {
      "model_module": "@jupyter-widgets/controls",
      "model_module_version": "1.5.0",
      "model_name": "HTMLModel",
      "state": {
       "_dom_classes": [],
       "_model_module": "@jupyter-widgets/controls",
       "_model_module_version": "1.5.0",
       "_model_name": "HTMLModel",
       "_view_count": null,
       "_view_module": "@jupyter-widgets/controls",
       "_view_module_version": "1.5.0",
       "_view_name": "HTMLView",
       "description": "",
       "description_tooltip": null,
       "layout": "IPY_MODEL_4178ffb655714dd08061a3dc97bbfd99",
       "placeholder": "​",
       "style": "IPY_MODEL_2629411f1b254a3490ed86b557ae8562",
       "value": "Downloading builder script: "
      }
     },
     "636a680c3c83449abfb5b85a733f002c": {
      "model_module": "@jupyter-widgets/controls",
      "model_module_version": "1.5.0",
      "model_name": "FloatProgressModel",
      "state": {
       "_dom_classes": [],
       "_model_module": "@jupyter-widgets/controls",
       "_model_module_version": "1.5.0",
       "_model_name": "FloatProgressModel",
       "_view_count": null,
       "_view_module": "@jupyter-widgets/controls",
       "_view_module_version": "1.5.0",
       "_view_name": "ProgressView",
       "bar_style": "success",
       "description": "",
       "description_tooltip": null,
       "layout": "IPY_MODEL_81488080aba84fa4af95342c359a5524",
       "max": 2202.0,
       "min": 0.0,
       "orientation": "horizontal",
       "style": "IPY_MODEL_d9b223c3cfa6412792f0d79a347ad299",
       "value": 2202.0
      }
     },
     "6461b8eebc8742aa9cd47893d7b83f04": {
      "model_module": "@jupyter-widgets/controls",
      "model_module_version": "1.5.0",
      "model_name": "HTMLModel",
      "state": {
       "_dom_classes": [],
       "_model_module": "@jupyter-widgets/controls",
       "_model_module_version": "1.5.0",
       "_model_name": "HTMLModel",
       "_view_count": null,
       "_view_module": "@jupyter-widgets/controls",
       "_view_module_version": "1.5.0",
       "_view_name": "HTMLView",
       "description": "",
       "description_tooltip": null,
       "layout": "IPY_MODEL_490f6e41c43042f8bf566305d8a2a8fc",
       "placeholder": "​",
       "style": "IPY_MODEL_0b4e7ff9b6184f05b1a48670f947040a",
       "value": " 5.83k/? [00:00&lt;00:00, 308kB/s]"
      }
     },
     "672d05d720424c56807f6daec82e2782": {
      "model_module": "@jupyter-widgets/base",
      "model_module_version": "1.2.0",
      "model_name": "LayoutModel",
      "state": {
       "_model_module": "@jupyter-widgets/base",
       "_model_module_version": "1.2.0",
       "_model_name": "LayoutModel",
       "_view_count": null,
       "_view_module": "@jupyter-widgets/base",
       "_view_module_version": "1.2.0",
       "_view_name": "LayoutView",
       "align_content": null,
       "align_items": null,
       "align_self": null,
       "border": null,
       "bottom": null,
       "display": null,
       "flex": null,
       "flex_flow": null,
       "grid_area": null,
       "grid_auto_columns": null,
       "grid_auto_flow": null,
       "grid_auto_rows": null,
       "grid_column": null,
       "grid_gap": null,
       "grid_row": null,
       "grid_template_areas": null,
       "grid_template_columns": null,
       "grid_template_rows": null,
       "height": null,
       "justify_content": null,
       "justify_items": null,
       "left": null,
       "margin": null,
       "max_height": null,
       "max_width": null,
       "min_height": null,
       "min_width": null,
       "object_fit": null,
       "object_position": null,
       "order": null,
       "overflow": null,
       "overflow_x": null,
       "overflow_y": null,
       "padding": null,
       "right": null,
       "top": null,
       "visibility": null,
       "width": null
      }
     },
     "68936eb2da2e4ff287b541c73e7e3c0e": {
      "model_module": "@jupyter-widgets/base",
      "model_module_version": "1.2.0",
      "model_name": "LayoutModel",
      "state": {
       "_model_module": "@jupyter-widgets/base",
       "_model_module_version": "1.2.0",
       "_model_name": "LayoutModel",
       "_view_count": null,
       "_view_module": "@jupyter-widgets/base",
       "_view_module_version": "1.2.0",
       "_view_name": "LayoutView",
       "align_content": null,
       "align_items": null,
       "align_self": null,
       "border": null,
       "bottom": null,
       "display": null,
       "flex": null,
       "flex_flow": null,
       "grid_area": null,
       "grid_auto_columns": null,
       "grid_auto_flow": null,
       "grid_auto_rows": null,
       "grid_column": null,
       "grid_gap": null,
       "grid_row": null,
       "grid_template_areas": null,
       "grid_template_columns": null,
       "grid_template_rows": null,
       "height": null,
       "justify_content": null,
       "justify_items": null,
       "left": null,
       "margin": null,
       "max_height": null,
       "max_width": null,
       "min_height": null,
       "min_width": null,
       "object_fit": null,
       "object_position": null,
       "order": null,
       "overflow": null,
       "overflow_x": null,
       "overflow_y": null,
       "padding": null,
       "right": null,
       "top": null,
       "visibility": null,
       "width": null
      }
     },
     "699219c40374405dbb17d662a66ad0f0": {
      "model_module": "@jupyter-widgets/controls",
      "model_module_version": "1.5.0",
      "model_name": "HTMLModel",
      "state": {
       "_dom_classes": [],
       "_model_module": "@jupyter-widgets/controls",
       "_model_module_version": "1.5.0",
       "_model_name": "HTMLModel",
       "_view_count": null,
       "_view_module": "@jupyter-widgets/controls",
       "_view_module_version": "1.5.0",
       "_view_name": "HTMLView",
       "description": "",
       "description_tooltip": null,
       "layout": "IPY_MODEL_8c8c008006d547d98d10260e47b512dc",
       "placeholder": "​",
       "style": "IPY_MODEL_4f015bc1ab2943a4911a0c2dea8575cd",
       "value": "Downloading config.json: 100%"
      }
     },
     "6d3ac527487248b1b5eb67e46a4d1194": {
      "model_module": "@jupyter-widgets/controls",
      "model_module_version": "1.5.0",
      "model_name": "FloatProgressModel",
      "state": {
       "_dom_classes": [],
       "_model_module": "@jupyter-widgets/controls",
       "_model_module_version": "1.5.0",
       "_model_name": "FloatProgressModel",
       "_view_count": null,
       "_view_module": "@jupyter-widgets/controls",
       "_view_module_version": "1.5.0",
       "_view_name": "ProgressView",
       "bar_style": "success",
       "description": "",
       "description_tooltip": null,
       "layout": "IPY_MODEL_01a2cb643f8541fcac141e97a4e6eb99",
       "max": 615.0,
       "min": 0.0,
       "orientation": "horizontal",
       "style": "IPY_MODEL_0e5ac623de9b4339a6651abcf915c9e1",
       "value": 615.0
      }
     },
     "6dc33af3441a461baa0f553a7e7d5787": {
      "model_module": "@jupyter-widgets/base",
      "model_module_version": "1.2.0",
      "model_name": "LayoutModel",
      "state": {
       "_model_module": "@jupyter-widgets/base",
       "_model_module_version": "1.2.0",
       "_model_name": "LayoutModel",
       "_view_count": null,
       "_view_module": "@jupyter-widgets/base",
       "_view_module_version": "1.2.0",
       "_view_name": "LayoutView",
       "align_content": null,
       "align_items": null,
       "align_self": null,
       "border": null,
       "bottom": null,
       "display": null,
       "flex": null,
       "flex_flow": null,
       "grid_area": null,
       "grid_auto_columns": null,
       "grid_auto_flow": null,
       "grid_auto_rows": null,
       "grid_column": null,
       "grid_gap": null,
       "grid_row": null,
       "grid_template_areas": null,
       "grid_template_columns": null,
       "grid_template_rows": null,
       "height": null,
       "justify_content": null,
       "justify_items": null,
       "left": null,
       "margin": null,
       "max_height": null,
       "max_width": null,
       "min_height": null,
       "min_width": null,
       "object_fit": null,
       "object_position": null,
       "order": null,
       "overflow": null,
       "overflow_x": null,
       "overflow_y": null,
       "padding": null,
       "right": null,
       "top": null,
       "visibility": null,
       "width": null
      }
     },
     "73933b8b8bcb44c48fe518d577cff1fb": {
      "model_module": "@jupyter-widgets/base",
      "model_module_version": "1.2.0",
      "model_name": "LayoutModel",
      "state": {
       "_model_module": "@jupyter-widgets/base",
       "_model_module_version": "1.2.0",
       "_model_name": "LayoutModel",
       "_view_count": null,
       "_view_module": "@jupyter-widgets/base",
       "_view_module_version": "1.2.0",
       "_view_name": "LayoutView",
       "align_content": null,
       "align_items": null,
       "align_self": null,
       "border": null,
       "bottom": null,
       "display": null,
       "flex": null,
       "flex_flow": null,
       "grid_area": null,
       "grid_auto_columns": null,
       "grid_auto_flow": null,
       "grid_auto_rows": null,
       "grid_column": null,
       "grid_gap": null,
       "grid_row": null,
       "grid_template_areas": null,
       "grid_template_columns": null,
       "grid_template_rows": null,
       "height": null,
       "justify_content": null,
       "justify_items": null,
       "left": null,
       "margin": null,
       "max_height": null,
       "max_width": null,
       "min_height": null,
       "min_width": null,
       "object_fit": null,
       "object_position": null,
       "order": null,
       "overflow": null,
       "overflow_x": null,
       "overflow_y": null,
       "padding": null,
       "right": null,
       "top": null,
       "visibility": null,
       "width": null
      }
     },
     "80105626d5d349c59bdf5f394ecd2b8e": {
      "model_module": "@jupyter-widgets/controls",
      "model_module_version": "1.5.0",
      "model_name": "DescriptionStyleModel",
      "state": {
       "_model_module": "@jupyter-widgets/controls",
       "_model_module_version": "1.5.0",
       "_model_name": "DescriptionStyleModel",
       "_view_count": null,
       "_view_module": "@jupyter-widgets/base",
       "_view_module_version": "1.2.0",
       "_view_name": "StyleView",
       "description_width": ""
      }
     },
     "81488080aba84fa4af95342c359a5524": {
      "model_module": "@jupyter-widgets/base",
      "model_module_version": "1.2.0",
      "model_name": "LayoutModel",
      "state": {
       "_model_module": "@jupyter-widgets/base",
       "_model_module_version": "1.2.0",
       "_model_name": "LayoutModel",
       "_view_count": null,
       "_view_module": "@jupyter-widgets/base",
       "_view_module_version": "1.2.0",
       "_view_name": "LayoutView",
       "align_content": null,
       "align_items": null,
       "align_self": null,
       "border": null,
       "bottom": null,
       "display": null,
       "flex": null,
       "flex_flow": null,
       "grid_area": null,
       "grid_auto_columns": null,
       "grid_auto_flow": null,
       "grid_auto_rows": null,
       "grid_column": null,
       "grid_gap": null,
       "grid_row": null,
       "grid_template_areas": null,
       "grid_template_columns": null,
       "grid_template_rows": null,
       "height": null,
       "justify_content": null,
       "justify_items": null,
       "left": null,
       "margin": null,
       "max_height": null,
       "max_width": null,
       "min_height": null,
       "min_width": null,
       "object_fit": null,
       "object_position": null,
       "order": null,
       "overflow": null,
       "overflow_x": null,
       "overflow_y": null,
       "padding": null,
       "right": null,
       "top": null,
       "visibility": null,
       "width": null
      }
     },
     "87454df0ddec4136926f78032931be7d": {
      "model_module": "@jupyter-widgets/base",
      "model_module_version": "1.2.0",
      "model_name": "LayoutModel",
      "state": {
       "_model_module": "@jupyter-widgets/base",
       "_model_module_version": "1.2.0",
       "_model_name": "LayoutModel",
       "_view_count": null,
       "_view_module": "@jupyter-widgets/base",
       "_view_module_version": "1.2.0",
       "_view_name": "LayoutView",
       "align_content": null,
       "align_items": null,
       "align_self": null,
       "border": null,
       "bottom": null,
       "display": null,
       "flex": null,
       "flex_flow": null,
       "grid_area": null,
       "grid_auto_columns": null,
       "grid_auto_flow": null,
       "grid_auto_rows": null,
       "grid_column": null,
       "grid_gap": null,
       "grid_row": null,
       "grid_template_areas": null,
       "grid_template_columns": null,
       "grid_template_rows": null,
       "height": null,
       "justify_content": null,
       "justify_items": null,
       "left": null,
       "margin": null,
       "max_height": null,
       "max_width": null,
       "min_height": null,
       "min_width": null,
       "object_fit": null,
       "object_position": null,
       "order": null,
       "overflow": null,
       "overflow_x": null,
       "overflow_y": null,
       "padding": null,
       "right": null,
       "top": null,
       "visibility": null,
       "width": null
      }
     },
     "88f9da1e22f742b7b9eaf3c39ef11f7d": {
      "model_module": "@jupyter-widgets/controls",
      "model_module_version": "1.5.0",
      "model_name": "HTMLModel",
      "state": {
       "_dom_classes": [],
       "_model_module": "@jupyter-widgets/controls",
       "_model_module_version": "1.5.0",
       "_model_name": "HTMLModel",
       "_view_count": null,
       "_view_module": "@jupyter-widgets/controls",
       "_view_module_version": "1.5.0",
       "_view_name": "HTMLView",
       "description": "",
       "description_tooltip": null,
       "layout": "IPY_MODEL_73933b8b8bcb44c48fe518d577cff1fb",
       "placeholder": "​",
       "style": "IPY_MODEL_5e55ee26b2ef4dc3995dcda262f2e99f",
       "value": "Downloading pytorch_model.bin: 100%"
      }
     },
     "894ddacf2b664cf784379a871f4845e6": {
      "model_module": "@jupyter-widgets/controls",
      "model_module_version": "1.5.0",
      "model_name": "HTMLModel",
      "state": {
       "_dom_classes": [],
       "_model_module": "@jupyter-widgets/controls",
       "_model_module_version": "1.5.0",
       "_model_name": "HTMLModel",
       "_view_count": null,
       "_view_module": "@jupyter-widgets/controls",
       "_view_module_version": "1.5.0",
       "_view_name": "HTMLView",
       "description": "",
       "description_tooltip": null,
       "layout": "IPY_MODEL_2ebfc56c94a94d6a92a919a6d1c0f882",
       "placeholder": "​",
       "style": "IPY_MODEL_43b4baab1b7d4390bbb418d8dbb8174d",
       "value": "Downloading builder script: "
      }
     },
     "8c8c008006d547d98d10260e47b512dc": {
      "model_module": "@jupyter-widgets/base",
      "model_module_version": "1.2.0",
      "model_name": "LayoutModel",
      "state": {
       "_model_module": "@jupyter-widgets/base",
       "_model_module_version": "1.2.0",
       "_model_name": "LayoutModel",
       "_view_count": null,
       "_view_module": "@jupyter-widgets/base",
       "_view_module_version": "1.2.0",
       "_view_name": "LayoutView",
       "align_content": null,
       "align_items": null,
       "align_self": null,
       "border": null,
       "bottom": null,
       "display": null,
       "flex": null,
       "flex_flow": null,
       "grid_area": null,
       "grid_auto_columns": null,
       "grid_auto_flow": null,
       "grid_auto_rows": null,
       "grid_column": null,
       "grid_gap": null,
       "grid_row": null,
       "grid_template_areas": null,
       "grid_template_columns": null,
       "grid_template_rows": null,
       "height": null,
       "justify_content": null,
       "justify_items": null,
       "left": null,
       "margin": null,
       "max_height": null,
       "max_width": null,
       "min_height": null,
       "min_width": null,
       "object_fit": null,
       "object_position": null,
       "order": null,
       "overflow": null,
       "overflow_x": null,
       "overflow_y": null,
       "padding": null,
       "right": null,
       "top": null,
       "visibility": null,
       "width": null
      }
     },
     "8cd96fe92b454a9789c80d4a796e6c4d": {
      "model_module": "@jupyter-widgets/controls",
      "model_module_version": "1.5.0",
      "model_name": "FloatProgressModel",
      "state": {
       "_dom_classes": [],
       "_model_module": "@jupyter-widgets/controls",
       "_model_module_version": "1.5.0",
       "_model_name": "FloatProgressModel",
       "_view_count": null,
       "_view_module": "@jupyter-widgets/controls",
       "_view_module_version": "1.5.0",
       "_view_name": "ProgressView",
       "bar_style": "success",
       "description": "",
       "description_tooltip": null,
       "layout": "IPY_MODEL_ad4f01381ff1474f913d90fc228de1e6",
       "max": 2059.0,
       "min": 0.0,
       "orientation": "horizontal",
       "style": "IPY_MODEL_19ed806ee8fb404397f1611c3d4e9570",
       "value": 2059.0
      }
     },
     "8e262e04f2f3437099c4abecd8e7e313": {
      "model_module": "@jupyter-widgets/controls",
      "model_module_version": "1.5.0",
      "model_name": "FloatProgressModel",
      "state": {
       "_dom_classes": [],
       "_model_module": "@jupyter-widgets/controls",
       "_model_module_version": "1.5.0",
       "_model_name": "FloatProgressModel",
       "_view_count": null,
       "_view_module": "@jupyter-widgets/controls",
       "_view_module_version": "1.5.0",
       "_view_name": "ProgressView",
       "bar_style": "success",
       "description": "",
       "description_tooltip": null,
       "layout": "IPY_MODEL_47ad8b01c52a45c6a539c06109f29001",
       "max": 5069051.0,
       "min": 0.0,
       "orientation": "horizontal",
       "style": "IPY_MODEL_d0433b2063a748afa579d8d941231926",
       "value": 5069051.0
      }
     },
     "8ecda322238b478b9e1baefea0b0b6fc": {
      "model_module": "@jupyter-widgets/controls",
      "model_module_version": "1.5.0",
      "model_name": "HBoxModel",
      "state": {
       "_dom_classes": [],
       "_model_module": "@jupyter-widgets/controls",
       "_model_module_version": "1.5.0",
       "_model_name": "HBoxModel",
       "_view_count": null,
       "_view_module": "@jupyter-widgets/controls",
       "_view_module_version": "1.5.0",
       "_view_name": "HBoxView",
       "box_style": "",
       "children": [
        "IPY_MODEL_19ca7708963b4cb482ba5cc7e84cf857",
        "IPY_MODEL_8e262e04f2f3437099c4abecd8e7e313",
        "IPY_MODEL_587af0b20e7d4c8bb1160570421dee07"
       ],
       "layout": "IPY_MODEL_4de21b4e03624167aed1d1c2a1b22e07"
      }
     },
     "8f027ea41e694dcb8d55077836d49f1d": {
      "model_module": "@jupyter-widgets/base",
      "model_module_version": "1.2.0",
      "model_name": "LayoutModel",
      "state": {
       "_model_module": "@jupyter-widgets/base",
       "_model_module_version": "1.2.0",
       "_model_name": "LayoutModel",
       "_view_count": null,
       "_view_module": "@jupyter-widgets/base",
       "_view_module_version": "1.2.0",
       "_view_name": "LayoutView",
       "align_content": null,
       "align_items": null,
       "align_self": null,
       "border": null,
       "bottom": null,
       "display": null,
       "flex": null,
       "flex_flow": null,
       "grid_area": null,
       "grid_auto_columns": null,
       "grid_auto_flow": null,
       "grid_auto_rows": null,
       "grid_column": null,
       "grid_gap": null,
       "grid_row": null,
       "grid_template_areas": null,
       "grid_template_columns": null,
       "grid_template_rows": null,
       "height": null,
       "justify_content": null,
       "justify_items": null,
       "left": null,
       "margin": null,
       "max_height": null,
       "max_width": null,
       "min_height": null,
       "min_width": null,
       "object_fit": null,
       "object_position": null,
       "order": null,
       "overflow": null,
       "overflow_x": null,
       "overflow_y": null,
       "padding": null,
       "right": null,
       "top": null,
       "visibility": null,
       "width": null
      }
     },
     "8f5adbe119c1442a893363c303c192e6": {
      "model_module": "@jupyter-widgets/controls",
      "model_module_version": "1.5.0",
      "model_name": "HBoxModel",
      "state": {
       "_dom_classes": [],
       "_model_module": "@jupyter-widgets/controls",
       "_model_module_version": "1.5.0",
       "_model_name": "HBoxModel",
       "_view_count": null,
       "_view_module": "@jupyter-widgets/controls",
       "_view_module_version": "1.5.0",
       "_view_name": "HBoxView",
       "box_style": "",
       "children": [
        "IPY_MODEL_699219c40374405dbb17d662a66ad0f0",
        "IPY_MODEL_6d3ac527487248b1b5eb67e46a4d1194",
        "IPY_MODEL_23697daab92047d9b44751072933f0b5"
       ],
       "layout": "IPY_MODEL_68936eb2da2e4ff287b541c73e7e3c0e"
      }
     },
     "8f679ab26b54463ab0cdb22fbfbfaa15": {
      "model_module": "@jupyter-widgets/controls",
      "model_module_version": "1.5.0",
      "model_name": "DescriptionStyleModel",
      "state": {
       "_model_module": "@jupyter-widgets/controls",
       "_model_module_version": "1.5.0",
       "_model_name": "DescriptionStyleModel",
       "_view_count": null,
       "_view_module": "@jupyter-widgets/base",
       "_view_module_version": "1.2.0",
       "_view_name": "StyleView",
       "description_width": ""
      }
     },
     "9190488023524a2eae678d4d7dbef086": {
      "model_module": "@jupyter-widgets/base",
      "model_module_version": "1.2.0",
      "model_name": "LayoutModel",
      "state": {
       "_model_module": "@jupyter-widgets/base",
       "_model_module_version": "1.2.0",
       "_model_name": "LayoutModel",
       "_view_count": null,
       "_view_module": "@jupyter-widgets/base",
       "_view_module_version": "1.2.0",
       "_view_name": "LayoutView",
       "align_content": null,
       "align_items": null,
       "align_self": null,
       "border": null,
       "bottom": null,
       "display": null,
       "flex": null,
       "flex_flow": null,
       "grid_area": null,
       "grid_auto_columns": null,
       "grid_auto_flow": null,
       "grid_auto_rows": null,
       "grid_column": null,
       "grid_gap": null,
       "grid_row": null,
       "grid_template_areas": null,
       "grid_template_columns": null,
       "grid_template_rows": null,
       "height": null,
       "justify_content": null,
       "justify_items": null,
       "left": null,
       "margin": null,
       "max_height": null,
       "max_width": null,
       "min_height": null,
       "min_width": null,
       "object_fit": null,
       "object_position": null,
       "order": null,
       "overflow": null,
       "overflow_x": null,
       "overflow_y": null,
       "padding": null,
       "right": null,
       "top": null,
       "visibility": null,
       "width": null
      }
     },
     "922a4ab73afb4f088cdb5bc0be9fb9f0": {
      "model_module": "@jupyter-widgets/controls",
      "model_module_version": "1.5.0",
      "model_name": "ProgressStyleModel",
      "state": {
       "_model_module": "@jupyter-widgets/controls",
       "_model_module_version": "1.5.0",
       "_model_name": "ProgressStyleModel",
       "_view_count": null,
       "_view_module": "@jupyter-widgets/base",
       "_view_module_version": "1.2.0",
       "_view_name": "StyleView",
       "bar_color": null,
       "description_width": ""
      }
     },
     "96e1170d96f64213890969f661688fe9": {
      "model_module": "@jupyter-widgets/base",
      "model_module_version": "1.2.0",
      "model_name": "LayoutModel",
      "state": {
       "_model_module": "@jupyter-widgets/base",
       "_model_module_version": "1.2.0",
       "_model_name": "LayoutModel",
       "_view_count": null,
       "_view_module": "@jupyter-widgets/base",
       "_view_module_version": "1.2.0",
       "_view_name": "LayoutView",
       "align_content": null,
       "align_items": null,
       "align_self": null,
       "border": null,
       "bottom": null,
       "display": null,
       "flex": null,
       "flex_flow": null,
       "grid_area": null,
       "grid_auto_columns": null,
       "grid_auto_flow": null,
       "grid_auto_rows": null,
       "grid_column": null,
       "grid_gap": null,
       "grid_row": null,
       "grid_template_areas": null,
       "grid_template_columns": null,
       "grid_template_rows": null,
       "height": null,
       "justify_content": null,
       "justify_items": null,
       "left": null,
       "margin": null,
       "max_height": null,
       "max_width": null,
       "min_height": null,
       "min_width": null,
       "object_fit": null,
       "object_position": null,
       "order": null,
       "overflow": null,
       "overflow_x": null,
       "overflow_y": null,
       "padding": null,
       "right": null,
       "top": null,
       "visibility": null,
       "width": null
      }
     },
     "97889871615a4b2fa44a3dddb7dd03d0": {
      "model_module": "@jupyter-widgets/controls",
      "model_module_version": "1.5.0",
      "model_name": "FloatProgressModel",
      "state": {
       "_dom_classes": [],
       "_model_module": "@jupyter-widgets/controls",
       "_model_module_version": "1.5.0",
       "_model_name": "FloatProgressModel",
       "_view_count": null,
       "_view_module": "@jupyter-widgets/controls",
       "_view_module_version": "1.5.0",
       "_view_name": "ProgressView",
       "bar_style": "success",
       "description": "",
       "description_tooltip": null,
       "layout": "IPY_MODEL_96e1170d96f64213890969f661688fe9",
       "max": 2205.0,
       "min": 0.0,
       "orientation": "horizontal",
       "style": "IPY_MODEL_922a4ab73afb4f088cdb5bc0be9fb9f0",
       "value": 2205.0
      }
     },
     "9ac04a7fbe38400faef40b46bc15da12": {
      "model_module": "@jupyter-widgets/controls",
      "model_module_version": "1.5.0",
      "model_name": "HBoxModel",
      "state": {
       "_dom_classes": [],
       "_model_module": "@jupyter-widgets/controls",
       "_model_module_version": "1.5.0",
       "_model_name": "HBoxModel",
       "_view_count": null,
       "_view_module": "@jupyter-widgets/controls",
       "_view_module_version": "1.5.0",
       "_view_name": "HBoxView",
       "box_style": "",
       "children": [
        "IPY_MODEL_ab05df7b2d56468d9f102ed18b72391f",
        "IPY_MODEL_636a680c3c83449abfb5b85a733f002c",
        "IPY_MODEL_6461b8eebc8742aa9cd47893d7b83f04"
       ],
       "layout": "IPY_MODEL_8f027ea41e694dcb8d55077836d49f1d"
      }
     },
     "a46975afe6f046fea32eca70931bafa6": {
      "model_module": "@jupyter-widgets/controls",
      "model_module_version": "1.5.0",
      "model_name": "HBoxModel",
      "state": {
       "_dom_classes": [],
       "_model_module": "@jupyter-widgets/controls",
       "_model_module_version": "1.5.0",
       "_model_name": "HBoxModel",
       "_view_count": null,
       "_view_module": "@jupyter-widgets/controls",
       "_view_module_version": "1.5.0",
       "_view_name": "HBoxView",
       "box_style": "",
       "children": [
        "IPY_MODEL_55d17eea0be14ef9a1f43c96a018fe5c",
        "IPY_MODEL_20d957d99a5040879f76536d431635ef",
        "IPY_MODEL_45f33bb189cb480a86f9c5d174779840"
       ],
       "layout": "IPY_MODEL_a62fe33d62f640eb87020b47ea2183aa"
      }
     },
     "a62fe33d62f640eb87020b47ea2183aa": {
      "model_module": "@jupyter-widgets/base",
      "model_module_version": "1.2.0",
      "model_name": "LayoutModel",
      "state": {
       "_model_module": "@jupyter-widgets/base",
       "_model_module_version": "1.2.0",
       "_model_name": "LayoutModel",
       "_view_count": null,
       "_view_module": "@jupyter-widgets/base",
       "_view_module_version": "1.2.0",
       "_view_name": "LayoutView",
       "align_content": null,
       "align_items": null,
       "align_self": null,
       "border": null,
       "bottom": null,
       "display": null,
       "flex": null,
       "flex_flow": null,
       "grid_area": null,
       "grid_auto_columns": null,
       "grid_auto_flow": null,
       "grid_auto_rows": null,
       "grid_column": null,
       "grid_gap": null,
       "grid_row": null,
       "grid_template_areas": null,
       "grid_template_columns": null,
       "grid_template_rows": null,
       "height": null,
       "justify_content": null,
       "justify_items": null,
       "left": null,
       "margin": null,
       "max_height": null,
       "max_width": null,
       "min_height": null,
       "min_width": null,
       "object_fit": null,
       "object_position": null,
       "order": null,
       "overflow": null,
       "overflow_x": null,
       "overflow_y": null,
       "padding": null,
       "right": null,
       "top": null,
       "visibility": null,
       "width": null
      }
     },
     "ab05df7b2d56468d9f102ed18b72391f": {
      "model_module": "@jupyter-widgets/controls",
      "model_module_version": "1.5.0",
      "model_name": "HTMLModel",
      "state": {
       "_dom_classes": [],
       "_model_module": "@jupyter-widgets/controls",
       "_model_module_version": "1.5.0",
       "_model_name": "HTMLModel",
       "_view_count": null,
       "_view_module": "@jupyter-widgets/controls",
       "_view_module_version": "1.5.0",
       "_view_name": "HTMLView",
       "description": "",
       "description_tooltip": null,
       "layout": "IPY_MODEL_36b22daeab67485982feded84f449f44",
       "placeholder": "​",
       "style": "IPY_MODEL_1b8a36c4784349d3ac0194a89a5d97c8",
       "value": "Downloading builder script: "
      }
     },
     "ad4f01381ff1474f913d90fc228de1e6": {
      "model_module": "@jupyter-widgets/base",
      "model_module_version": "1.2.0",
      "model_name": "LayoutModel",
      "state": {
       "_model_module": "@jupyter-widgets/base",
       "_model_module_version": "1.2.0",
       "_model_name": "LayoutModel",
       "_view_count": null,
       "_view_module": "@jupyter-widgets/base",
       "_view_module_version": "1.2.0",
       "_view_name": "LayoutView",
       "align_content": null,
       "align_items": null,
       "align_self": null,
       "border": null,
       "bottom": null,
       "display": null,
       "flex": null,
       "flex_flow": null,
       "grid_area": null,
       "grid_auto_columns": null,
       "grid_auto_flow": null,
       "grid_auto_rows": null,
       "grid_column": null,
       "grid_gap": null,
       "grid_row": null,
       "grid_template_areas": null,
       "grid_template_columns": null,
       "grid_template_rows": null,
       "height": null,
       "justify_content": null,
       "justify_items": null,
       "left": null,
       "margin": null,
       "max_height": null,
       "max_width": null,
       "min_height": null,
       "min_width": null,
       "object_fit": null,
       "object_position": null,
       "order": null,
       "overflow": null,
       "overflow_x": null,
       "overflow_y": null,
       "padding": null,
       "right": null,
       "top": null,
       "visibility": null,
       "width": null
      }
     },
     "aeab134f7b5e48eaa5f850cde2979a35": {
      "model_module": "@jupyter-widgets/controls",
      "model_module_version": "1.5.0",
      "model_name": "ProgressStyleModel",
      "state": {
       "_model_module": "@jupyter-widgets/controls",
       "_model_module_version": "1.5.0",
       "_model_name": "ProgressStyleModel",
       "_view_count": null,
       "_view_module": "@jupyter-widgets/base",
       "_view_module_version": "1.2.0",
       "_view_name": "StyleView",
       "bar_color": null,
       "description_width": ""
      }
     },
     "af4c90548e9748199e102ec8841e894e": {
      "model_module": "@jupyter-widgets/base",
      "model_module_version": "1.2.0",
      "model_name": "LayoutModel",
      "state": {
       "_model_module": "@jupyter-widgets/base",
       "_model_module_version": "1.2.0",
       "_model_name": "LayoutModel",
       "_view_count": null,
       "_view_module": "@jupyter-widgets/base",
       "_view_module_version": "1.2.0",
       "_view_name": "LayoutView",
       "align_content": null,
       "align_items": null,
       "align_self": null,
       "border": null,
       "bottom": null,
       "display": null,
       "flex": null,
       "flex_flow": null,
       "grid_area": null,
       "grid_auto_columns": null,
       "grid_auto_flow": null,
       "grid_auto_rows": null,
       "grid_column": null,
       "grid_gap": null,
       "grid_row": null,
       "grid_template_areas": null,
       "grid_template_columns": null,
       "grid_template_rows": null,
       "height": null,
       "justify_content": null,
       "justify_items": null,
       "left": null,
       "margin": null,
       "max_height": null,
       "max_width": null,
       "min_height": null,
       "min_width": null,
       "object_fit": null,
       "object_position": null,
       "order": null,
       "overflow": null,
       "overflow_x": null,
       "overflow_y": null,
       "padding": null,
       "right": null,
       "top": null,
       "visibility": null,
       "width": null
      }
     },
     "b6af7c5c26034222b0b065f9bcacd4a1": {
      "model_module": "@jupyter-widgets/controls",
      "model_module_version": "1.5.0",
      "model_name": "DescriptionStyleModel",
      "state": {
       "_model_module": "@jupyter-widgets/controls",
       "_model_module_version": "1.5.0",
       "_model_name": "DescriptionStyleModel",
       "_view_count": null,
       "_view_module": "@jupyter-widgets/base",
       "_view_module_version": "1.2.0",
       "_view_name": "StyleView",
       "description_width": ""
      }
     },
     "b974489d02a34c8a80428ee986eff1bc": {
      "model_module": "@jupyter-widgets/controls",
      "model_module_version": "1.5.0",
      "model_name": "DescriptionStyleModel",
      "state": {
       "_model_module": "@jupyter-widgets/controls",
       "_model_module_version": "1.5.0",
       "_model_name": "DescriptionStyleModel",
       "_view_count": null,
       "_view_module": "@jupyter-widgets/base",
       "_view_module_version": "1.2.0",
       "_view_name": "StyleView",
       "description_width": ""
      }
     },
     "d0433b2063a748afa579d8d941231926": {
      "model_module": "@jupyter-widgets/controls",
      "model_module_version": "1.5.0",
      "model_name": "ProgressStyleModel",
      "state": {
       "_model_module": "@jupyter-widgets/controls",
       "_model_module_version": "1.5.0",
       "_model_name": "ProgressStyleModel",
       "_view_count": null,
       "_view_module": "@jupyter-widgets/base",
       "_view_module_version": "1.2.0",
       "_view_name": "StyleView",
       "bar_color": null,
       "description_width": ""
      }
     },
     "d456fab61b984a35bf4c54acf6b043eb": {
      "model_module": "@jupyter-widgets/controls",
      "model_module_version": "1.5.0",
      "model_name": "HBoxModel",
      "state": {
       "_dom_classes": [],
       "_model_module": "@jupyter-widgets/controls",
       "_model_module_version": "1.5.0",
       "_model_name": "HBoxModel",
       "_view_count": null,
       "_view_module": "@jupyter-widgets/controls",
       "_view_module_version": "1.5.0",
       "_view_name": "HBoxView",
       "box_style": "",
       "children": [
        "IPY_MODEL_88f9da1e22f742b7b9eaf3c39ef11f7d",
        "IPY_MODEL_11f08147a5074afd9181aae5123106dc",
        "IPY_MODEL_136c7ea1c4d643c6b6194dbefe6a1f47"
       ],
       "layout": "IPY_MODEL_262c07dc81614121825a913960b72e9f"
      }
     },
     "d512c88552a34892a05a226c7dbd602b": {
      "model_module": "@jupyter-widgets/base",
      "model_module_version": "1.2.0",
      "model_name": "LayoutModel",
      "state": {
       "_model_module": "@jupyter-widgets/base",
       "_model_module_version": "1.2.0",
       "_model_name": "LayoutModel",
       "_view_count": null,
       "_view_module": "@jupyter-widgets/base",
       "_view_module_version": "1.2.0",
       "_view_name": "LayoutView",
       "align_content": null,
       "align_items": null,
       "align_self": null,
       "border": null,
       "bottom": null,
       "display": null,
       "flex": null,
       "flex_flow": null,
       "grid_area": null,
       "grid_auto_columns": null,
       "grid_auto_flow": null,
       "grid_auto_rows": null,
       "grid_column": null,
       "grid_gap": null,
       "grid_row": null,
       "grid_template_areas": null,
       "grid_template_columns": null,
       "grid_template_rows": null,
       "height": null,
       "justify_content": null,
       "justify_items": null,
       "left": null,
       "margin": null,
       "max_height": null,
       "max_width": null,
       "min_height": null,
       "min_width": null,
       "object_fit": null,
       "object_position": null,
       "order": null,
       "overflow": null,
       "overflow_x": null,
       "overflow_y": null,
       "padding": null,
       "right": null,
       "top": null,
       "visibility": null,
       "width": null
      }
     },
     "d73e442ccf99482eb98b6900caadf5eb": {
      "model_module": "@jupyter-widgets/base",
      "model_module_version": "1.2.0",
      "model_name": "LayoutModel",
      "state": {
       "_model_module": "@jupyter-widgets/base",
       "_model_module_version": "1.2.0",
       "_model_name": "LayoutModel",
       "_view_count": null,
       "_view_module": "@jupyter-widgets/base",
       "_view_module_version": "1.2.0",
       "_view_name": "LayoutView",
       "align_content": null,
       "align_items": null,
       "align_self": null,
       "border": null,
       "bottom": null,
       "display": null,
       "flex": null,
       "flex_flow": null,
       "grid_area": null,
       "grid_auto_columns": null,
       "grid_auto_flow": null,
       "grid_auto_rows": null,
       "grid_column": null,
       "grid_gap": null,
       "grid_row": null,
       "grid_template_areas": null,
       "grid_template_columns": null,
       "grid_template_rows": null,
       "height": null,
       "justify_content": null,
       "justify_items": null,
       "left": null,
       "margin": null,
       "max_height": null,
       "max_width": null,
       "min_height": null,
       "min_width": null,
       "object_fit": null,
       "object_position": null,
       "order": null,
       "overflow": null,
       "overflow_x": null,
       "overflow_y": null,
       "padding": null,
       "right": null,
       "top": null,
       "visibility": null,
       "width": null
      }
     },
     "d9b223c3cfa6412792f0d79a347ad299": {
      "model_module": "@jupyter-widgets/controls",
      "model_module_version": "1.5.0",
      "model_name": "ProgressStyleModel",
      "state": {
       "_model_module": "@jupyter-widgets/controls",
       "_model_module_version": "1.5.0",
       "_model_name": "ProgressStyleModel",
       "_view_count": null,
       "_view_module": "@jupyter-widgets/base",
       "_view_module_version": "1.2.0",
       "_view_name": "StyleView",
       "bar_color": null,
       "description_width": ""
      }
     },
     "e02c9a18c578431996ad7dc4a3fd065e": {
      "model_module": "@jupyter-widgets/base",
      "model_module_version": "1.2.0",
      "model_name": "LayoutModel",
      "state": {
       "_model_module": "@jupyter-widgets/base",
       "_model_module_version": "1.2.0",
       "_model_name": "LayoutModel",
       "_view_count": null,
       "_view_module": "@jupyter-widgets/base",
       "_view_module_version": "1.2.0",
       "_view_name": "LayoutView",
       "align_content": null,
       "align_items": null,
       "align_self": null,
       "border": null,
       "bottom": null,
       "display": null,
       "flex": null,
       "flex_flow": null,
       "grid_area": null,
       "grid_auto_columns": null,
       "grid_auto_flow": null,
       "grid_auto_rows": null,
       "grid_column": null,
       "grid_gap": null,
       "grid_row": null,
       "grid_template_areas": null,
       "grid_template_columns": null,
       "grid_template_rows": null,
       "height": null,
       "justify_content": null,
       "justify_items": null,
       "left": null,
       "margin": null,
       "max_height": null,
       "max_width": null,
       "min_height": null,
       "min_width": null,
       "object_fit": null,
       "object_position": null,
       "order": null,
       "overflow": null,
       "overflow_x": null,
       "overflow_y": null,
       "padding": null,
       "right": null,
       "top": null,
       "visibility": null,
       "width": null
      }
     },
     "e04f357746d64ccfb72f7528aabe1c31": {
      "model_module": "@jupyter-widgets/controls",
      "model_module_version": "1.5.0",
      "model_name": "DescriptionStyleModel",
      "state": {
       "_model_module": "@jupyter-widgets/controls",
       "_model_module_version": "1.5.0",
       "_model_name": "DescriptionStyleModel",
       "_view_count": null,
       "_view_module": "@jupyter-widgets/base",
       "_view_module_version": "1.2.0",
       "_view_name": "StyleView",
       "description_width": ""
      }
     },
     "e8f583279a094897a6d4ebfbfc112021": {
      "model_module": "@jupyter-widgets/controls",
      "model_module_version": "1.5.0",
      "model_name": "DescriptionStyleModel",
      "state": {
       "_model_module": "@jupyter-widgets/controls",
       "_model_module_version": "1.5.0",
       "_model_name": "DescriptionStyleModel",
       "_view_count": null,
       "_view_module": "@jupyter-widgets/base",
       "_view_module_version": "1.2.0",
       "_view_name": "StyleView",
       "description_width": ""
      }
     },
     "fa238483c4914c57a587876f1872b473": {
      "model_module": "@jupyter-widgets/controls",
      "model_module_version": "1.5.0",
      "model_name": "ProgressStyleModel",
      "state": {
       "_model_module": "@jupyter-widgets/controls",
       "_model_module_version": "1.5.0",
       "_model_name": "ProgressStyleModel",
       "_view_count": null,
       "_view_module": "@jupyter-widgets/base",
       "_view_module_version": "1.2.0",
       "_view_name": "StyleView",
       "bar_color": null,
       "description_width": ""
      }
     },
     "fb186453b784479d8c936b9b4fdfb779": {
      "model_module": "@jupyter-widgets/controls",
      "model_module_version": "1.5.0",
      "model_name": "DescriptionStyleModel",
      "state": {
       "_model_module": "@jupyter-widgets/controls",
       "_model_module_version": "1.5.0",
       "_model_name": "DescriptionStyleModel",
       "_view_count": null,
       "_view_module": "@jupyter-widgets/base",
       "_view_module_version": "1.2.0",
       "_view_name": "StyleView",
       "description_width": ""
      }
     }
    },
    "version_major": 2,
    "version_minor": 0
   }
  }
 },
 "nbformat": 4,
 "nbformat_minor": 5
}
