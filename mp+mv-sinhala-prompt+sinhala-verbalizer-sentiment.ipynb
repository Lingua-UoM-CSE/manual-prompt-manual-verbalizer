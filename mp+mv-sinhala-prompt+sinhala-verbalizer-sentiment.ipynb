{
 "cells": [
  {
   "cell_type": "markdown",
   "id": "a74d5ddf",
   "metadata": {
    "papermill": {
     "duration": 0.00984,
     "end_time": "2023-05-12T12:21:11.608020",
     "exception": false,
     "start_time": "2023-05-12T12:21:11.598180",
     "status": "completed"
    },
    "tags": []
   },
   "source": [
    "## Libraries, Dependencies and Parameters\n"
   ]
  },
  {
   "cell_type": "markdown",
   "id": "8eec98c4",
   "metadata": {
    "papermill": {
     "duration": 0.007441,
     "end_time": "2023-05-12T12:21:11.623256",
     "exception": false,
     "start_time": "2023-05-12T12:21:11.615815",
     "status": "completed"
    },
    "tags": []
   },
   "source": [
    "_Install Required Libraries_\n"
   ]
  },
  {
   "cell_type": "code",
   "execution_count": 1,
   "id": "09e3c071",
   "metadata": {
    "execution": {
     "iopub.execute_input": "2023-05-12T12:21:11.640293Z",
     "iopub.status.busy": "2023-05-12T12:21:11.639569Z",
     "iopub.status.idle": "2023-05-12T12:21:54.123113Z",
     "shell.execute_reply": "2023-05-12T12:21:54.121796Z"
    },
    "id": "GJnzG561XzuD",
    "outputId": "8a1c54ef-d5f9-4ac9-9b92-6dff736b9344",
    "papermill": {
     "duration": 42.494563,
     "end_time": "2023-05-12T12:21:54.125449",
     "exception": false,
     "start_time": "2023-05-12T12:21:11.630886",
     "status": "completed"
    },
    "tags": []
   },
   "outputs": [
    {
     "name": "stdout",
     "output_type": "stream",
     "text": [
      "Collecting evaluate\r\n",
      "  Downloading evaluate-0.4.0-py3-none-any.whl (81 kB)\r\n",
      "\u001b[2K     \u001b[90m━━━━━━━━━━━━━━━━━━━━━━━━━━━━━━━━━━━━━━━━\u001b[0m \u001b[32m81.4/81.4 kB\u001b[0m \u001b[31m2.9 MB/s\u001b[0m eta \u001b[36m0:00:00\u001b[0m\r\n",
      "\u001b[?25hRequirement already satisfied: pandas in /opt/conda/lib/python3.10/site-packages (from evaluate) (1.5.3)\r\n",
      "Requirement already satisfied: responses<0.19 in /opt/conda/lib/python3.10/site-packages (from evaluate) (0.18.0)\r\n",
      "Requirement already satisfied: tqdm>=4.62.1 in /opt/conda/lib/python3.10/site-packages (from evaluate) (4.64.1)\r\n",
      "Requirement already satisfied: fsspec[http]>=2021.05.0 in /opt/conda/lib/python3.10/site-packages (from evaluate) (2023.4.0)\r\n",
      "Requirement already satisfied: xxhash in /opt/conda/lib/python3.10/site-packages (from evaluate) (3.2.0)\r\n",
      "Requirement already satisfied: requests>=2.19.0 in /opt/conda/lib/python3.10/site-packages (from evaluate) (2.28.2)\r\n",
      "Requirement already satisfied: multiprocess in /opt/conda/lib/python3.10/site-packages (from evaluate) (0.70.14)\r\n",
      "Requirement already satisfied: datasets>=2.0.0 in /opt/conda/lib/python3.10/site-packages (from evaluate) (2.1.0)\r\n",
      "Requirement already satisfied: numpy>=1.17 in /opt/conda/lib/python3.10/site-packages (from evaluate) (1.23.5)\r\n",
      "Requirement already satisfied: huggingface-hub>=0.7.0 in /opt/conda/lib/python3.10/site-packages (from evaluate) (0.13.4)\r\n",
      "Requirement already satisfied: dill in /opt/conda/lib/python3.10/site-packages (from evaluate) (0.3.6)\r\n",
      "Requirement already satisfied: packaging in /opt/conda/lib/python3.10/site-packages (from evaluate) (21.3)\r\n",
      "Requirement already satisfied: pyarrow>=5.0.0 in /opt/conda/lib/python3.10/site-packages (from datasets>=2.0.0->evaluate) (10.0.1)\r\n",
      "Requirement already satisfied: aiohttp in /opt/conda/lib/python3.10/site-packages (from datasets>=2.0.0->evaluate) (3.8.4)\r\n",
      "Requirement already satisfied: filelock in /opt/conda/lib/python3.10/site-packages (from huggingface-hub>=0.7.0->evaluate) (3.11.0)\r\n",
      "Requirement already satisfied: typing-extensions>=3.7.4.3 in /opt/conda/lib/python3.10/site-packages (from huggingface-hub>=0.7.0->evaluate) (4.5.0)\r\n",
      "Requirement already satisfied: pyyaml>=5.1 in /opt/conda/lib/python3.10/site-packages (from huggingface-hub>=0.7.0->evaluate) (6.0)\r\n",
      "Requirement already satisfied: pyparsing!=3.0.5,>=2.0.2 in /opt/conda/lib/python3.10/site-packages (from packaging->evaluate) (3.0.9)\r\n",
      "Requirement already satisfied: certifi>=2017.4.17 in /opt/conda/lib/python3.10/site-packages (from requests>=2.19.0->evaluate) (2022.12.7)\r\n",
      "Requirement already satisfied: charset-normalizer<4,>=2 in /opt/conda/lib/python3.10/site-packages (from requests>=2.19.0->evaluate) (2.1.1)\r\n",
      "Requirement already satisfied: urllib3<1.27,>=1.21.1 in /opt/conda/lib/python3.10/site-packages (from requests>=2.19.0->evaluate) (1.26.15)\r\n",
      "Requirement already satisfied: idna<4,>=2.5 in /opt/conda/lib/python3.10/site-packages (from requests>=2.19.0->evaluate) (3.4)\r\n",
      "Requirement already satisfied: python-dateutil>=2.8.1 in /opt/conda/lib/python3.10/site-packages (from pandas->evaluate) (2.8.2)\r\n",
      "Requirement already satisfied: pytz>=2020.1 in /opt/conda/lib/python3.10/site-packages (from pandas->evaluate) (2023.3)\r\n",
      "Requirement already satisfied: attrs>=17.3.0 in /opt/conda/lib/python3.10/site-packages (from aiohttp->datasets>=2.0.0->evaluate) (22.2.0)\r\n",
      "Requirement already satisfied: yarl<2.0,>=1.0 in /opt/conda/lib/python3.10/site-packages (from aiohttp->datasets>=2.0.0->evaluate) (1.8.2)\r\n",
      "Requirement already satisfied: async-timeout<5.0,>=4.0.0a3 in /opt/conda/lib/python3.10/site-packages (from aiohttp->datasets>=2.0.0->evaluate) (4.0.2)\r\n",
      "Requirement already satisfied: aiosignal>=1.1.2 in /opt/conda/lib/python3.10/site-packages (from aiohttp->datasets>=2.0.0->evaluate) (1.3.1)\r\n",
      "Requirement already satisfied: frozenlist>=1.1.1 in /opt/conda/lib/python3.10/site-packages (from aiohttp->datasets>=2.0.0->evaluate) (1.3.3)\r\n",
      "Requirement already satisfied: multidict<7.0,>=4.5 in /opt/conda/lib/python3.10/site-packages (from aiohttp->datasets>=2.0.0->evaluate) (6.0.4)\r\n",
      "Requirement already satisfied: six>=1.5 in /opt/conda/lib/python3.10/site-packages (from python-dateutil>=2.8.1->pandas->evaluate) (1.16.0)\r\n",
      "Installing collected packages: evaluate\r\n",
      "Successfully installed evaluate-0.4.0\r\n",
      "\u001b[33mWARNING: Running pip as the 'root' user can result in broken permissions and conflicting behaviour with the system package manager. It is recommended to use a virtual environment instead: https://pip.pypa.io/warnings/venv\u001b[0m\u001b[33m\r\n",
      "\u001b[0mNote: you may need to restart the kernel to use updated packages.\n",
      "Collecting openprompt\r\n",
      "  Downloading openprompt-1.0.1-py3-none-any.whl (146 kB)\r\n",
      "\u001b[2K     \u001b[90m━━━━━━━━━━━━━━━━━━━━━━━━━━━━━━━━━━━━━━━\u001b[0m \u001b[32m146.4/146.4 kB\u001b[0m \u001b[31m3.8 MB/s\u001b[0m eta \u001b[36m0:00:00\u001b[0m\r\n",
      "\u001b[?25hRequirement already satisfied: tensorboardX in /opt/conda/lib/python3.10/site-packages (from openprompt) (2.6)\r\n",
      "Collecting sentencepiece==0.1.96\r\n",
      "  Downloading sentencepiece-0.1.96-cp310-cp310-manylinux_2_17_x86_64.manylinux2014_x86_64.whl (1.2 MB)\r\n",
      "\u001b[2K     \u001b[90m━━━━━━━━━━━━━━━━━━━━━━━━━━━━━━━━━━━━━━━━\u001b[0m \u001b[32m1.2/1.2 MB\u001b[0m \u001b[31m24.1 MB/s\u001b[0m eta \u001b[36m0:00:00\u001b[0m\r\n",
      "\u001b[?25hRequirement already satisfied: dill in /opt/conda/lib/python3.10/site-packages (from openprompt) (0.3.6)\r\n",
      "Collecting rouge==1.0.0\r\n",
      "  Downloading rouge-1.0.0-py3-none-any.whl (14 kB)\r\n",
      "Requirement already satisfied: tqdm>=4.62.2 in /opt/conda/lib/python3.10/site-packages (from openprompt) (4.64.1)\r\n",
      "Requirement already satisfied: nltk in /opt/conda/lib/python3.10/site-packages (from openprompt) (3.2.4)\r\n",
      "Requirement already satisfied: pyarrow in /opt/conda/lib/python3.10/site-packages (from openprompt) (10.0.1)\r\n",
      "Requirement already satisfied: datasets in /opt/conda/lib/python3.10/site-packages (from openprompt) (2.1.0)\r\n",
      "Requirement already satisfied: scipy in /opt/conda/lib/python3.10/site-packages (from openprompt) (1.9.3)\r\n",
      "Collecting yacs\r\n",
      "  Downloading yacs-0.1.8-py3-none-any.whl (14 kB)\r\n",
      "Requirement already satisfied: transformers>=4.10.0 in /opt/conda/lib/python3.10/site-packages (from openprompt) (4.28.1)\r\n",
      "Requirement already satisfied: six in /opt/conda/lib/python3.10/site-packages (from rouge==1.0.0->openprompt) (1.16.0)\r\n",
      "Requirement already satisfied: packaging>=20.0 in /opt/conda/lib/python3.10/site-packages (from transformers>=4.10.0->openprompt) (21.3)\r\n",
      "Requirement already satisfied: numpy>=1.17 in /opt/conda/lib/python3.10/site-packages (from transformers>=4.10.0->openprompt) (1.23.5)\r\n",
      "Requirement already satisfied: huggingface-hub<1.0,>=0.11.0 in /opt/conda/lib/python3.10/site-packages (from transformers>=4.10.0->openprompt) (0.13.4)\r\n",
      "Requirement already satisfied: filelock in /opt/conda/lib/python3.10/site-packages (from transformers>=4.10.0->openprompt) (3.11.0)\r\n",
      "Requirement already satisfied: tokenizers!=0.11.3,<0.14,>=0.11.1 in /opt/conda/lib/python3.10/site-packages (from transformers>=4.10.0->openprompt) (0.13.3)\r\n",
      "Requirement already satisfied: regex!=2019.12.17 in /opt/conda/lib/python3.10/site-packages (from transformers>=4.10.0->openprompt) (2023.3.23)\r\n",
      "Requirement already satisfied: requests in /opt/conda/lib/python3.10/site-packages (from transformers>=4.10.0->openprompt) (2.28.2)\r\n",
      "Requirement already satisfied: pyyaml>=5.1 in /opt/conda/lib/python3.10/site-packages (from transformers>=4.10.0->openprompt) (6.0)\r\n",
      "Requirement already satisfied: pandas in /opt/conda/lib/python3.10/site-packages (from datasets->openprompt) (1.5.3)\r\n",
      "Requirement already satisfied: responses<0.19 in /opt/conda/lib/python3.10/site-packages (from datasets->openprompt) (0.18.0)\r\n",
      "Requirement already satisfied: aiohttp in /opt/conda/lib/python3.10/site-packages (from datasets->openprompt) (3.8.4)\r\n",
      "Requirement already satisfied: xxhash in /opt/conda/lib/python3.10/site-packages (from datasets->openprompt) (3.2.0)\r\n",
      "Requirement already satisfied: multiprocess in /opt/conda/lib/python3.10/site-packages (from datasets->openprompt) (0.70.14)\r\n",
      "Requirement already satisfied: fsspec[http]>=2021.05.0 in /opt/conda/lib/python3.10/site-packages (from datasets->openprompt) (2023.4.0)\r\n",
      "Requirement already satisfied: protobuf<4,>=3.8.0 in /opt/conda/lib/python3.10/site-packages (from tensorboardX->openprompt) (3.20.3)\r\n",
      "Requirement already satisfied: charset-normalizer<4.0,>=2.0 in /opt/conda/lib/python3.10/site-packages (from aiohttp->datasets->openprompt) (2.1.1)\r\n",
      "Requirement already satisfied: attrs>=17.3.0 in /opt/conda/lib/python3.10/site-packages (from aiohttp->datasets->openprompt) (22.2.0)\r\n",
      "Requirement already satisfied: async-timeout<5.0,>=4.0.0a3 in /opt/conda/lib/python3.10/site-packages (from aiohttp->datasets->openprompt) (4.0.2)\r\n",
      "Requirement already satisfied: aiosignal>=1.1.2 in /opt/conda/lib/python3.10/site-packages (from aiohttp->datasets->openprompt) (1.3.1)\r\n",
      "Requirement already satisfied: frozenlist>=1.1.1 in /opt/conda/lib/python3.10/site-packages (from aiohttp->datasets->openprompt) (1.3.3)\r\n",
      "Requirement already satisfied: yarl<2.0,>=1.0 in /opt/conda/lib/python3.10/site-packages (from aiohttp->datasets->openprompt) (1.8.2)\r\n",
      "Requirement already satisfied: multidict<7.0,>=4.5 in /opt/conda/lib/python3.10/site-packages (from aiohttp->datasets->openprompt) (6.0.4)\r\n",
      "Requirement already satisfied: typing-extensions>=3.7.4.3 in /opt/conda/lib/python3.10/site-packages (from huggingface-hub<1.0,>=0.11.0->transformers>=4.10.0->openprompt) (4.5.0)\r\n",
      "Requirement already satisfied: pyparsing!=3.0.5,>=2.0.2 in /opt/conda/lib/python3.10/site-packages (from packaging>=20.0->transformers>=4.10.0->openprompt) (3.0.9)\r\n",
      "Requirement already satisfied: urllib3<1.27,>=1.21.1 in /opt/conda/lib/python3.10/site-packages (from requests->transformers>=4.10.0->openprompt) (1.26.15)\r\n",
      "Requirement already satisfied: certifi>=2017.4.17 in /opt/conda/lib/python3.10/site-packages (from requests->transformers>=4.10.0->openprompt) (2022.12.7)\r\n",
      "Requirement already satisfied: idna<4,>=2.5 in /opt/conda/lib/python3.10/site-packages (from requests->transformers>=4.10.0->openprompt) (3.4)\r\n",
      "Requirement already satisfied: python-dateutil>=2.8.1 in /opt/conda/lib/python3.10/site-packages (from pandas->datasets->openprompt) (2.8.2)\r\n",
      "Requirement already satisfied: pytz>=2020.1 in /opt/conda/lib/python3.10/site-packages (from pandas->datasets->openprompt) (2023.3)\r\n",
      "Installing collected packages: sentencepiece, yacs, rouge, openprompt\r\n",
      "  Attempting uninstall: sentencepiece\r\n",
      "    Found existing installation: sentencepiece 0.1.98\r\n",
      "    Uninstalling sentencepiece-0.1.98:\r\n",
      "      Successfully uninstalled sentencepiece-0.1.98\r\n",
      "Successfully installed openprompt-1.0.1 rouge-1.0.0 sentencepiece-0.1.96 yacs-0.1.8\r\n",
      "\u001b[33mWARNING: Running pip as the 'root' user can result in broken permissions and conflicting behaviour with the system package manager. It is recommended to use a virtual environment instead: https://pip.pypa.io/warnings/venv\u001b[0m\u001b[33m\r\n",
      "\u001b[0mNote: you may need to restart the kernel to use updated packages.\n",
      "Collecting adapter-transformers==3.1.0\r\n",
      "  Downloading adapter_transformers-3.1.0-py3-none-any.whl (4.8 MB)\r\n",
      "\u001b[2K     \u001b[90m━━━━━━━━━━━━━━━━━━━━━━━━━━━━━━━━━━━━━━━━\u001b[0m \u001b[32m4.8/4.8 MB\u001b[0m \u001b[31m39.7 MB/s\u001b[0m eta \u001b[36m0:00:00\u001b[0m\r\n",
      "\u001b[?25hRequirement already satisfied: requests in /opt/conda/lib/python3.10/site-packages (from adapter-transformers==3.1.0) (2.28.2)\r\n",
      "Collecting tokenizers!=0.11.3,<0.13,>=0.11.1\r\n",
      "  Downloading tokenizers-0.12.1-cp310-cp310-manylinux_2_12_x86_64.manylinux2010_x86_64.whl (6.6 MB)\r\n",
      "\u001b[2K     \u001b[90m━━━━━━━━━━━━━━━━━━━━━━━━━━━━━━━━━━━━━━━━\u001b[0m \u001b[32m6.6/6.6 MB\u001b[0m \u001b[31m84.0 MB/s\u001b[0m eta \u001b[36m0:00:00\u001b[0m\r\n",
      "\u001b[?25hRequirement already satisfied: pyyaml>=5.1 in /opt/conda/lib/python3.10/site-packages (from adapter-transformers==3.1.0) (6.0)\r\n",
      "Requirement already satisfied: regex!=2019.12.17 in /opt/conda/lib/python3.10/site-packages (from adapter-transformers==3.1.0) (2023.3.23)\r\n",
      "Requirement already satisfied: numpy>=1.17 in /opt/conda/lib/python3.10/site-packages (from adapter-transformers==3.1.0) (1.23.5)\r\n",
      "Requirement already satisfied: packaging>=20.0 in /opt/conda/lib/python3.10/site-packages (from adapter-transformers==3.1.0) (21.3)\r\n",
      "Requirement already satisfied: filelock in /opt/conda/lib/python3.10/site-packages (from adapter-transformers==3.1.0) (3.11.0)\r\n",
      "Requirement already satisfied: huggingface-hub<1.0,>=0.1.0 in /opt/conda/lib/python3.10/site-packages (from adapter-transformers==3.1.0) (0.13.4)\r\n",
      "Requirement already satisfied: tqdm>=4.27 in /opt/conda/lib/python3.10/site-packages (from adapter-transformers==3.1.0) (4.64.1)\r\n",
      "Requirement already satisfied: typing-extensions>=3.7.4.3 in /opt/conda/lib/python3.10/site-packages (from huggingface-hub<1.0,>=0.1.0->adapter-transformers==3.1.0) (4.5.0)\r\n",
      "Requirement already satisfied: pyparsing!=3.0.5,>=2.0.2 in /opt/conda/lib/python3.10/site-packages (from packaging>=20.0->adapter-transformers==3.1.0) (3.0.9)\r\n",
      "Requirement already satisfied: urllib3<1.27,>=1.21.1 in /opt/conda/lib/python3.10/site-packages (from requests->adapter-transformers==3.1.0) (1.26.15)\r\n",
      "Requirement already satisfied: charset-normalizer<4,>=2 in /opt/conda/lib/python3.10/site-packages (from requests->adapter-transformers==3.1.0) (2.1.1)\r\n",
      "Requirement already satisfied: certifi>=2017.4.17 in /opt/conda/lib/python3.10/site-packages (from requests->adapter-transformers==3.1.0) (2022.12.7)\r\n",
      "Requirement already satisfied: idna<4,>=2.5 in /opt/conda/lib/python3.10/site-packages (from requests->adapter-transformers==3.1.0) (3.4)\r\n",
      "Installing collected packages: tokenizers, adapter-transformers\r\n",
      "  Attempting uninstall: tokenizers\r\n",
      "    Found existing installation: tokenizers 0.13.3\r\n",
      "    Uninstalling tokenizers-0.13.3:\r\n",
      "      Successfully uninstalled tokenizers-0.13.3\r\n",
      "Successfully installed adapter-transformers-3.1.0 tokenizers-0.12.1\r\n",
      "\u001b[33mWARNING: Running pip as the 'root' user can result in broken permissions and conflicting behaviour with the system package manager. It is recommended to use a virtual environment instead: https://pip.pypa.io/warnings/venv\u001b[0m\u001b[33m\r\n",
      "\u001b[0mNote: you may need to restart the kernel to use updated packages.\n"
     ]
    }
   ],
   "source": [
    "%pip install evaluate\n",
    "%pip install openprompt\n",
    "%pip install adapter-transformers==3.1.0"
   ]
  },
  {
   "cell_type": "markdown",
   "id": "2fa28f7b",
   "metadata": {
    "execution": {
     "iopub.execute_input": "2023-04-19T11:46:38.93501Z",
     "iopub.status.busy": "2023-04-19T11:46:38.934658Z",
     "iopub.status.idle": "2023-04-19T11:46:49.19186Z",
     "shell.execute_reply": "2023-04-19T11:46:49.190506Z",
     "shell.execute_reply.started": "2023-04-19T11:46:38.93497Z"
    },
    "papermill": {
     "duration": 0.011066,
     "end_time": "2023-05-12T12:21:54.147785",
     "exception": false,
     "start_time": "2023-05-12T12:21:54.136719",
     "status": "completed"
    },
    "tags": []
   },
   "source": [
    "_Dependencies_\n"
   ]
  },
  {
   "cell_type": "code",
   "execution_count": 2,
   "id": "e5de3eae",
   "metadata": {
    "execution": {
     "iopub.execute_input": "2023-05-12T12:21:54.172537Z",
     "iopub.status.busy": "2023-05-12T12:21:54.171591Z",
     "iopub.status.idle": "2023-05-12T12:22:07.712426Z",
     "shell.execute_reply": "2023-05-12T12:22:07.711500Z"
    },
    "id": "6BIRiGiWkVU6",
    "papermill": {
     "duration": 13.555921,
     "end_time": "2023-05-12T12:22:07.715080",
     "exception": false,
     "start_time": "2023-05-12T12:21:54.159159",
     "status": "completed"
    },
    "tags": []
   },
   "outputs": [
    {
     "name": "stderr",
     "output_type": "stream",
     "text": [
      "/opt/conda/lib/python3.10/site-packages/scipy/__init__.py:146: UserWarning: A NumPy version >=1.16.5 and <1.23.0 is required for this version of SciPy (detected version 1.23.5\n",
      "  warnings.warn(f\"A NumPy version >={np_minversion} and <{np_maxversion}\"\n"
     ]
    }
   ],
   "source": [
    "import torch\n",
    "import warnings\n",
    "import pandas as pd\n",
    "from prettytable import PrettyTable\n",
    "from collections import defaultdict\n",
    "from datasets import load_metric\n",
    "from openprompt import PromptDataLoader, PromptForClassification\n",
    "from openprompt.data_utils import InputExample\n",
    "from openprompt.prompts import ManualTemplate, ManualVerbalizer\n",
    "from openprompt.plms.utils import TokenizerWrapper\n",
    "from transformers import XLMRobertaConfig, XLMRobertaTokenizer, XLMRobertaModel, XLMRobertaForMaskedLM, set_seed\n",
    "from sklearn.model_selection import train_test_split"
   ]
  },
  {
   "cell_type": "code",
   "execution_count": 3,
   "id": "c4f3fb12",
   "metadata": {
    "execution": {
     "iopub.execute_input": "2023-05-12T12:22:07.740088Z",
     "iopub.status.busy": "2023-05-12T12:22:07.739799Z",
     "iopub.status.idle": "2023-05-12T12:22:07.744200Z",
     "shell.execute_reply": "2023-05-12T12:22:07.743212Z"
    },
    "papermill": {
     "duration": 0.019453,
     "end_time": "2023-05-12T12:22:07.746743",
     "exception": false,
     "start_time": "2023-05-12T12:22:07.727290",
     "status": "completed"
    },
    "tags": []
   },
   "outputs": [],
   "source": [
    "warnings.filterwarnings('ignore')"
   ]
  },
  {
   "cell_type": "markdown",
   "id": "f0320bd1",
   "metadata": {
    "papermill": {
     "duration": 0.011112,
     "end_time": "2023-05-12T12:22:07.769230",
     "exception": false,
     "start_time": "2023-05-12T12:22:07.758118",
     "status": "completed"
    },
    "tags": []
   },
   "source": [
    "_Parameters_\n"
   ]
  },
  {
   "cell_type": "code",
   "execution_count": 4,
   "id": "e7cc1a2c",
   "metadata": {
    "execution": {
     "iopub.execute_input": "2023-05-12T12:22:07.793127Z",
     "iopub.status.busy": "2023-05-12T12:22:07.792856Z",
     "iopub.status.idle": "2023-05-12T12:22:07.799218Z",
     "shell.execute_reply": "2023-05-12T12:22:07.798330Z"
    },
    "id": "JUCDlx1akOCt",
    "papermill": {
     "duration": 0.020561,
     "end_time": "2023-05-12T12:22:07.801128",
     "exception": false,
     "start_time": "2023-05-12T12:22:07.780567",
     "status": "completed"
    },
    "tags": []
   },
   "outputs": [],
   "source": [
    "model_type = \"XLM-R\"\n",
    "technique = \"Sentiment\" #@param [\"Sentiment\", \"Humor\", \"Hate-Speech\"]\n",
    "use_cuda = True\n",
    "no_of_labels = 4 #Sentiment:4, Humor:2, Hate-Speech:3\n",
    "validation_size = (1/9)\n",
    "test_size = 0.1\n",
    "split_random_state = 42\n",
    "max_seq_length = 128\n",
    "batch_size = 32\n",
    "training_seed = 42 #@param [8, 42, 77]\n",
    "script = \"Char-Script-1.0\""
   ]
  },
  {
   "cell_type": "markdown",
   "id": "d3cedda2",
   "metadata": {
    "papermill": {
     "duration": 0.011073,
     "end_time": "2023-05-12T12:22:07.823996",
     "exception": false,
     "start_time": "2023-05-12T12:22:07.812923",
     "status": "completed"
    },
    "tags": []
   },
   "source": [
    "## Dataset Preprocessing\n"
   ]
  },
  {
   "cell_type": "code",
   "execution_count": 5,
   "id": "cba50791",
   "metadata": {
    "execution": {
     "iopub.execute_input": "2023-05-12T12:22:07.847790Z",
     "iopub.status.busy": "2023-05-12T12:22:07.847530Z",
     "iopub.status.idle": "2023-05-12T12:22:07.943147Z",
     "shell.execute_reply": "2023-05-12T12:22:07.942120Z"
    },
    "papermill": {
     "duration": 0.110276,
     "end_time": "2023-05-12T12:22:07.945698",
     "exception": false,
     "start_time": "2023-05-12T12:22:07.835422",
     "status": "completed"
    },
    "tags": []
   },
   "outputs": [],
   "source": [
    "df = pd.read_csv(\"/kaggle/input/sinhala-english-cmcs-dataset/annotated-script(all).csv\")\n",
    "df = df[['Sentence', technique, script]]\n",
    "df.columns = ['Sentence', 'Label', script]"
   ]
  },
  {
   "cell_type": "markdown",
   "id": "a002699a",
   "metadata": {
    "papermill": {
     "duration": 0.011256,
     "end_time": "2023-05-12T12:22:07.969026",
     "exception": false,
     "start_time": "2023-05-12T12:22:07.957770",
     "status": "completed"
    },
    "tags": []
   },
   "source": [
    "*Label Encoding*"
   ]
  },
  {
   "cell_type": "code",
   "execution_count": 6,
   "id": "963f1aa9",
   "metadata": {
    "execution": {
     "iopub.execute_input": "2023-05-12T12:22:07.993599Z",
     "iopub.status.busy": "2023-05-12T12:22:07.992810Z",
     "iopub.status.idle": "2023-05-12T12:22:08.000977Z",
     "shell.execute_reply": "2023-05-12T12:22:08.000165Z"
    },
    "papermill": {
     "duration": 0.022419,
     "end_time": "2023-05-12T12:22:08.002991",
     "exception": false,
     "start_time": "2023-05-12T12:22:07.980572",
     "status": "completed"
    },
    "tags": []
   },
   "outputs": [],
   "source": [
    "df['Label'], uniq = pd.factorize(df['Label'])"
   ]
  },
  {
   "cell_type": "markdown",
   "id": "62fa58a3",
   "metadata": {
    "papermill": {
     "duration": 0.011186,
     "end_time": "2023-05-12T12:22:08.025753",
     "exception": false,
     "start_time": "2023-05-12T12:22:08.014567",
     "status": "completed"
    },
    "tags": []
   },
   "source": [
    "*Train, Validation & Test Split*"
   ]
  },
  {
   "cell_type": "code",
   "execution_count": 7,
   "id": "47a540fd",
   "metadata": {
    "execution": {
     "iopub.execute_input": "2023-05-12T12:22:08.049866Z",
     "iopub.status.busy": "2023-05-12T12:22:08.049558Z",
     "iopub.status.idle": "2023-05-12T12:22:08.075105Z",
     "shell.execute_reply": "2023-05-12T12:22:08.074195Z"
    },
    "papermill": {
     "duration": 0.040107,
     "end_time": "2023-05-12T12:22:08.077185",
     "exception": false,
     "start_time": "2023-05-12T12:22:08.037078",
     "status": "completed"
    },
    "tags": []
   },
   "outputs": [],
   "source": [
    "X, y = df[['Sentence', script]], df[['Label']]\n",
    "stratifying_col = y[\"Label\"]\n",
    "X_rem, X_test, y_rem, y_test = train_test_split(X, y, test_size=test_size, stratify=stratifying_col, random_state=split_random_state)\n",
    "stratifying_col = y_rem[\"Label\"]\n",
    "X_train, X_validation, y_train, y_validation = train_test_split(X_rem, y_rem, test_size=validation_size, stratify=stratifying_col, random_state=split_random_state)"
   ]
  },
  {
   "cell_type": "code",
   "execution_count": 8,
   "id": "32d1c0b4",
   "metadata": {
    "execution": {
     "iopub.execute_input": "2023-05-12T12:22:08.101264Z",
     "iopub.status.busy": "2023-05-12T12:22:08.100996Z",
     "iopub.status.idle": "2023-05-12T12:22:08.108265Z",
     "shell.execute_reply": "2023-05-12T12:22:08.107415Z"
    },
    "papermill": {
     "duration": 0.022512,
     "end_time": "2023-05-12T12:22:08.111106",
     "exception": false,
     "start_time": "2023-05-12T12:22:08.088594",
     "status": "completed"
    },
    "tags": []
   },
   "outputs": [
    {
     "name": "stdout",
     "output_type": "stream",
     "text": [
      "Train : Rows = 10814 , Columns =  2\n",
      "y_train : Rows = 10814 , Columns =  1\n",
      "X_validation : Rows = 1352 , Columns =  2\n",
      "y_validation : Rows = 1352 , Columns =  1\n",
      "X_test : Rows = 1352 , Columns =  2\n",
      "y_test : Rows = 1352 , Columns =  1\n"
     ]
    }
   ],
   "source": [
    "print(\"Train : Rows =\", X_train.shape[0], \", Columns = \", X_train.shape[1])\n",
    "print(\"y_train : Rows =\", y_train.shape[0], \", Columns = \", y_train.shape[1])\n",
    "print(\"X_validation : Rows =\", X_validation.shape[0], \", Columns = \", X_validation.shape[1])\n",
    "print(\"y_validation : Rows =\", y_validation.shape[0], \", Columns = \", y_validation.shape[1])\n",
    "print(\"X_test : Rows =\", X_test.shape[0], \", Columns = \", X_test.shape[1])\n",
    "print(\"y_test : Rows =\", y_test.shape[0], \", Columns = \", y_test.shape[1])"
   ]
  },
  {
   "cell_type": "code",
   "execution_count": 9,
   "id": "bff4f8f4",
   "metadata": {
    "execution": {
     "iopub.execute_input": "2023-05-12T12:22:08.135763Z",
     "iopub.status.busy": "2023-05-12T12:22:08.135497Z",
     "iopub.status.idle": "2023-05-12T12:22:08.145462Z",
     "shell.execute_reply": "2023-05-12T12:22:08.143972Z"
    },
    "papermill": {
     "duration": 0.024672,
     "end_time": "2023-05-12T12:22:08.147485",
     "exception": false,
     "start_time": "2023-05-12T12:22:08.122813",
     "status": "completed"
    },
    "tags": []
   },
   "outputs": [
    {
     "name": "stdout",
     "output_type": "stream",
     "text": [
      "Labels : ['Negative', 'Neutral', 'Positive', 'Conflict']\n",
      "Train : [2913, 6877, 924, 100]\n",
      "Validation : [364, 860, 116, 12]\n",
      "Test : [364, 860, 116, 12]\n"
     ]
    }
   ],
   "source": [
    "print(\"Labels :\", ['Negative', 'Neutral', 'Positive', 'Conflict'])\n",
    "print(\"Train :\", y_train.groupby('Label').size().tolist())\n",
    "print(\"Validation :\", y_validation.groupby('Label').size().tolist())\n",
    "print(\"Test :\", y_test.groupby('Label').size().tolist())"
   ]
  },
  {
   "cell_type": "markdown",
   "id": "1d72a360",
   "metadata": {
    "papermill": {
     "duration": 0.011549,
     "end_time": "2023-05-12T12:22:08.170753",
     "exception": false,
     "start_time": "2023-05-12T12:22:08.159204",
     "status": "completed"
    },
    "tags": []
   },
   "source": [
    "## OpenPrompt\n"
   ]
  },
  {
   "cell_type": "code",
   "execution_count": 10,
   "id": "84677707",
   "metadata": {
    "execution": {
     "iopub.execute_input": "2023-05-12T12:22:08.195671Z",
     "iopub.status.busy": "2023-05-12T12:22:08.194965Z",
     "iopub.status.idle": "2023-05-12T12:22:08.204221Z",
     "shell.execute_reply": "2023-05-12T12:22:08.203291Z"
    },
    "papermill": {
     "duration": 0.023808,
     "end_time": "2023-05-12T12:22:08.206236",
     "exception": false,
     "start_time": "2023-05-12T12:22:08.182428",
     "status": "completed"
    },
    "tags": []
   },
   "outputs": [],
   "source": [
    "set_seed(training_seed)\n",
    "torch.backends.cudnn.deterministic = True "
   ]
  },
  {
   "cell_type": "code",
   "execution_count": 11,
   "id": "b8b38371",
   "metadata": {
    "execution": {
     "iopub.execute_input": "2023-05-12T12:22:08.231479Z",
     "iopub.status.busy": "2023-05-12T12:22:08.230782Z",
     "iopub.status.idle": "2023-05-12T12:22:08.246041Z",
     "shell.execute_reply": "2023-05-12T12:22:08.245208Z"
    },
    "id": "bq3XoGPBdJri",
    "papermill": {
     "duration": 0.030111,
     "end_time": "2023-05-12T12:22:08.248098",
     "exception": false,
     "start_time": "2023-05-12T12:22:08.217987",
     "status": "completed"
    },
    "tags": []
   },
   "outputs": [],
   "source": [
    "class MLMTokenizerWrapper(TokenizerWrapper):\n",
    "    add_input_keys = ['input_ids', 'attention_mask', 'token_type_ids']\n",
    "\n",
    "    @property\n",
    "    def mask_token(self):\n",
    "        return self.tokenizer.mask_token\n",
    "\n",
    "    @property\n",
    "    def mask_token_ids(self):\n",
    "        return self.tokenizer.mask_token_id\n",
    "\n",
    "    @property\n",
    "    def num_special_tokens_to_add(self):\n",
    "        if not hasattr(self, '_num_specials'):\n",
    "            self._num_specials = self.tokenizer.num_special_tokens_to_add()\n",
    "        return self._num_specials\n",
    "\n",
    "    def tokenize_one_example(self, wrapped_example, teacher_forcing):\n",
    "        wrapped_example, others = wrapped_example\n",
    "\n",
    "        # for some dataset like SuperGLUE.COPA, the answer requires prediction an span of\n",
    "        # the input. Or in generation tasks, we need to generate a piece of target_text.\n",
    "        # In these case, it tokenized to the encoded_tgt_text for future use.\n",
    "        encoded_tgt_text = []\n",
    "        if 'tgt_text' in others:\n",
    "            tgt_text = others['tgt_text']\n",
    "            if isinstance(tgt_text, str):\n",
    "                tgt_text = [tgt_text]\n",
    "            for t in tgt_text:\n",
    "                encoded_tgt_text.append(self.tokenizer.encode(t, add_special_tokens=False))\n",
    "\n",
    "        mask_id = 0 # the i-th the mask token in the template.\n",
    "\n",
    "        encoder_inputs = defaultdict(list)\n",
    "        for piece in wrapped_example:\n",
    "            if piece['loss_ids']==1:\n",
    "                if teacher_forcing: # fill the mask with the tgt task\n",
    "                    raise RuntimeError(\"Masked Language Model can't perform teacher forcing training!\")\n",
    "                else:\n",
    "                    encode_text = [self.mask_token_ids]\n",
    "                mask_id += 1\n",
    "\n",
    "            if piece['text'] in self.special_tokens_maps.keys():\n",
    "                to_replace = self.special_tokens_maps[piece['text']]\n",
    "                if to_replace is not None:\n",
    "                    piece['text'] = to_replace\n",
    "                else:\n",
    "                    raise KeyError(\"This tokenizer doesn't specify {} token.\".format(piece['text']))\n",
    "\n",
    "            if 'soft_token_ids' in piece and piece['soft_token_ids']!=0:\n",
    "                encode_text = [0] # can be replace by any token, since these token will use their own embeddings\n",
    "            else:\n",
    "                encode_text = self.tokenizer.encode(piece['text'], add_special_tokens=False)\n",
    "\n",
    "            encoding_length = len(encode_text)\n",
    "            encoder_inputs['input_ids'].append(encode_text)\n",
    "            for key in piece:\n",
    "                if key not in ['text']:\n",
    "                    encoder_inputs[key].append([piece[key]]*encoding_length)\n",
    "\n",
    "        encoder_inputs = self.truncate(encoder_inputs=encoder_inputs)\n",
    "        # delete shortenable ids\n",
    "        encoder_inputs.pop(\"shortenable_ids\")\n",
    "        encoder_inputs = self.concate_parts(input_dict=encoder_inputs)\n",
    "        encoder_inputs = self.add_special_tokens(encoder_inputs=encoder_inputs)\n",
    "        # create special input ids\n",
    "        encoder_inputs['attention_mask'] = [1] *len(encoder_inputs['input_ids'])\n",
    "        if self.create_token_type_ids:\n",
    "            encoder_inputs['token_type_ids'] = [0] *len(encoder_inputs['input_ids'])\n",
    "        # padding\n",
    "        encoder_inputs = self.padding(input_dict=encoder_inputs, max_len=self.max_seq_length, pad_id_for_inputs=self.tokenizer.pad_token_id)\n",
    "\n",
    "        if len(encoded_tgt_text) > 0:\n",
    "            encoder_inputs = {**encoder_inputs, \"encoded_tgt_text\": encoded_tgt_text}# convert defaultdict to dict\n",
    "        else:\n",
    "            encoder_inputs = {**encoder_inputs}\n",
    "        return encoder_inputs"
   ]
  },
  {
   "cell_type": "code",
   "execution_count": 12,
   "id": "3e04a144",
   "metadata": {
    "execution": {
     "iopub.execute_input": "2023-05-12T12:22:08.273182Z",
     "iopub.status.busy": "2023-05-12T12:22:08.272481Z",
     "iopub.status.idle": "2023-05-12T12:22:08.277954Z",
     "shell.execute_reply": "2023-05-12T12:22:08.277138Z"
    },
    "id": "71QIB8CjdRPI",
    "papermill": {
     "duration": 0.020059,
     "end_time": "2023-05-12T12:22:08.280101",
     "exception": false,
     "start_time": "2023-05-12T12:22:08.260042",
     "status": "completed"
    },
    "tags": []
   },
   "outputs": [],
   "source": [
    "def load_plm(model_name, model_path):   \n",
    "    model_config = XLMRobertaConfig.from_pretrained(model_path)\n",
    "    model = XLMRobertaForMaskedLM.from_pretrained(model_path, config=model_config)\n",
    "    tokenizer = XLMRobertaTokenizer.from_pretrained(model_path)\n",
    "    wrapper = MLMTokenizerWrapper\n",
    "    return model, tokenizer, wrapper"
   ]
  },
  {
   "cell_type": "markdown",
   "id": "3e6d8aba",
   "metadata": {
    "papermill": {
     "duration": 0.011702,
     "end_time": "2023-05-12T12:22:08.303843",
     "exception": false,
     "start_time": "2023-05-12T12:22:08.292141",
     "status": "completed"
    },
    "tags": []
   },
   "source": [
    "_Load Pre-trained Language Model (PLM)_\n"
   ]
  },
  {
   "cell_type": "code",
   "execution_count": 13,
   "id": "925d2932",
   "metadata": {
    "execution": {
     "iopub.execute_input": "2023-05-12T12:22:08.334690Z",
     "iopub.status.busy": "2023-05-12T12:22:08.333851Z",
     "iopub.status.idle": "2023-05-12T12:22:34.887121Z",
     "shell.execute_reply": "2023-05-12T12:22:34.885988Z"
    },
    "id": "NDPRMGSXdUwW",
    "outputId": "c322f46e-4506-45f8-84b4-cc3804d9c171",
    "papermill": {
     "duration": 26.573893,
     "end_time": "2023-05-12T12:22:34.889783",
     "exception": false,
     "start_time": "2023-05-12T12:22:08.315890",
     "status": "completed"
    },
    "tags": []
   },
   "outputs": [
    {
     "data": {
      "application/vnd.jupyter.widget-view+json": {
       "model_id": "362a68415e004d50b1bf89d32568cbd6",
       "version_major": 2,
       "version_minor": 0
      },
      "text/plain": [
       "Downloading config.json:   0%|          | 0.00/615 [00:00<?, ?B/s]"
      ]
     },
     "metadata": {},
     "output_type": "display_data"
    },
    {
     "data": {
      "application/vnd.jupyter.widget-view+json": {
       "model_id": "d91e3d5de360481791053e8556a62107",
       "version_major": 2,
       "version_minor": 0
      },
      "text/plain": [
       "Downloading pytorch_model.bin:   0%|          | 0.00/1.04G [00:00<?, ?B/s]"
      ]
     },
     "metadata": {},
     "output_type": "display_data"
    },
    {
     "data": {
      "application/vnd.jupyter.widget-view+json": {
       "model_id": "4357358410e446f394fd986d8ed3260e",
       "version_major": 2,
       "version_minor": 0
      },
      "text/plain": [
       "Downloading sentencepiece.bpe.model:   0%|          | 0.00/4.83M [00:00<?, ?B/s]"
      ]
     },
     "metadata": {},
     "output_type": "display_data"
    }
   ],
   "source": [
    "plm, tokenizer, wrapper_class = load_plm(\"xlm\", \"xlm-roberta-base\")"
   ]
  },
  {
   "cell_type": "markdown",
   "id": "2b42dbaf",
   "metadata": {
    "papermill": {
     "duration": 0.012172,
     "end_time": "2023-05-12T12:22:34.915273",
     "exception": false,
     "start_time": "2023-05-12T12:22:34.903101",
     "status": "completed"
    },
    "tags": []
   },
   "source": [
    "_Prompt Template, Verbalizer and PLM_\n"
   ]
  },
  {
   "cell_type": "code",
   "execution_count": 14,
   "id": "4041a8d5",
   "metadata": {
    "execution": {
     "iopub.execute_input": "2023-05-12T12:22:34.942683Z",
     "iopub.status.busy": "2023-05-12T12:22:34.941140Z",
     "iopub.status.idle": "2023-05-12T12:22:34.956274Z",
     "shell.execute_reply": "2023-05-12T12:22:34.955322Z"
    },
    "id": "jD4_Q5w0dXqx",
    "papermill": {
     "duration": 0.03051,
     "end_time": "2023-05-12T12:22:34.958352",
     "exception": false,
     "start_time": "2023-05-12T12:22:34.927842",
     "status": "completed"
    },
    "tags": []
   },
   "outputs": [],
   "source": [
    "prompt_verbalizer = ManualVerbalizer(\n",
    "    classes = [ \"Positive\",\"Negative\",\"Neutral\",\"Conflict\"],\n",
    "    label_words={\"Positive\":[\"හොඳයි\", \"ධනාත්මක\"], \"Negative\":[\"නරකයි\", \"ඍණාත්මක\"], \"Neutral\":[\"මධ්යස්ථ\"], \"Conflict\":[\"ගැටුම්කාරී\"]},\n",
    "    tokenizer = tokenizer\n",
    ")\n",
    "\n",
    "def get_prompttemplate_and_model(template):\n",
    "    prompt_template = ManualTemplate(text = template, tokenizer = tokenizer)\n",
    "    prompt_model = PromptForClassification(template = prompt_template, plm = plm, verbalizer = prompt_verbalizer, freeze_plm=True)\n",
    "    \n",
    "    return prompt_template, prompt_model"
   ]
  },
  {
   "cell_type": "markdown",
   "id": "33fecb8e",
   "metadata": {
    "papermill": {
     "duration": 0.012526,
     "end_time": "2023-05-12T12:22:34.983300",
     "exception": false,
     "start_time": "2023-05-12T12:22:34.970774",
     "status": "completed"
    },
    "tags": []
   },
   "source": [
    "## Create Test DataLoaders\n"
   ]
  },
  {
   "cell_type": "code",
   "execution_count": 15,
   "id": "17a1199d",
   "metadata": {
    "execution": {
     "iopub.execute_input": "2023-05-12T12:22:35.009991Z",
     "iopub.status.busy": "2023-05-12T12:22:35.009154Z",
     "iopub.status.idle": "2023-05-12T12:22:35.079260Z",
     "shell.execute_reply": "2023-05-12T12:22:35.078478Z"
    },
    "papermill": {
     "duration": 0.08576,
     "end_time": "2023-05-12T12:22:35.081490",
     "exception": false,
     "start_time": "2023-05-12T12:22:34.995730",
     "status": "completed"
    },
    "tags": []
   },
   "outputs": [],
   "source": [
    "X_train, y_train = X_train.values.tolist(), y_train.values.tolist()\n",
    "X_validation, y_validation = X_validation.values.tolist(), y_validation.values.tolist()\n",
    "X_test, y_test = X_test.values.tolist(), y_test.values.tolist()"
   ]
  },
  {
   "cell_type": "code",
   "execution_count": 16,
   "id": "58c84671",
   "metadata": {
    "execution": {
     "iopub.execute_input": "2023-05-12T12:22:35.107986Z",
     "iopub.status.busy": "2023-05-12T12:22:35.107719Z",
     "iopub.status.idle": "2023-05-12T12:22:35.120274Z",
     "shell.execute_reply": "2023-05-12T12:22:35.119428Z"
    },
    "papermill": {
     "duration": 0.028355,
     "end_time": "2023-05-12T12:22:35.122602",
     "exception": false,
     "start_time": "2023-05-12T12:22:35.094247",
     "status": "completed"
    },
    "tags": []
   },
   "outputs": [],
   "source": [
    "test_examples=[]\n",
    "test_examples_latin=[]\n",
    "test_examples_sinhala=[]\n",
    "test_examples_mixed=[]\n",
    "\n",
    "for i in range(len(X_test)):\n",
    "    test_examples.append(InputExample(guid = i, text_a = X_test[i][0], label = y_test[i][0]))\n",
    "\n",
    "    if(X_test[i][1]==\"Latin\"):\n",
    "        test_examples_latin.append(InputExample(guid = i, text_a = X_test[i][0], label = y_test[i][0]))\n",
    "    elif(X_test[i][1]==\"Sinhala\"):\n",
    "        test_examples_sinhala.append(InputExample(guid = i, text_a = X_test[i][0], label = y_test[i][0]))    \n",
    "    elif(X_test[i][1]==\"Mixed\"):\n",
    "        test_examples_mixed.append(InputExample(guid = i, text_a = X_test[i][0], label = y_test[i][0]))"
   ]
  },
  {
   "cell_type": "code",
   "execution_count": 17,
   "id": "4b472c1b",
   "metadata": {
    "execution": {
     "iopub.execute_input": "2023-05-12T12:22:35.149968Z",
     "iopub.status.busy": "2023-05-12T12:22:35.149147Z",
     "iopub.status.idle": "2023-05-12T12:22:35.157653Z",
     "shell.execute_reply": "2023-05-12T12:22:35.156619Z"
    },
    "papermill": {
     "duration": 0.024017,
     "end_time": "2023-05-12T12:22:35.159579",
     "exception": false,
     "start_time": "2023-05-12T12:22:35.135562",
     "status": "completed"
    },
    "tags": []
   },
   "outputs": [],
   "source": [
    "def get_test_data_loaders(prompt_template):\n",
    "    test_data_loader = PromptDataLoader(\n",
    "        dataset = test_examples,\n",
    "        tokenizer = tokenizer,\n",
    "        template = prompt_template,\n",
    "        tokenizer_wrapper_class=wrapper_class,\n",
    "        batch_size=batch_size,\n",
    "        max_seq_length=max_seq_length,\n",
    "        truncation=True,\n",
    "        padding=\"max_length\"\n",
    "    ).dataloader\n",
    "    test_data_loader_latin = PromptDataLoader(\n",
    "        dataset = test_examples_latin,\n",
    "        tokenizer = tokenizer,\n",
    "        template = prompt_template,\n",
    "        tokenizer_wrapper_class=wrapper_class,\n",
    "        batch_size=batch_size,\n",
    "        max_seq_length=max_seq_length,\n",
    "        truncation=True,\n",
    "        padding=\"max_length\"\n",
    "    ).dataloader\n",
    "    test_data_loader_sinhala = PromptDataLoader(\n",
    "        dataset = test_examples_sinhala,\n",
    "        tokenizer = tokenizer,\n",
    "        template = prompt_template,\n",
    "        tokenizer_wrapper_class=wrapper_class,\n",
    "        batch_size=batch_size,\n",
    "        max_seq_length=max_seq_length,\n",
    "        truncation=True,\n",
    "        padding=\"max_length\"\n",
    "    ).dataloader\n",
    "    test_data_loader_mixed = PromptDataLoader(\n",
    "        dataset = test_examples_mixed,\n",
    "        tokenizer = tokenizer,\n",
    "        template = prompt_template,\n",
    "        tokenizer_wrapper_class=wrapper_class,\n",
    "        batch_size=batch_size,\n",
    "        max_seq_length=max_seq_length,\n",
    "        truncation=True,\n",
    "        padding=\"max_length\",\n",
    "    ).dataloader\n",
    "    \n",
    "    return test_data_loader, test_data_loader_latin, test_data_loader_sinhala, test_data_loader_mixed"
   ]
  },
  {
   "cell_type": "markdown",
   "id": "0c820566",
   "metadata": {
    "papermill": {
     "duration": 0.012899,
     "end_time": "2023-05-12T12:22:35.185561",
     "exception": false,
     "start_time": "2023-05-12T12:22:35.172662",
     "status": "completed"
    },
    "tags": []
   },
   "source": [
    "## Define Evaluation Methods\n"
   ]
  },
  {
   "cell_type": "code",
   "execution_count": 18,
   "id": "6bda12a7",
   "metadata": {
    "execution": {
     "iopub.execute_input": "2023-05-12T12:22:35.213610Z",
     "iopub.status.busy": "2023-05-12T12:22:35.212844Z",
     "iopub.status.idle": "2023-05-12T12:22:35.219425Z",
     "shell.execute_reply": "2023-05-12T12:22:35.218642Z"
    },
    "papermill": {
     "duration": 0.022835,
     "end_time": "2023-05-12T12:22:35.221417",
     "exception": false,
     "start_time": "2023-05-12T12:22:35.198582",
     "status": "completed"
    },
    "tags": []
   },
   "outputs": [],
   "source": [
    "def predict(promptModel, dataloader):\n",
    "    if use_cuda: promptModel=promptModel.cuda()\n",
    "    promptModel.eval()\n",
    "    allpreds = []\n",
    "    alllabels = []\n",
    "\n",
    "    for step, inputs in enumerate(dataloader):\n",
    "        if use_cuda: inputs = inputs.cuda()\n",
    "        logits = promptModel(inputs)\n",
    "        labels = inputs['label']\n",
    "        alllabels.extend(labels.cpu().tolist())\n",
    "        allpreds.extend(torch.argmax(logits, dim=-1).cpu().tolist())\n",
    "    return allpreds,alllabels"
   ]
  },
  {
   "cell_type": "code",
   "execution_count": 19,
   "id": "ebe34aab",
   "metadata": {
    "execution": {
     "iopub.execute_input": "2023-05-12T12:22:35.248767Z",
     "iopub.status.busy": "2023-05-12T12:22:35.247986Z",
     "iopub.status.idle": "2023-05-12T12:22:35.256684Z",
     "shell.execute_reply": "2023-05-12T12:22:35.255613Z"
    },
    "papermill": {
     "duration": 0.024464,
     "end_time": "2023-05-12T12:22:35.258670",
     "exception": false,
     "start_time": "2023-05-12T12:22:35.234206",
     "status": "completed"
    },
    "tags": []
   },
   "outputs": [],
   "source": [
    "def compute_metrics(allpreds,alllabels):\n",
    "    metric1 = load_metric(\"precision\")\n",
    "    metric2 = load_metric(\"recall\")\n",
    "    metric3 = load_metric(\"f1\")\n",
    "    metric4 = load_metric(\"accuracy\")\n",
    "    \n",
    "    predictions, labels = allpreds,alllabels\n",
    "    precision = metric1.compute(predictions=predictions, references=labels, average=\"weighted\")[\"precision\"]\n",
    "    recall = metric2.compute(predictions=predictions, references=labels, average=\"weighted\")[\"recall\"]\n",
    "    f1 = metric3.compute(predictions=predictions, references=labels, average=\"weighted\")[\"f1\"]\n",
    "    accuracy = metric4.compute(predictions=predictions, references=labels)[\"accuracy\"]\n",
    "    macro_precision = metric1.compute(predictions=predictions, references=labels, average=\"macro\")[\"precision\"]\n",
    "    macro_recall = metric2.compute(predictions=predictions, references=labels, average=\"macro\")[\"recall\"]\n",
    "    macro_f1 = metric3.compute(predictions=predictions, references=labels, average=\"macro\")[\"f1\"]\n",
    "    return {\"accuracy\":accuracy, \"precision\": precision, \"recall\": recall, \"f1\": f1, \"macro_precision\": macro_precision, \"macro_recall\": macro_recall, \"macro_f1\": macro_f1}"
   ]
  },
  {
   "cell_type": "code",
   "execution_count": 20,
   "id": "84e0e223",
   "metadata": {
    "execution": {
     "iopub.execute_input": "2023-05-12T12:22:35.286348Z",
     "iopub.status.busy": "2023-05-12T12:22:35.285466Z",
     "iopub.status.idle": "2023-05-12T12:22:35.290423Z",
     "shell.execute_reply": "2023-05-12T12:22:35.289623Z"
    },
    "papermill": {
     "duration": 0.021121,
     "end_time": "2023-05-12T12:22:35.292656",
     "exception": false,
     "start_time": "2023-05-12T12:22:35.271535",
     "status": "completed"
    },
    "tags": []
   },
   "outputs": [],
   "source": [
    "def evaluate(promptModel, dataloader):\n",
    "    allpreds,alllabels=predict(promptModel, dataloader)\n",
    "    return compute_metrics(allpreds,alllabels)"
   ]
  },
  {
   "cell_type": "markdown",
   "id": "67f748bb",
   "metadata": {
    "papermill": {
     "duration": 0.012648,
     "end_time": "2023-05-12T12:22:35.318396",
     "exception": false,
     "start_time": "2023-05-12T12:22:35.305748",
     "status": "completed"
    },
    "tags": []
   },
   "source": [
    "## Test\n"
   ]
  },
  {
   "cell_type": "code",
   "execution_count": 21,
   "id": "a18457f5",
   "metadata": {
    "execution": {
     "iopub.execute_input": "2023-05-12T12:22:35.345689Z",
     "iopub.status.busy": "2023-05-12T12:22:35.344923Z",
     "iopub.status.idle": "2023-05-12T12:22:35.356362Z",
     "shell.execute_reply": "2023-05-12T12:22:35.355474Z"
    },
    "papermill": {
     "duration": 0.027263,
     "end_time": "2023-05-12T12:22:35.358490",
     "exception": false,
     "start_time": "2023-05-12T12:22:35.331227",
     "status": "completed"
    },
    "tags": []
   },
   "outputs": [],
   "source": [
    "def test(template, prompt_model, test_data_loader_latin, test_data_loader_sinhala, test_data_loader_mixed, test_data_loader_all):\n",
    "    t = PrettyTable()\n",
    "    t.field_names = ['Script', 'Accuracy', 'Precision', 'Recall', 'F1', 'Macro Pr.', 'Macro Re.', 'Macro F1']\n",
    "\n",
    "    res = evaluate(prompt_model, test_data_loader_latin)\n",
    "    res = {key : round(res[key], 4) for key in res}\n",
    "    t.add_row([\"Latin\", res['accuracy'], res['precision'], res['recall'], res['f1'], res['macro_precision'], res['macro_recall'], res['macro_f1']])\n",
    "    \n",
    "    res = evaluate(prompt_model, test_data_loader_sinhala)\n",
    "    res = {key : round(res[key], 4) for key in res}\n",
    "    t.add_row([\"Sinhala\", res['accuracy'], res['precision'], res['recall'], res['f1'], res['macro_precision'], res['macro_recall'], res['macro_f1']])\n",
    "    \n",
    "    res = evaluate(prompt_model, test_data_loader_mixed)\n",
    "    res = {key : round(res[key], 4) for key in res}\n",
    "    t.add_row([\"Mixed\", res['accuracy'], res['precision'], res['recall'], res['f1'], res['macro_precision'], res['macro_recall'], res['macro_f1']])\n",
    "    \n",
    "    res = evaluate(prompt_model, test_data_loader)\n",
    "    res = {key : round(res[key], 4) for key in res}\n",
    "    t.add_row([\"Overall\", res['accuracy'], res['precision'], res['recall'], res['f1'], res['macro_precision'], res['macro_recall'], res['macro_f1']])\n",
    "    \n",
    "    print(template)\n",
    "    print(t)"
   ]
  },
  {
   "cell_type": "code",
   "execution_count": 22,
   "id": "efee0532",
   "metadata": {
    "execution": {
     "iopub.execute_input": "2023-05-12T12:22:35.386055Z",
     "iopub.status.busy": "2023-05-12T12:22:35.385166Z",
     "iopub.status.idle": "2023-05-12T12:22:35.390250Z",
     "shell.execute_reply": "2023-05-12T12:22:35.389395Z"
    },
    "papermill": {
     "duration": 0.020849,
     "end_time": "2023-05-12T12:22:35.392415",
     "exception": false,
     "start_time": "2023-05-12T12:22:35.371566",
     "status": "completed"
    },
    "tags": []
   },
   "outputs": [],
   "source": [
    "templates = [\n",
    "    '{\"placeholder\": \"text_a\"}. හැඟීම: {\"mask\"}.',\n",
    "    '{\"placeholder\": \"text_a\"}. එය {\"mask\"} විය.',\n",
    "    '{\"placeholder\": \"text_a\"}. මෙය {\"mask\"} ප්‍රකාශයකි.',\n",
    "    '{\"placeholder\": \"text_a\"}. සාරාංශයක් ලෙස, එය {\"mask\"} විය.',\n",
    "    '{\"placeholder\": \"text_a\"}. සමස්තයක් වශයෙන්, එය {\"mask\"} විය.',\n",
    "    '{\"placeholder\": \"text_a\"}. ප්‍රශ්නය: මෙම ප්‍රකාශයේ හැඟීම කුමක්ද? පිළිතුර: {\"mask\"}.'\n",
    "]"
   ]
  },
  {
   "cell_type": "code",
   "execution_count": 23,
   "id": "aa5474bd",
   "metadata": {
    "execution": {
     "iopub.execute_input": "2023-05-12T12:22:35.419889Z",
     "iopub.status.busy": "2023-05-12T12:22:35.419121Z",
     "iopub.status.idle": "2023-05-12T12:25:58.072194Z",
     "shell.execute_reply": "2023-05-12T12:25:58.069137Z"
    },
    "papermill": {
     "duration": 202.695983,
     "end_time": "2023-05-12T12:25:58.101371",
     "exception": false,
     "start_time": "2023-05-12T12:22:35.405388",
     "status": "completed"
    },
    "tags": []
   },
   "outputs": [
    {
     "name": "stderr",
     "output_type": "stream",
     "text": [
      "tokenizing: 1352it [00:01, 1013.41it/s]\n",
      "tokenizing: 972it [00:00, 1474.60it/s]\n",
      "tokenizing: 184it [00:00, 805.69it/s]\n",
      "tokenizing: 195it [00:00, 1362.33it/s]\n"
     ]
    },
    {
     "data": {
      "application/vnd.jupyter.widget-view+json": {
       "model_id": "6ed5153dc8d9439184c9187107b74765",
       "version_major": 2,
       "version_minor": 0
      },
      "text/plain": [
       "Downloading builder script:   0%|          | 0.00/2.20k [00:00<?, ?B/s]"
      ]
     },
     "metadata": {},
     "output_type": "display_data"
    },
    {
     "data": {
      "application/vnd.jupyter.widget-view+json": {
       "model_id": "e5834687b72445c192c82daaca0217c6",
       "version_major": 2,
       "version_minor": 0
      },
      "text/plain": [
       "Downloading builder script:   0%|          | 0.00/2.21k [00:00<?, ?B/s]"
      ]
     },
     "metadata": {},
     "output_type": "display_data"
    },
    {
     "data": {
      "application/vnd.jupyter.widget-view+json": {
       "model_id": "ab5d24dd22a64c97bdb63b5beec9e729",
       "version_major": 2,
       "version_minor": 0
      },
      "text/plain": [
       "Downloading builder script:   0%|          | 0.00/2.06k [00:00<?, ?B/s]"
      ]
     },
     "metadata": {},
     "output_type": "display_data"
    },
    {
     "data": {
      "application/vnd.jupyter.widget-view+json": {
       "model_id": "ff8b20cc7f7545b3babebf2db32013c5",
       "version_major": 2,
       "version_minor": 0
      },
      "text/plain": [
       "Downloading builder script:   0%|          | 0.00/1.41k [00:00<?, ?B/s]"
      ]
     },
     "metadata": {},
     "output_type": "display_data"
    },
    {
     "name": "stdout",
     "output_type": "stream",
     "text": [
      "{\"placeholder\": \"text_a\"}. හැඟීම: {\"mask\"}.\n",
      "+---------+----------+-----------+--------+--------+-----------+-----------+----------+\n",
      "|  Script | Accuracy | Precision | Recall |   F1   | Macro Pr. | Macro Re. | Macro F1 |\n",
      "+---------+----------+-----------+--------+--------+-----------+-----------+----------+\n",
      "|  Latin  |  0.6492  |   0.4214  | 0.6492 | 0.5111 |   0.1623  |    0.25   |  0.1968  |\n",
      "| Sinhala |  0.5707  |   0.3968  | 0.5707 | 0.4593 |   0.1747  |   0.2372  |  0.1933  |\n",
      "|  Mixed  |  0.5846  |    0.48   | 0.5846 | 0.4633 |   0.2421  |   0.2506  |  0.2034  |\n",
      "| Overall |  0.6294  |   0.4592  | 0.6294 | 0.4979 |   0.2093  |   0.249   |  0.1987  |\n",
      "+---------+----------+-----------+--------+--------+-----------+-----------+----------+\n"
     ]
    },
    {
     "name": "stderr",
     "output_type": "stream",
     "text": [
      "tokenizing: 1352it [00:00, 1358.14it/s]\n",
      "tokenizing: 972it [00:00, 1463.37it/s]\n",
      "tokenizing: 184it [00:00, 1322.27it/s]\n",
      "tokenizing: 195it [00:00, 1341.31it/s]\n"
     ]
    },
    {
     "name": "stdout",
     "output_type": "stream",
     "text": [
      "{\"placeholder\": \"text_a\"}. එය {\"mask\"} විය.\n",
      "+---------+----------+-----------+--------+--------+-----------+-----------+----------+\n",
      "|  Script | Accuracy | Precision | Recall |   F1   | Macro Pr. | Macro Re. | Macro F1 |\n",
      "+---------+----------+-----------+--------+--------+-----------+-----------+----------+\n",
      "|  Latin  |  0.6492  |   0.4214  | 0.6492 | 0.5111 |   0.1623  |    0.25   |  0.1968  |\n",
      "| Sinhala |  0.6087  |   0.3705  | 0.6087 | 0.4606 |   0.1522  |    0.25   |  0.1892  |\n",
      "|  Mixed  |  0.5949  |   0.3539  | 0.5949 | 0.4438 |   0.1487  |    0.25   |  0.1865  |\n",
      "| Overall |  0.6361  |   0.4046  | 0.6361 | 0.4946 |   0.159   |    0.25   |  0.1944  |\n",
      "+---------+----------+-----------+--------+--------+-----------+-----------+----------+\n"
     ]
    },
    {
     "name": "stderr",
     "output_type": "stream",
     "text": [
      "tokenizing: 1352it [00:01, 1320.51it/s]\n",
      "tokenizing: 972it [00:00, 1415.18it/s]\n",
      "tokenizing: 184it [00:00, 1410.09it/s]\n",
      "tokenizing: 195it [00:00, 1246.63it/s]\n"
     ]
    },
    {
     "name": "stdout",
     "output_type": "stream",
     "text": [
      "{\"placeholder\": \"text_a\"}. මෙය {\"mask\"} ප්‍රකාශයකි.\n",
      "+---------+----------+-----------+--------+--------+-----------+-----------+----------+\n",
      "|  Script | Accuracy | Precision | Recall |   F1   | Macro Pr. | Macro Re. | Macro F1 |\n",
      "+---------+----------+-----------+--------+--------+-----------+-----------+----------+\n",
      "|  Latin  |  0.6492  |   0.5087  | 0.6492 | 0.5175 |   0.2464  |   0.2518  |  0.2028  |\n",
      "| Sinhala |  0.6087  |   0.3705  | 0.6087 | 0.4606 |   0.1522  |    0.25   |  0.1892  |\n",
      "|  Mixed  |  0.5949  |   0.3539  | 0.5949 | 0.4438 |   0.1487  |    0.25   |  0.1865  |\n",
      "| Overall |  0.6361  |   0.4957  | 0.6361 | 0.4992 |   0.2429  |   0.2512  |  0.1985  |\n",
      "+---------+----------+-----------+--------+--------+-----------+-----------+----------+\n"
     ]
    },
    {
     "name": "stderr",
     "output_type": "stream",
     "text": [
      "tokenizing: 1352it [00:00, 1353.67it/s]\n",
      "tokenizing: 972it [00:00, 1391.46it/s]\n",
      "tokenizing: 184it [00:00, 1289.41it/s]\n",
      "tokenizing: 195it [00:00, 1295.38it/s]\n"
     ]
    },
    {
     "name": "stdout",
     "output_type": "stream",
     "text": [
      "{\"placeholder\": \"text_a\"}. සාරාංශයක් ලෙස, එය {\"mask\"} විය.\n",
      "+---------+----------+-----------+--------+--------+-----------+-----------+----------+\n",
      "|  Script | Accuracy | Precision | Recall |   F1   | Macro Pr. | Macro Re. | Macro F1 |\n",
      "+---------+----------+-----------+--------+--------+-----------+-----------+----------+\n",
      "|  Latin  |  0.6492  |   0.4219  | 0.6492 | 0.5114 |   0.1625  |    0.25   |  0.1969  |\n",
      "| Sinhala |  0.6087  |   0.3705  | 0.6087 | 0.4606 |   0.1522  |    0.25   |  0.1892  |\n",
      "|  Mixed  |  0.5949  |   0.3539  | 0.5949 | 0.4438 |   0.1487  |    0.25   |  0.1865  |\n",
      "| Overall |  0.6361  |   0.4049  | 0.6361 | 0.4948 |   0.1591  |    0.25   |  0.1945  |\n",
      "+---------+----------+-----------+--------+--------+-----------+-----------+----------+\n"
     ]
    },
    {
     "name": "stderr",
     "output_type": "stream",
     "text": [
      "tokenizing: 1352it [00:01, 1322.29it/s]\n",
      "tokenizing: 972it [00:00, 1378.58it/s]\n",
      "tokenizing: 184it [00:00, 1386.76it/s]\n",
      "tokenizing: 195it [00:00, 1275.38it/s]\n"
     ]
    },
    {
     "name": "stdout",
     "output_type": "stream",
     "text": [
      "{\"placeholder\": \"text_a\"}. සමස්තයක් වශයෙන්, එය {\"mask\"} විය.\n",
      "+---------+----------+-----------+--------+--------+-----------+-----------+----------+\n",
      "|  Script | Accuracy | Precision | Recall |   F1   | Macro Pr. | Macro Re. | Macro F1 |\n",
      "+---------+----------+-----------+--------+--------+-----------+-----------+----------+\n",
      "|  Latin  |  0.6492  |   0.4214  | 0.6492 | 0.5111 |   0.1623  |    0.25   |  0.1968  |\n",
      "| Sinhala |  0.6033  |   0.3692  | 0.6033 | 0.4581 |   0.1516  |   0.2478  |  0.1881  |\n",
      "|  Mixed  |  0.5897  |   0.3526  | 0.5897 | 0.4414 |   0.1482  |   0.2478  |  0.1855  |\n",
      "| Overall |  0.6346  |   0.4043  | 0.6346 | 0.4939 |   0.1589  |   0.2494  |  0.1941  |\n",
      "+---------+----------+-----------+--------+--------+-----------+-----------+----------+\n"
     ]
    },
    {
     "name": "stderr",
     "output_type": "stream",
     "text": [
      "tokenizing: 1352it [00:01, 1249.53it/s]\n",
      "tokenizing: 972it [00:01, 902.70it/s]\n",
      "tokenizing: 184it [00:00, 1282.66it/s]\n",
      "tokenizing: 195it [00:00, 1201.53it/s]\n"
     ]
    },
    {
     "name": "stdout",
     "output_type": "stream",
     "text": [
      "{\"placeholder\": \"text_a\"}. ප්‍රශ්නය: මෙම ප්‍රකාශයේ හැඟීම කුමක්ද? පිළිතුර: {\"mask\"}.\n",
      "+---------+----------+-----------+--------+--------+-----------+-----------+----------+\n",
      "|  Script | Accuracy | Precision | Recall |   F1   | Macro Pr. | Macro Re. | Macro F1 |\n",
      "+---------+----------+-----------+--------+--------+-----------+-----------+----------+\n",
      "|  Latin  |  0.644   |   0.5228  | 0.644  | 0.5243 |   0.2605  |   0.2535  |  0.2119  |\n",
      "| Sinhala |  0.4674  |   0.4832  | 0.4674 | 0.4596 |   0.237   |   0.2666  |  0.2395  |\n",
      "|  Mixed  |  0.4564  |   0.4329  | 0.4564 | 0.4441 |   0.2131  |   0.2277  |   0.22   |\n",
      "| Overall |  0.5932  |   0.4887  | 0.5932 | 0.5249 |   0.2344  |   0.2557  |  0.2358  |\n",
      "+---------+----------+-----------+--------+--------+-----------+-----------+----------+\n"
     ]
    }
   ],
   "source": [
    "for template in templates:\n",
    "    prompt_template, prompt_model = get_prompttemplate_and_model(template)\n",
    "    test_data_loader, test_data_loader_latin, test_data_loader_sinhala, test_data_loader_mixed = get_test_data_loaders(prompt_template)\n",
    "    test(template, prompt_model, test_data_loader_latin, test_data_loader_sinhala, test_data_loader_mixed, test_data_loader)"
   ]
  }
 ],
 "metadata": {
  "kernelspec": {
   "display_name": "Python 3",
   "language": "python",
   "name": "python3"
  },
  "language_info": {
   "codemirror_mode": {
    "name": "ipython",
    "version": 3
   },
   "file_extension": ".py",
   "mimetype": "text/x-python",
   "name": "python",
   "nbconvert_exporter": "python",
   "pygments_lexer": "ipython3",
   "version": "3.10.10"
  },
  "papermill": {
   "default_parameters": {},
   "duration": 300.971788,
   "end_time": "2023-05-12T12:26:01.573677",
   "environment_variables": {},
   "exception": null,
   "input_path": "__notebook__.ipynb",
   "output_path": "__notebook__.ipynb",
   "parameters": {},
   "start_time": "2023-05-12T12:21:00.601889",
   "version": "2.4.0"
  },
  "widgets": {
   "application/vnd.jupyter.widget-state+json": {
    "state": {
     "0092072d23e842c3a8e42761fe5d47f9": {
      "model_module": "@jupyter-widgets/base",
      "model_module_version": "1.2.0",
      "model_name": "LayoutModel",
      "state": {
       "_model_module": "@jupyter-widgets/base",
       "_model_module_version": "1.2.0",
       "_model_name": "LayoutModel",
       "_view_count": null,
       "_view_module": "@jupyter-widgets/base",
       "_view_module_version": "1.2.0",
       "_view_name": "LayoutView",
       "align_content": null,
       "align_items": null,
       "align_self": null,
       "border": null,
       "bottom": null,
       "display": null,
       "flex": null,
       "flex_flow": null,
       "grid_area": null,
       "grid_auto_columns": null,
       "grid_auto_flow": null,
       "grid_auto_rows": null,
       "grid_column": null,
       "grid_gap": null,
       "grid_row": null,
       "grid_template_areas": null,
       "grid_template_columns": null,
       "grid_template_rows": null,
       "height": null,
       "justify_content": null,
       "justify_items": null,
       "left": null,
       "margin": null,
       "max_height": null,
       "max_width": null,
       "min_height": null,
       "min_width": null,
       "object_fit": null,
       "object_position": null,
       "order": null,
       "overflow": null,
       "overflow_x": null,
       "overflow_y": null,
       "padding": null,
       "right": null,
       "top": null,
       "visibility": null,
       "width": null
      }
     },
     "00c29411834e48cca217f8499bdff2f2": {
      "model_module": "@jupyter-widgets/controls",
      "model_module_version": "1.5.0",
      "model_name": "DescriptionStyleModel",
      "state": {
       "_model_module": "@jupyter-widgets/controls",
       "_model_module_version": "1.5.0",
       "_model_name": "DescriptionStyleModel",
       "_view_count": null,
       "_view_module": "@jupyter-widgets/base",
       "_view_module_version": "1.2.0",
       "_view_name": "StyleView",
       "description_width": ""
      }
     },
     "0341ed74b306484c8a1ad5e1156de65b": {
      "model_module": "@jupyter-widgets/base",
      "model_module_version": "1.2.0",
      "model_name": "LayoutModel",
      "state": {
       "_model_module": "@jupyter-widgets/base",
       "_model_module_version": "1.2.0",
       "_model_name": "LayoutModel",
       "_view_count": null,
       "_view_module": "@jupyter-widgets/base",
       "_view_module_version": "1.2.0",
       "_view_name": "LayoutView",
       "align_content": null,
       "align_items": null,
       "align_self": null,
       "border": null,
       "bottom": null,
       "display": null,
       "flex": null,
       "flex_flow": null,
       "grid_area": null,
       "grid_auto_columns": null,
       "grid_auto_flow": null,
       "grid_auto_rows": null,
       "grid_column": null,
       "grid_gap": null,
       "grid_row": null,
       "grid_template_areas": null,
       "grid_template_columns": null,
       "grid_template_rows": null,
       "height": null,
       "justify_content": null,
       "justify_items": null,
       "left": null,
       "margin": null,
       "max_height": null,
       "max_width": null,
       "min_height": null,
       "min_width": null,
       "object_fit": null,
       "object_position": null,
       "order": null,
       "overflow": null,
       "overflow_x": null,
       "overflow_y": null,
       "padding": null,
       "right": null,
       "top": null,
       "visibility": null,
       "width": null
      }
     },
     "050d9224503140c7995960e16594928a": {
      "model_module": "@jupyter-widgets/base",
      "model_module_version": "1.2.0",
      "model_name": "LayoutModel",
      "state": {
       "_model_module": "@jupyter-widgets/base",
       "_model_module_version": "1.2.0",
       "_model_name": "LayoutModel",
       "_view_count": null,
       "_view_module": "@jupyter-widgets/base",
       "_view_module_version": "1.2.0",
       "_view_name": "LayoutView",
       "align_content": null,
       "align_items": null,
       "align_self": null,
       "border": null,
       "bottom": null,
       "display": null,
       "flex": null,
       "flex_flow": null,
       "grid_area": null,
       "grid_auto_columns": null,
       "grid_auto_flow": null,
       "grid_auto_rows": null,
       "grid_column": null,
       "grid_gap": null,
       "grid_row": null,
       "grid_template_areas": null,
       "grid_template_columns": null,
       "grid_template_rows": null,
       "height": null,
       "justify_content": null,
       "justify_items": null,
       "left": null,
       "margin": null,
       "max_height": null,
       "max_width": null,
       "min_height": null,
       "min_width": null,
       "object_fit": null,
       "object_position": null,
       "order": null,
       "overflow": null,
       "overflow_x": null,
       "overflow_y": null,
       "padding": null,
       "right": null,
       "top": null,
       "visibility": null,
       "width": null
      }
     },
     "06499bd8e83443a2af36b32e1f296b98": {
      "model_module": "@jupyter-widgets/base",
      "model_module_version": "1.2.0",
      "model_name": "LayoutModel",
      "state": {
       "_model_module": "@jupyter-widgets/base",
       "_model_module_version": "1.2.0",
       "_model_name": "LayoutModel",
       "_view_count": null,
       "_view_module": "@jupyter-widgets/base",
       "_view_module_version": "1.2.0",
       "_view_name": "LayoutView",
       "align_content": null,
       "align_items": null,
       "align_self": null,
       "border": null,
       "bottom": null,
       "display": null,
       "flex": null,
       "flex_flow": null,
       "grid_area": null,
       "grid_auto_columns": null,
       "grid_auto_flow": null,
       "grid_auto_rows": null,
       "grid_column": null,
       "grid_gap": null,
       "grid_row": null,
       "grid_template_areas": null,
       "grid_template_columns": null,
       "grid_template_rows": null,
       "height": null,
       "justify_content": null,
       "justify_items": null,
       "left": null,
       "margin": null,
       "max_height": null,
       "max_width": null,
       "min_height": null,
       "min_width": null,
       "object_fit": null,
       "object_position": null,
       "order": null,
       "overflow": null,
       "overflow_x": null,
       "overflow_y": null,
       "padding": null,
       "right": null,
       "top": null,
       "visibility": null,
       "width": null
      }
     },
     "06fc473a925f4efaaa4195d5a2a3f7e5": {
      "model_module": "@jupyter-widgets/controls",
      "model_module_version": "1.5.0",
      "model_name": "ProgressStyleModel",
      "state": {
       "_model_module": "@jupyter-widgets/controls",
       "_model_module_version": "1.5.0",
       "_model_name": "ProgressStyleModel",
       "_view_count": null,
       "_view_module": "@jupyter-widgets/base",
       "_view_module_version": "1.2.0",
       "_view_name": "StyleView",
       "bar_color": null,
       "description_width": ""
      }
     },
     "0d5f2e0406454584891466aab1beb442": {
      "model_module": "@jupyter-widgets/base",
      "model_module_version": "1.2.0",
      "model_name": "LayoutModel",
      "state": {
       "_model_module": "@jupyter-widgets/base",
       "_model_module_version": "1.2.0",
       "_model_name": "LayoutModel",
       "_view_count": null,
       "_view_module": "@jupyter-widgets/base",
       "_view_module_version": "1.2.0",
       "_view_name": "LayoutView",
       "align_content": null,
       "align_items": null,
       "align_self": null,
       "border": null,
       "bottom": null,
       "display": null,
       "flex": null,
       "flex_flow": null,
       "grid_area": null,
       "grid_auto_columns": null,
       "grid_auto_flow": null,
       "grid_auto_rows": null,
       "grid_column": null,
       "grid_gap": null,
       "grid_row": null,
       "grid_template_areas": null,
       "grid_template_columns": null,
       "grid_template_rows": null,
       "height": null,
       "justify_content": null,
       "justify_items": null,
       "left": null,
       "margin": null,
       "max_height": null,
       "max_width": null,
       "min_height": null,
       "min_width": null,
       "object_fit": null,
       "object_position": null,
       "order": null,
       "overflow": null,
       "overflow_x": null,
       "overflow_y": null,
       "padding": null,
       "right": null,
       "top": null,
       "visibility": null,
       "width": null
      }
     },
     "141376d2d393416a9b37268dd6ff2d96": {
      "model_module": "@jupyter-widgets/controls",
      "model_module_version": "1.5.0",
      "model_name": "ProgressStyleModel",
      "state": {
       "_model_module": "@jupyter-widgets/controls",
       "_model_module_version": "1.5.0",
       "_model_name": "ProgressStyleModel",
       "_view_count": null,
       "_view_module": "@jupyter-widgets/base",
       "_view_module_version": "1.2.0",
       "_view_name": "StyleView",
       "bar_color": null,
       "description_width": ""
      }
     },
     "1e5b6722692645bba1fc371f65030746": {
      "model_module": "@jupyter-widgets/controls",
      "model_module_version": "1.5.0",
      "model_name": "HTMLModel",
      "state": {
       "_dom_classes": [],
       "_model_module": "@jupyter-widgets/controls",
       "_model_module_version": "1.5.0",
       "_model_name": "HTMLModel",
       "_view_count": null,
       "_view_module": "@jupyter-widgets/controls",
       "_view_module_version": "1.5.0",
       "_view_name": "HTMLView",
       "description": "",
       "description_tooltip": null,
       "layout": "IPY_MODEL_f69bb83213574df1aa5d202293cc25cf",
       "placeholder": "​",
       "style": "IPY_MODEL_c8fb17f857d24845ac06303b1accf1d7",
       "value": " 5.83k/? [00:00&lt;00:00, 289kB/s]"
      }
     },
     "2078012a03034a1a97a072d13473eba5": {
      "model_module": "@jupyter-widgets/base",
      "model_module_version": "1.2.0",
      "model_name": "LayoutModel",
      "state": {
       "_model_module": "@jupyter-widgets/base",
       "_model_module_version": "1.2.0",
       "_model_name": "LayoutModel",
       "_view_count": null,
       "_view_module": "@jupyter-widgets/base",
       "_view_module_version": "1.2.0",
       "_view_name": "LayoutView",
       "align_content": null,
       "align_items": null,
       "align_self": null,
       "border": null,
       "bottom": null,
       "display": null,
       "flex": null,
       "flex_flow": null,
       "grid_area": null,
       "grid_auto_columns": null,
       "grid_auto_flow": null,
       "grid_auto_rows": null,
       "grid_column": null,
       "grid_gap": null,
       "grid_row": null,
       "grid_template_areas": null,
       "grid_template_columns": null,
       "grid_template_rows": null,
       "height": null,
       "justify_content": null,
       "justify_items": null,
       "left": null,
       "margin": null,
       "max_height": null,
       "max_width": null,
       "min_height": null,
       "min_width": null,
       "object_fit": null,
       "object_position": null,
       "order": null,
       "overflow": null,
       "overflow_x": null,
       "overflow_y": null,
       "padding": null,
       "right": null,
       "top": null,
       "visibility": null,
       "width": null
      }
     },
     "26a529cb86174e1bac68a8850424826c": {
      "model_module": "@jupyter-widgets/controls",
      "model_module_version": "1.5.0",
      "model_name": "ProgressStyleModel",
      "state": {
       "_model_module": "@jupyter-widgets/controls",
       "_model_module_version": "1.5.0",
       "_model_name": "ProgressStyleModel",
       "_view_count": null,
       "_view_module": "@jupyter-widgets/base",
       "_view_module_version": "1.2.0",
       "_view_name": "StyleView",
       "bar_color": null,
       "description_width": ""
      }
     },
     "283949b132e648bd99551588eb0cc617": {
      "model_module": "@jupyter-widgets/controls",
      "model_module_version": "1.5.0",
      "model_name": "DescriptionStyleModel",
      "state": {
       "_model_module": "@jupyter-widgets/controls",
       "_model_module_version": "1.5.0",
       "_model_name": "DescriptionStyleModel",
       "_view_count": null,
       "_view_module": "@jupyter-widgets/base",
       "_view_module_version": "1.2.0",
       "_view_name": "StyleView",
       "description_width": ""
      }
     },
     "2e24ce4785094c2ebe2447bff1ad7779": {
      "model_module": "@jupyter-widgets/base",
      "model_module_version": "1.2.0",
      "model_name": "LayoutModel",
      "state": {
       "_model_module": "@jupyter-widgets/base",
       "_model_module_version": "1.2.0",
       "_model_name": "LayoutModel",
       "_view_count": null,
       "_view_module": "@jupyter-widgets/base",
       "_view_module_version": "1.2.0",
       "_view_name": "LayoutView",
       "align_content": null,
       "align_items": null,
       "align_self": null,
       "border": null,
       "bottom": null,
       "display": null,
       "flex": null,
       "flex_flow": null,
       "grid_area": null,
       "grid_auto_columns": null,
       "grid_auto_flow": null,
       "grid_auto_rows": null,
       "grid_column": null,
       "grid_gap": null,
       "grid_row": null,
       "grid_template_areas": null,
       "grid_template_columns": null,
       "grid_template_rows": null,
       "height": null,
       "justify_content": null,
       "justify_items": null,
       "left": null,
       "margin": null,
       "max_height": null,
       "max_width": null,
       "min_height": null,
       "min_width": null,
       "object_fit": null,
       "object_position": null,
       "order": null,
       "overflow": null,
       "overflow_x": null,
       "overflow_y": null,
       "padding": null,
       "right": null,
       "top": null,
       "visibility": null,
       "width": null
      }
     },
     "2e8c892bcbc442deaa40d522bc881ede": {
      "model_module": "@jupyter-widgets/controls",
      "model_module_version": "1.5.0",
      "model_name": "DescriptionStyleModel",
      "state": {
       "_model_module": "@jupyter-widgets/controls",
       "_model_module_version": "1.5.0",
       "_model_name": "DescriptionStyleModel",
       "_view_count": null,
       "_view_module": "@jupyter-widgets/base",
       "_view_module_version": "1.2.0",
       "_view_name": "StyleView",
       "description_width": ""
      }
     },
     "362a68415e004d50b1bf89d32568cbd6": {
      "model_module": "@jupyter-widgets/controls",
      "model_module_version": "1.5.0",
      "model_name": "HBoxModel",
      "state": {
       "_dom_classes": [],
       "_model_module": "@jupyter-widgets/controls",
       "_model_module_version": "1.5.0",
       "_model_name": "HBoxModel",
       "_view_count": null,
       "_view_module": "@jupyter-widgets/controls",
       "_view_module_version": "1.5.0",
       "_view_name": "HBoxView",
       "box_style": "",
       "children": [
        "IPY_MODEL_f8cf42fd0319422882cebf2f70340fcb",
        "IPY_MODEL_7e9de98911c348d59d14b79e50400faf",
        "IPY_MODEL_66e66999859e4825898922028f98f902"
       ],
       "layout": "IPY_MODEL_5bed4adad14a4b7ba7bf0d0964541c28"
      }
     },
     "376c4804d7714b3889b7611310943901": {
      "model_module": "@jupyter-widgets/controls",
      "model_module_version": "1.5.0",
      "model_name": "DescriptionStyleModel",
      "state": {
       "_model_module": "@jupyter-widgets/controls",
       "_model_module_version": "1.5.0",
       "_model_name": "DescriptionStyleModel",
       "_view_count": null,
       "_view_module": "@jupyter-widgets/base",
       "_view_module_version": "1.2.0",
       "_view_name": "StyleView",
       "description_width": ""
      }
     },
     "3943f7d76fe04a08bcd52742928047dd": {
      "model_module": "@jupyter-widgets/controls",
      "model_module_version": "1.5.0",
      "model_name": "FloatProgressModel",
      "state": {
       "_dom_classes": [],
       "_model_module": "@jupyter-widgets/controls",
       "_model_module_version": "1.5.0",
       "_model_name": "FloatProgressModel",
       "_view_count": null,
       "_view_module": "@jupyter-widgets/controls",
       "_view_module_version": "1.5.0",
       "_view_name": "ProgressView",
       "bar_style": "success",
       "description": "",
       "description_tooltip": null,
       "layout": "IPY_MODEL_ff29fd98f024484a908a9474f7bfe6ee",
       "max": 1411.0,
       "min": 0.0,
       "orientation": "horizontal",
       "style": "IPY_MODEL_99af82887bb142ce90f563ccd370285d",
       "value": 1411.0
      }
     },
     "3b68b152435545199e0a4ba52e1fbcb7": {
      "model_module": "@jupyter-widgets/base",
      "model_module_version": "1.2.0",
      "model_name": "LayoutModel",
      "state": {
       "_model_module": "@jupyter-widgets/base",
       "_model_module_version": "1.2.0",
       "_model_name": "LayoutModel",
       "_view_count": null,
       "_view_module": "@jupyter-widgets/base",
       "_view_module_version": "1.2.0",
       "_view_name": "LayoutView",
       "align_content": null,
       "align_items": null,
       "align_self": null,
       "border": null,
       "bottom": null,
       "display": null,
       "flex": null,
       "flex_flow": null,
       "grid_area": null,
       "grid_auto_columns": null,
       "grid_auto_flow": null,
       "grid_auto_rows": null,
       "grid_column": null,
       "grid_gap": null,
       "grid_row": null,
       "grid_template_areas": null,
       "grid_template_columns": null,
       "grid_template_rows": null,
       "height": null,
       "justify_content": null,
       "justify_items": null,
       "left": null,
       "margin": null,
       "max_height": null,
       "max_width": null,
       "min_height": null,
       "min_width": null,
       "object_fit": null,
       "object_position": null,
       "order": null,
       "overflow": null,
       "overflow_x": null,
       "overflow_y": null,
       "padding": null,
       "right": null,
       "top": null,
       "visibility": null,
       "width": null
      }
     },
     "4277ab2c4d484da99bd2f385b33cf48f": {
      "model_module": "@jupyter-widgets/base",
      "model_module_version": "1.2.0",
      "model_name": "LayoutModel",
      "state": {
       "_model_module": "@jupyter-widgets/base",
       "_model_module_version": "1.2.0",
       "_model_name": "LayoutModel",
       "_view_count": null,
       "_view_module": "@jupyter-widgets/base",
       "_view_module_version": "1.2.0",
       "_view_name": "LayoutView",
       "align_content": null,
       "align_items": null,
       "align_self": null,
       "border": null,
       "bottom": null,
       "display": null,
       "flex": null,
       "flex_flow": null,
       "grid_area": null,
       "grid_auto_columns": null,
       "grid_auto_flow": null,
       "grid_auto_rows": null,
       "grid_column": null,
       "grid_gap": null,
       "grid_row": null,
       "grid_template_areas": null,
       "grid_template_columns": null,
       "grid_template_rows": null,
       "height": null,
       "justify_content": null,
       "justify_items": null,
       "left": null,
       "margin": null,
       "max_height": null,
       "max_width": null,
       "min_height": null,
       "min_width": null,
       "object_fit": null,
       "object_position": null,
       "order": null,
       "overflow": null,
       "overflow_x": null,
       "overflow_y": null,
       "padding": null,
       "right": null,
       "top": null,
       "visibility": null,
       "width": null
      }
     },
     "4357358410e446f394fd986d8ed3260e": {
      "model_module": "@jupyter-widgets/controls",
      "model_module_version": "1.5.0",
      "model_name": "HBoxModel",
      "state": {
       "_dom_classes": [],
       "_model_module": "@jupyter-widgets/controls",
       "_model_module_version": "1.5.0",
       "_model_name": "HBoxModel",
       "_view_count": null,
       "_view_module": "@jupyter-widgets/controls",
       "_view_module_version": "1.5.0",
       "_view_name": "HBoxView",
       "box_style": "",
       "children": [
        "IPY_MODEL_7259c51818d64a5db1a8e1daee161bce",
        "IPY_MODEL_d6039e5f5e6a415b92739135502632be",
        "IPY_MODEL_d5bc1ec88f0549629f30b0cf73d0be38"
       ],
       "layout": "IPY_MODEL_81050eb30edf4b61b3198feab595fcb7"
      }
     },
     "44a1df20594d41399ef4c9c88ee2d4c8": {
      "model_module": "@jupyter-widgets/base",
      "model_module_version": "1.2.0",
      "model_name": "LayoutModel",
      "state": {
       "_model_module": "@jupyter-widgets/base",
       "_model_module_version": "1.2.0",
       "_model_name": "LayoutModel",
       "_view_count": null,
       "_view_module": "@jupyter-widgets/base",
       "_view_module_version": "1.2.0",
       "_view_name": "LayoutView",
       "align_content": null,
       "align_items": null,
       "align_self": null,
       "border": null,
       "bottom": null,
       "display": null,
       "flex": null,
       "flex_flow": null,
       "grid_area": null,
       "grid_auto_columns": null,
       "grid_auto_flow": null,
       "grid_auto_rows": null,
       "grid_column": null,
       "grid_gap": null,
       "grid_row": null,
       "grid_template_areas": null,
       "grid_template_columns": null,
       "grid_template_rows": null,
       "height": null,
       "justify_content": null,
       "justify_items": null,
       "left": null,
       "margin": null,
       "max_height": null,
       "max_width": null,
       "min_height": null,
       "min_width": null,
       "object_fit": null,
       "object_position": null,
       "order": null,
       "overflow": null,
       "overflow_x": null,
       "overflow_y": null,
       "padding": null,
       "right": null,
       "top": null,
       "visibility": null,
       "width": null
      }
     },
     "4915b649a3b54ca99b9e3470982eec2e": {
      "model_module": "@jupyter-widgets/controls",
      "model_module_version": "1.5.0",
      "model_name": "DescriptionStyleModel",
      "state": {
       "_model_module": "@jupyter-widgets/controls",
       "_model_module_version": "1.5.0",
       "_model_name": "DescriptionStyleModel",
       "_view_count": null,
       "_view_module": "@jupyter-widgets/base",
       "_view_module_version": "1.2.0",
       "_view_name": "StyleView",
       "description_width": ""
      }
     },
     "4c7b1ed1ac80455b9b2a5f1cd842a71b": {
      "model_module": "@jupyter-widgets/controls",
      "model_module_version": "1.5.0",
      "model_name": "HTMLModel",
      "state": {
       "_dom_classes": [],
       "_model_module": "@jupyter-widgets/controls",
       "_model_module_version": "1.5.0",
       "_model_name": "HTMLModel",
       "_view_count": null,
       "_view_module": "@jupyter-widgets/controls",
       "_view_module_version": "1.5.0",
       "_view_name": "HTMLView",
       "description": "",
       "description_tooltip": null,
       "layout": "IPY_MODEL_4277ab2c4d484da99bd2f385b33cf48f",
       "placeholder": "​",
       "style": "IPY_MODEL_c3abfab08b7a43d2baf61c7c7b58ca1f",
       "value": " 5.27k/? [00:00&lt;00:00, 305kB/s]"
      }
     },
     "4dcd7961adee4cd9a49e758151743869": {
      "model_module": "@jupyter-widgets/controls",
      "model_module_version": "1.5.0",
      "model_name": "FloatProgressModel",
      "state": {
       "_dom_classes": [],
       "_model_module": "@jupyter-widgets/controls",
       "_model_module_version": "1.5.0",
       "_model_name": "FloatProgressModel",
       "_view_count": null,
       "_view_module": "@jupyter-widgets/controls",
       "_view_module_version": "1.5.0",
       "_view_name": "ProgressView",
       "bar_style": "success",
       "description": "",
       "description_tooltip": null,
       "layout": "IPY_MODEL_7b0f02298aa54084850953dd3274f01d",
       "max": 2059.0,
       "min": 0.0,
       "orientation": "horizontal",
       "style": "IPY_MODEL_a182aff4f3864e70bd8fa64f106d9fa2",
       "value": 2059.0
      }
     },
     "5012340f9ff043e9985ac37d54341828": {
      "model_module": "@jupyter-widgets/controls",
      "model_module_version": "1.5.0",
      "model_name": "FloatProgressModel",
      "state": {
       "_dom_classes": [],
       "_model_module": "@jupyter-widgets/controls",
       "_model_module_version": "1.5.0",
       "_model_name": "FloatProgressModel",
       "_view_count": null,
       "_view_module": "@jupyter-widgets/controls",
       "_view_module_version": "1.5.0",
       "_view_name": "ProgressView",
       "bar_style": "success",
       "description": "",
       "description_tooltip": null,
       "layout": "IPY_MODEL_a1e3e868af1c443c9378b69d01afaac1",
       "max": 2205.0,
       "min": 0.0,
       "orientation": "horizontal",
       "style": "IPY_MODEL_26a529cb86174e1bac68a8850424826c",
       "value": 2205.0
      }
     },
     "505f6c46fc764b9985fb2648c5329cb5": {
      "model_module": "@jupyter-widgets/base",
      "model_module_version": "1.2.0",
      "model_name": "LayoutModel",
      "state": {
       "_model_module": "@jupyter-widgets/base",
       "_model_module_version": "1.2.0",
       "_model_name": "LayoutModel",
       "_view_count": null,
       "_view_module": "@jupyter-widgets/base",
       "_view_module_version": "1.2.0",
       "_view_name": "LayoutView",
       "align_content": null,
       "align_items": null,
       "align_self": null,
       "border": null,
       "bottom": null,
       "display": null,
       "flex": null,
       "flex_flow": null,
       "grid_area": null,
       "grid_auto_columns": null,
       "grid_auto_flow": null,
       "grid_auto_rows": null,
       "grid_column": null,
       "grid_gap": null,
       "grid_row": null,
       "grid_template_areas": null,
       "grid_template_columns": null,
       "grid_template_rows": null,
       "height": null,
       "justify_content": null,
       "justify_items": null,
       "left": null,
       "margin": null,
       "max_height": null,
       "max_width": null,
       "min_height": null,
       "min_width": null,
       "object_fit": null,
       "object_position": null,
       "order": null,
       "overflow": null,
       "overflow_x": null,
       "overflow_y": null,
       "padding": null,
       "right": null,
       "top": null,
       "visibility": null,
       "width": null
      }
     },
     "51d8d461a2fa4527a952e04b3cedaecc": {
      "model_module": "@jupyter-widgets/base",
      "model_module_version": "1.2.0",
      "model_name": "LayoutModel",
      "state": {
       "_model_module": "@jupyter-widgets/base",
       "_model_module_version": "1.2.0",
       "_model_name": "LayoutModel",
       "_view_count": null,
       "_view_module": "@jupyter-widgets/base",
       "_view_module_version": "1.2.0",
       "_view_name": "LayoutView",
       "align_content": null,
       "align_items": null,
       "align_self": null,
       "border": null,
       "bottom": null,
       "display": null,
       "flex": null,
       "flex_flow": null,
       "grid_area": null,
       "grid_auto_columns": null,
       "grid_auto_flow": null,
       "grid_auto_rows": null,
       "grid_column": null,
       "grid_gap": null,
       "grid_row": null,
       "grid_template_areas": null,
       "grid_template_columns": null,
       "grid_template_rows": null,
       "height": null,
       "justify_content": null,
       "justify_items": null,
       "left": null,
       "margin": null,
       "max_height": null,
       "max_width": null,
       "min_height": null,
       "min_width": null,
       "object_fit": null,
       "object_position": null,
       "order": null,
       "overflow": null,
       "overflow_x": null,
       "overflow_y": null,
       "padding": null,
       "right": null,
       "top": null,
       "visibility": null,
       "width": null
      }
     },
     "54f00db888c44b6187bfc56157798cc0": {
      "model_module": "@jupyter-widgets/base",
      "model_module_version": "1.2.0",
      "model_name": "LayoutModel",
      "state": {
       "_model_module": "@jupyter-widgets/base",
       "_model_module_version": "1.2.0",
       "_model_name": "LayoutModel",
       "_view_count": null,
       "_view_module": "@jupyter-widgets/base",
       "_view_module_version": "1.2.0",
       "_view_name": "LayoutView",
       "align_content": null,
       "align_items": null,
       "align_self": null,
       "border": null,
       "bottom": null,
       "display": null,
       "flex": null,
       "flex_flow": null,
       "grid_area": null,
       "grid_auto_columns": null,
       "grid_auto_flow": null,
       "grid_auto_rows": null,
       "grid_column": null,
       "grid_gap": null,
       "grid_row": null,
       "grid_template_areas": null,
       "grid_template_columns": null,
       "grid_template_rows": null,
       "height": null,
       "justify_content": null,
       "justify_items": null,
       "left": null,
       "margin": null,
       "max_height": null,
       "max_width": null,
       "min_height": null,
       "min_width": null,
       "object_fit": null,
       "object_position": null,
       "order": null,
       "overflow": null,
       "overflow_x": null,
       "overflow_y": null,
       "padding": null,
       "right": null,
       "top": null,
       "visibility": null,
       "width": null
      }
     },
     "5b09d19e0b06432bad97626d76f330b5": {
      "model_module": "@jupyter-widgets/controls",
      "model_module_version": "1.5.0",
      "model_name": "HTMLModel",
      "state": {
       "_dom_classes": [],
       "_model_module": "@jupyter-widgets/controls",
       "_model_module_version": "1.5.0",
       "_model_name": "HTMLModel",
       "_view_count": null,
       "_view_module": "@jupyter-widgets/controls",
       "_view_module_version": "1.5.0",
       "_view_name": "HTMLView",
       "description": "",
       "description_tooltip": null,
       "layout": "IPY_MODEL_3b68b152435545199e0a4ba52e1fbcb7",
       "placeholder": "​",
       "style": "IPY_MODEL_283949b132e648bd99551588eb0cc617",
       "value": " 1.04G/1.04G [00:18&lt;00:00, 61.1MB/s]"
      }
     },
     "5bed4adad14a4b7ba7bf0d0964541c28": {
      "model_module": "@jupyter-widgets/base",
      "model_module_version": "1.2.0",
      "model_name": "LayoutModel",
      "state": {
       "_model_module": "@jupyter-widgets/base",
       "_model_module_version": "1.2.0",
       "_model_name": "LayoutModel",
       "_view_count": null,
       "_view_module": "@jupyter-widgets/base",
       "_view_module_version": "1.2.0",
       "_view_name": "LayoutView",
       "align_content": null,
       "align_items": null,
       "align_self": null,
       "border": null,
       "bottom": null,
       "display": null,
       "flex": null,
       "flex_flow": null,
       "grid_area": null,
       "grid_auto_columns": null,
       "grid_auto_flow": null,
       "grid_auto_rows": null,
       "grid_column": null,
       "grid_gap": null,
       "grid_row": null,
       "grid_template_areas": null,
       "grid_template_columns": null,
       "grid_template_rows": null,
       "height": null,
       "justify_content": null,
       "justify_items": null,
       "left": null,
       "margin": null,
       "max_height": null,
       "max_width": null,
       "min_height": null,
       "min_width": null,
       "object_fit": null,
       "object_position": null,
       "order": null,
       "overflow": null,
       "overflow_x": null,
       "overflow_y": null,
       "padding": null,
       "right": null,
       "top": null,
       "visibility": null,
       "width": null
      }
     },
     "5e102778018949d7babb107b41faa6ef": {
      "model_module": "@jupyter-widgets/controls",
      "model_module_version": "1.5.0",
      "model_name": "HTMLModel",
      "state": {
       "_dom_classes": [],
       "_model_module": "@jupyter-widgets/controls",
       "_model_module_version": "1.5.0",
       "_model_name": "HTMLModel",
       "_view_count": null,
       "_view_module": "@jupyter-widgets/controls",
       "_view_module_version": "1.5.0",
       "_view_name": "HTMLView",
       "description": "",
       "description_tooltip": null,
       "layout": "IPY_MODEL_0092072d23e842c3a8e42761fe5d47f9",
       "placeholder": "​",
       "style": "IPY_MODEL_5e38ef676c644f98a888bb8befd4dba7",
       "value": "Downloading builder script: "
      }
     },
     "5e38ef676c644f98a888bb8befd4dba7": {
      "model_module": "@jupyter-widgets/controls",
      "model_module_version": "1.5.0",
      "model_name": "DescriptionStyleModel",
      "state": {
       "_model_module": "@jupyter-widgets/controls",
       "_model_module_version": "1.5.0",
       "_model_name": "DescriptionStyleModel",
       "_view_count": null,
       "_view_module": "@jupyter-widgets/base",
       "_view_module_version": "1.2.0",
       "_view_name": "StyleView",
       "description_width": ""
      }
     },
     "61adcde0f4154b15b0cbfd921f350340": {
      "model_module": "@jupyter-widgets/controls",
      "model_module_version": "1.5.0",
      "model_name": "DescriptionStyleModel",
      "state": {
       "_model_module": "@jupyter-widgets/controls",
       "_model_module_version": "1.5.0",
       "_model_name": "DescriptionStyleModel",
       "_view_count": null,
       "_view_module": "@jupyter-widgets/base",
       "_view_module_version": "1.2.0",
       "_view_name": "StyleView",
       "description_width": ""
      }
     },
     "66e66999859e4825898922028f98f902": {
      "model_module": "@jupyter-widgets/controls",
      "model_module_version": "1.5.0",
      "model_name": "HTMLModel",
      "state": {
       "_dom_classes": [],
       "_model_module": "@jupyter-widgets/controls",
       "_model_module_version": "1.5.0",
       "_model_name": "HTMLModel",
       "_view_count": null,
       "_view_module": "@jupyter-widgets/controls",
       "_view_module_version": "1.5.0",
       "_view_name": "HTMLView",
       "description": "",
       "description_tooltip": null,
       "layout": "IPY_MODEL_bc212623eb094522bc29b4d10b4b33da",
       "placeholder": "​",
       "style": "IPY_MODEL_fa2e61b5d13b4315ad65f25fe95c85ad",
       "value": " 615/615 [00:00&lt;00:00, 35.0kB/s]"
      }
     },
     "67e8aa5159d34d7ebbcd165a7a9d8d8b": {
      "model_module": "@jupyter-widgets/controls",
      "model_module_version": "1.5.0",
      "model_name": "DescriptionStyleModel",
      "state": {
       "_model_module": "@jupyter-widgets/controls",
       "_model_module_version": "1.5.0",
       "_model_name": "DescriptionStyleModel",
       "_view_count": null,
       "_view_module": "@jupyter-widgets/base",
       "_view_module_version": "1.2.0",
       "_view_name": "StyleView",
       "description_width": ""
      }
     },
     "6ed5153dc8d9439184c9187107b74765": {
      "model_module": "@jupyter-widgets/controls",
      "model_module_version": "1.5.0",
      "model_name": "HBoxModel",
      "state": {
       "_dom_classes": [],
       "_model_module": "@jupyter-widgets/controls",
       "_model_module_version": "1.5.0",
       "_model_name": "HBoxModel",
       "_view_count": null,
       "_view_module": "@jupyter-widgets/controls",
       "_view_module_version": "1.5.0",
       "_view_name": "HBoxView",
       "box_style": "",
       "children": [
        "IPY_MODEL_f4ab98a3ef144f188b325dbc54211800",
        "IPY_MODEL_788bfe0c7b9946a69b74a29ad39f371d",
        "IPY_MODEL_1e5b6722692645bba1fc371f65030746"
       ],
       "layout": "IPY_MODEL_7b1fbac8e66f487a81e09669197c43b5"
      }
     },
     "7259c51818d64a5db1a8e1daee161bce": {
      "model_module": "@jupyter-widgets/controls",
      "model_module_version": "1.5.0",
      "model_name": "HTMLModel",
      "state": {
       "_dom_classes": [],
       "_model_module": "@jupyter-widgets/controls",
       "_model_module_version": "1.5.0",
       "_model_name": "HTMLModel",
       "_view_count": null,
       "_view_module": "@jupyter-widgets/controls",
       "_view_module_version": "1.5.0",
       "_view_name": "HTMLView",
       "description": "",
       "description_tooltip": null,
       "layout": "IPY_MODEL_2078012a03034a1a97a072d13473eba5",
       "placeholder": "​",
       "style": "IPY_MODEL_7f2357c471764aa187b9acb963efe878",
       "value": "Downloading sentencepiece.bpe.model: 100%"
      }
     },
     "7622cf2aeb394ae4a37a88c5558bb3ae": {
      "model_module": "@jupyter-widgets/base",
      "model_module_version": "1.2.0",
      "model_name": "LayoutModel",
      "state": {
       "_model_module": "@jupyter-widgets/base",
       "_model_module_version": "1.2.0",
       "_model_name": "LayoutModel",
       "_view_count": null,
       "_view_module": "@jupyter-widgets/base",
       "_view_module_version": "1.2.0",
       "_view_name": "LayoutView",
       "align_content": null,
       "align_items": null,
       "align_self": null,
       "border": null,
       "bottom": null,
       "display": null,
       "flex": null,
       "flex_flow": null,
       "grid_area": null,
       "grid_auto_columns": null,
       "grid_auto_flow": null,
       "grid_auto_rows": null,
       "grid_column": null,
       "grid_gap": null,
       "grid_row": null,
       "grid_template_areas": null,
       "grid_template_columns": null,
       "grid_template_rows": null,
       "height": null,
       "justify_content": null,
       "justify_items": null,
       "left": null,
       "margin": null,
       "max_height": null,
       "max_width": null,
       "min_height": null,
       "min_width": null,
       "object_fit": null,
       "object_position": null,
       "order": null,
       "overflow": null,
       "overflow_x": null,
       "overflow_y": null,
       "padding": null,
       "right": null,
       "top": null,
       "visibility": null,
       "width": null
      }
     },
     "766cc3325f24491eaa745e0a5c263819": {
      "model_module": "@jupyter-widgets/controls",
      "model_module_version": "1.5.0",
      "model_name": "ProgressStyleModel",
      "state": {
       "_model_module": "@jupyter-widgets/controls",
       "_model_module_version": "1.5.0",
       "_model_name": "ProgressStyleModel",
       "_view_count": null,
       "_view_module": "@jupyter-widgets/base",
       "_view_module_version": "1.2.0",
       "_view_name": "StyleView",
       "bar_color": null,
       "description_width": ""
      }
     },
     "788bfe0c7b9946a69b74a29ad39f371d": {
      "model_module": "@jupyter-widgets/controls",
      "model_module_version": "1.5.0",
      "model_name": "FloatProgressModel",
      "state": {
       "_dom_classes": [],
       "_model_module": "@jupyter-widgets/controls",
       "_model_module_version": "1.5.0",
       "_model_name": "FloatProgressModel",
       "_view_count": null,
       "_view_module": "@jupyter-widgets/controls",
       "_view_module_version": "1.5.0",
       "_view_name": "ProgressView",
       "bar_style": "success",
       "description": "",
       "description_tooltip": null,
       "layout": "IPY_MODEL_44a1df20594d41399ef4c9c88ee2d4c8",
       "max": 2202.0,
       "min": 0.0,
       "orientation": "horizontal",
       "style": "IPY_MODEL_06fc473a925f4efaaa4195d5a2a3f7e5",
       "value": 2202.0
      }
     },
     "78fe550e012d4493a447073ac2aa700d": {
      "model_module": "@jupyter-widgets/controls",
      "model_module_version": "1.5.0",
      "model_name": "HTMLModel",
      "state": {
       "_dom_classes": [],
       "_model_module": "@jupyter-widgets/controls",
       "_model_module_version": "1.5.0",
       "_model_name": "HTMLModel",
       "_view_count": null,
       "_view_module": "@jupyter-widgets/controls",
       "_view_module_version": "1.5.0",
       "_view_name": "HTMLView",
       "description": "",
       "description_tooltip": null,
       "layout": "IPY_MODEL_ceb819737a7b47ac8e7daa3530c6f53d",
       "placeholder": "​",
       "style": "IPY_MODEL_00c29411834e48cca217f8499bdff2f2",
       "value": "Downloading builder script: "
      }
     },
     "7b0f02298aa54084850953dd3274f01d": {
      "model_module": "@jupyter-widgets/base",
      "model_module_version": "1.2.0",
      "model_name": "LayoutModel",
      "state": {
       "_model_module": "@jupyter-widgets/base",
       "_model_module_version": "1.2.0",
       "_model_name": "LayoutModel",
       "_view_count": null,
       "_view_module": "@jupyter-widgets/base",
       "_view_module_version": "1.2.0",
       "_view_name": "LayoutView",
       "align_content": null,
       "align_items": null,
       "align_self": null,
       "border": null,
       "bottom": null,
       "display": null,
       "flex": null,
       "flex_flow": null,
       "grid_area": null,
       "grid_auto_columns": null,
       "grid_auto_flow": null,
       "grid_auto_rows": null,
       "grid_column": null,
       "grid_gap": null,
       "grid_row": null,
       "grid_template_areas": null,
       "grid_template_columns": null,
       "grid_template_rows": null,
       "height": null,
       "justify_content": null,
       "justify_items": null,
       "left": null,
       "margin": null,
       "max_height": null,
       "max_width": null,
       "min_height": null,
       "min_width": null,
       "object_fit": null,
       "object_position": null,
       "order": null,
       "overflow": null,
       "overflow_x": null,
       "overflow_y": null,
       "padding": null,
       "right": null,
       "top": null,
       "visibility": null,
       "width": null
      }
     },
     "7b1fbac8e66f487a81e09669197c43b5": {
      "model_module": "@jupyter-widgets/base",
      "model_module_version": "1.2.0",
      "model_name": "LayoutModel",
      "state": {
       "_model_module": "@jupyter-widgets/base",
       "_model_module_version": "1.2.0",
       "_model_name": "LayoutModel",
       "_view_count": null,
       "_view_module": "@jupyter-widgets/base",
       "_view_module_version": "1.2.0",
       "_view_name": "LayoutView",
       "align_content": null,
       "align_items": null,
       "align_self": null,
       "border": null,
       "bottom": null,
       "display": null,
       "flex": null,
       "flex_flow": null,
       "grid_area": null,
       "grid_auto_columns": null,
       "grid_auto_flow": null,
       "grid_auto_rows": null,
       "grid_column": null,
       "grid_gap": null,
       "grid_row": null,
       "grid_template_areas": null,
       "grid_template_columns": null,
       "grid_template_rows": null,
       "height": null,
       "justify_content": null,
       "justify_items": null,
       "left": null,
       "margin": null,
       "max_height": null,
       "max_width": null,
       "min_height": null,
       "min_width": null,
       "object_fit": null,
       "object_position": null,
       "order": null,
       "overflow": null,
       "overflow_x": null,
       "overflow_y": null,
       "padding": null,
       "right": null,
       "top": null,
       "visibility": null,
       "width": null
      }
     },
     "7e9de98911c348d59d14b79e50400faf": {
      "model_module": "@jupyter-widgets/controls",
      "model_module_version": "1.5.0",
      "model_name": "FloatProgressModel",
      "state": {
       "_dom_classes": [],
       "_model_module": "@jupyter-widgets/controls",
       "_model_module_version": "1.5.0",
       "_model_name": "FloatProgressModel",
       "_view_count": null,
       "_view_module": "@jupyter-widgets/controls",
       "_view_module_version": "1.5.0",
       "_view_name": "ProgressView",
       "bar_style": "success",
       "description": "",
       "description_tooltip": null,
       "layout": "IPY_MODEL_06499bd8e83443a2af36b32e1f296b98",
       "max": 615.0,
       "min": 0.0,
       "orientation": "horizontal",
       "style": "IPY_MODEL_766cc3325f24491eaa745e0a5c263819",
       "value": 615.0
      }
     },
     "7f2357c471764aa187b9acb963efe878": {
      "model_module": "@jupyter-widgets/controls",
      "model_module_version": "1.5.0",
      "model_name": "DescriptionStyleModel",
      "state": {
       "_model_module": "@jupyter-widgets/controls",
       "_model_module_version": "1.5.0",
       "_model_name": "DescriptionStyleModel",
       "_view_count": null,
       "_view_module": "@jupyter-widgets/base",
       "_view_module_version": "1.2.0",
       "_view_name": "StyleView",
       "description_width": ""
      }
     },
     "81050eb30edf4b61b3198feab595fcb7": {
      "model_module": "@jupyter-widgets/base",
      "model_module_version": "1.2.0",
      "model_name": "LayoutModel",
      "state": {
       "_model_module": "@jupyter-widgets/base",
       "_model_module_version": "1.2.0",
       "_model_name": "LayoutModel",
       "_view_count": null,
       "_view_module": "@jupyter-widgets/base",
       "_view_module_version": "1.2.0",
       "_view_name": "LayoutView",
       "align_content": null,
       "align_items": null,
       "align_self": null,
       "border": null,
       "bottom": null,
       "display": null,
       "flex": null,
       "flex_flow": null,
       "grid_area": null,
       "grid_auto_columns": null,
       "grid_auto_flow": null,
       "grid_auto_rows": null,
       "grid_column": null,
       "grid_gap": null,
       "grid_row": null,
       "grid_template_areas": null,
       "grid_template_columns": null,
       "grid_template_rows": null,
       "height": null,
       "justify_content": null,
       "justify_items": null,
       "left": null,
       "margin": null,
       "max_height": null,
       "max_width": null,
       "min_height": null,
       "min_width": null,
       "object_fit": null,
       "object_position": null,
       "order": null,
       "overflow": null,
       "overflow_x": null,
       "overflow_y": null,
       "padding": null,
       "right": null,
       "top": null,
       "visibility": null,
       "width": null
      }
     },
     "8a6cd51f913e46b1a2dffcd981add61f": {
      "model_module": "@jupyter-widgets/base",
      "model_module_version": "1.2.0",
      "model_name": "LayoutModel",
      "state": {
       "_model_module": "@jupyter-widgets/base",
       "_model_module_version": "1.2.0",
       "_model_name": "LayoutModel",
       "_view_count": null,
       "_view_module": "@jupyter-widgets/base",
       "_view_module_version": "1.2.0",
       "_view_name": "LayoutView",
       "align_content": null,
       "align_items": null,
       "align_self": null,
       "border": null,
       "bottom": null,
       "display": null,
       "flex": null,
       "flex_flow": null,
       "grid_area": null,
       "grid_auto_columns": null,
       "grid_auto_flow": null,
       "grid_auto_rows": null,
       "grid_column": null,
       "grid_gap": null,
       "grid_row": null,
       "grid_template_areas": null,
       "grid_template_columns": null,
       "grid_template_rows": null,
       "height": null,
       "justify_content": null,
       "justify_items": null,
       "left": null,
       "margin": null,
       "max_height": null,
       "max_width": null,
       "min_height": null,
       "min_width": null,
       "object_fit": null,
       "object_position": null,
       "order": null,
       "overflow": null,
       "overflow_x": null,
       "overflow_y": null,
       "padding": null,
       "right": null,
       "top": null,
       "visibility": null,
       "width": null
      }
     },
     "8d02b67a431043aba071aee8078abf23": {
      "model_module": "@jupyter-widgets/controls",
      "model_module_version": "1.5.0",
      "model_name": "HTMLModel",
      "state": {
       "_dom_classes": [],
       "_model_module": "@jupyter-widgets/controls",
       "_model_module_version": "1.5.0",
       "_model_name": "HTMLModel",
       "_view_count": null,
       "_view_module": "@jupyter-widgets/controls",
       "_view_module_version": "1.5.0",
       "_view_name": "HTMLView",
       "description": "",
       "description_tooltip": null,
       "layout": "IPY_MODEL_7622cf2aeb394ae4a37a88c5558bb3ae",
       "placeholder": "​",
       "style": "IPY_MODEL_376c4804d7714b3889b7611310943901",
       "value": " 5.76k/? [00:00&lt;00:00, 277kB/s]"
      }
     },
     "8e18c549f25842d1a09215a8b9d2da12": {
      "model_module": "@jupyter-widgets/controls",
      "model_module_version": "1.5.0",
      "model_name": "HTMLModel",
      "state": {
       "_dom_classes": [],
       "_model_module": "@jupyter-widgets/controls",
       "_model_module_version": "1.5.0",
       "_model_name": "HTMLModel",
       "_view_count": null,
       "_view_module": "@jupyter-widgets/controls",
       "_view_module_version": "1.5.0",
       "_view_name": "HTMLView",
       "description": "",
       "description_tooltip": null,
       "layout": "IPY_MODEL_54f00db888c44b6187bfc56157798cc0",
       "placeholder": "​",
       "style": "IPY_MODEL_2e8c892bcbc442deaa40d522bc881ede",
       "value": "Downloading pytorch_model.bin: 100%"
      }
     },
     "94e81362b9fb441abccd85aadc77cc5f": {
      "model_module": "@jupyter-widgets/controls",
      "model_module_version": "1.5.0",
      "model_name": "ProgressStyleModel",
      "state": {
       "_model_module": "@jupyter-widgets/controls",
       "_model_module_version": "1.5.0",
       "_model_name": "ProgressStyleModel",
       "_view_count": null,
       "_view_module": "@jupyter-widgets/base",
       "_view_module_version": "1.2.0",
       "_view_name": "StyleView",
       "bar_color": null,
       "description_width": ""
      }
     },
     "95caed2dd86e44cb951ec8a700de360d": {
      "model_module": "@jupyter-widgets/controls",
      "model_module_version": "1.5.0",
      "model_name": "DescriptionStyleModel",
      "state": {
       "_model_module": "@jupyter-widgets/controls",
       "_model_module_version": "1.5.0",
       "_model_name": "DescriptionStyleModel",
       "_view_count": null,
       "_view_module": "@jupyter-widgets/base",
       "_view_module_version": "1.2.0",
       "_view_name": "StyleView",
       "description_width": ""
      }
     },
     "99af82887bb142ce90f563ccd370285d": {
      "model_module": "@jupyter-widgets/controls",
      "model_module_version": "1.5.0",
      "model_name": "ProgressStyleModel",
      "state": {
       "_model_module": "@jupyter-widgets/controls",
       "_model_module_version": "1.5.0",
       "_model_name": "ProgressStyleModel",
       "_view_count": null,
       "_view_module": "@jupyter-widgets/base",
       "_view_module_version": "1.2.0",
       "_view_name": "StyleView",
       "bar_color": null,
       "description_width": ""
      }
     },
     "9ce14b39ba9e401fb66546920f6b0df4": {
      "model_module": "@jupyter-widgets/controls",
      "model_module_version": "1.5.0",
      "model_name": "HTMLModel",
      "state": {
       "_dom_classes": [],
       "_model_module": "@jupyter-widgets/controls",
       "_model_module_version": "1.5.0",
       "_model_name": "HTMLModel",
       "_view_count": null,
       "_view_module": "@jupyter-widgets/controls",
       "_view_module_version": "1.5.0",
       "_view_name": "HTMLView",
       "description": "",
       "description_tooltip": null,
       "layout": "IPY_MODEL_505f6c46fc764b9985fb2648c5329cb5",
       "placeholder": "​",
       "style": "IPY_MODEL_95caed2dd86e44cb951ec8a700de360d",
       "value": " 3.19k/? [00:00&lt;00:00, 212kB/s]"
      }
     },
     "9fab95cd116449db8363e494cfdb1e9c": {
      "model_module": "@jupyter-widgets/controls",
      "model_module_version": "1.5.0",
      "model_name": "DescriptionStyleModel",
      "state": {
       "_model_module": "@jupyter-widgets/controls",
       "_model_module_version": "1.5.0",
       "_model_name": "DescriptionStyleModel",
       "_view_count": null,
       "_view_module": "@jupyter-widgets/base",
       "_view_module_version": "1.2.0",
       "_view_name": "StyleView",
       "description_width": ""
      }
     },
     "a182aff4f3864e70bd8fa64f106d9fa2": {
      "model_module": "@jupyter-widgets/controls",
      "model_module_version": "1.5.0",
      "model_name": "ProgressStyleModel",
      "state": {
       "_model_module": "@jupyter-widgets/controls",
       "_model_module_version": "1.5.0",
       "_model_name": "ProgressStyleModel",
       "_view_count": null,
       "_view_module": "@jupyter-widgets/base",
       "_view_module_version": "1.2.0",
       "_view_name": "StyleView",
       "bar_color": null,
       "description_width": ""
      }
     },
     "a1e3e868af1c443c9378b69d01afaac1": {
      "model_module": "@jupyter-widgets/base",
      "model_module_version": "1.2.0",
      "model_name": "LayoutModel",
      "state": {
       "_model_module": "@jupyter-widgets/base",
       "_model_module_version": "1.2.0",
       "_model_name": "LayoutModel",
       "_view_count": null,
       "_view_module": "@jupyter-widgets/base",
       "_view_module_version": "1.2.0",
       "_view_name": "LayoutView",
       "align_content": null,
       "align_items": null,
       "align_self": null,
       "border": null,
       "bottom": null,
       "display": null,
       "flex": null,
       "flex_flow": null,
       "grid_area": null,
       "grid_auto_columns": null,
       "grid_auto_flow": null,
       "grid_auto_rows": null,
       "grid_column": null,
       "grid_gap": null,
       "grid_row": null,
       "grid_template_areas": null,
       "grid_template_columns": null,
       "grid_template_rows": null,
       "height": null,
       "justify_content": null,
       "justify_items": null,
       "left": null,
       "margin": null,
       "max_height": null,
       "max_width": null,
       "min_height": null,
       "min_width": null,
       "object_fit": null,
       "object_position": null,
       "order": null,
       "overflow": null,
       "overflow_x": null,
       "overflow_y": null,
       "padding": null,
       "right": null,
       "top": null,
       "visibility": null,
       "width": null
      }
     },
     "a7cdb1ae24a949b2be567d8a4120ca0c": {
      "model_module": "@jupyter-widgets/controls",
      "model_module_version": "1.5.0",
      "model_name": "HTMLModel",
      "state": {
       "_dom_classes": [],
       "_model_module": "@jupyter-widgets/controls",
       "_model_module_version": "1.5.0",
       "_model_name": "HTMLModel",
       "_view_count": null,
       "_view_module": "@jupyter-widgets/controls",
       "_view_module_version": "1.5.0",
       "_view_name": "HTMLView",
       "description": "",
       "description_tooltip": null,
       "layout": "IPY_MODEL_0d5f2e0406454584891466aab1beb442",
       "placeholder": "​",
       "style": "IPY_MODEL_9fab95cd116449db8363e494cfdb1e9c",
       "value": "Downloading builder script: "
      }
     },
     "ab5d24dd22a64c97bdb63b5beec9e729": {
      "model_module": "@jupyter-widgets/controls",
      "model_module_version": "1.5.0",
      "model_name": "HBoxModel",
      "state": {
       "_dom_classes": [],
       "_model_module": "@jupyter-widgets/controls",
       "_model_module_version": "1.5.0",
       "_model_name": "HBoxModel",
       "_view_count": null,
       "_view_module": "@jupyter-widgets/controls",
       "_view_module_version": "1.5.0",
       "_view_name": "HBoxView",
       "box_style": "",
       "children": [
        "IPY_MODEL_78fe550e012d4493a447073ac2aa700d",
        "IPY_MODEL_4dcd7961adee4cd9a49e758151743869",
        "IPY_MODEL_4c7b1ed1ac80455b9b2a5f1cd842a71b"
       ],
       "layout": "IPY_MODEL_2e24ce4785094c2ebe2447bff1ad7779"
      }
     },
     "bc212623eb094522bc29b4d10b4b33da": {
      "model_module": "@jupyter-widgets/base",
      "model_module_version": "1.2.0",
      "model_name": "LayoutModel",
      "state": {
       "_model_module": "@jupyter-widgets/base",
       "_model_module_version": "1.2.0",
       "_model_name": "LayoutModel",
       "_view_count": null,
       "_view_module": "@jupyter-widgets/base",
       "_view_module_version": "1.2.0",
       "_view_name": "LayoutView",
       "align_content": null,
       "align_items": null,
       "align_self": null,
       "border": null,
       "bottom": null,
       "display": null,
       "flex": null,
       "flex_flow": null,
       "grid_area": null,
       "grid_auto_columns": null,
       "grid_auto_flow": null,
       "grid_auto_rows": null,
       "grid_column": null,
       "grid_gap": null,
       "grid_row": null,
       "grid_template_areas": null,
       "grid_template_columns": null,
       "grid_template_rows": null,
       "height": null,
       "justify_content": null,
       "justify_items": null,
       "left": null,
       "margin": null,
       "max_height": null,
       "max_width": null,
       "min_height": null,
       "min_width": null,
       "object_fit": null,
       "object_position": null,
       "order": null,
       "overflow": null,
       "overflow_x": null,
       "overflow_y": null,
       "padding": null,
       "right": null,
       "top": null,
       "visibility": null,
       "width": null
      }
     },
     "c3abfab08b7a43d2baf61c7c7b58ca1f": {
      "model_module": "@jupyter-widgets/controls",
      "model_module_version": "1.5.0",
      "model_name": "DescriptionStyleModel",
      "state": {
       "_model_module": "@jupyter-widgets/controls",
       "_model_module_version": "1.5.0",
       "_model_name": "DescriptionStyleModel",
       "_view_count": null,
       "_view_module": "@jupyter-widgets/base",
       "_view_module_version": "1.2.0",
       "_view_name": "StyleView",
       "description_width": ""
      }
     },
     "c8fb17f857d24845ac06303b1accf1d7": {
      "model_module": "@jupyter-widgets/controls",
      "model_module_version": "1.5.0",
      "model_name": "DescriptionStyleModel",
      "state": {
       "_model_module": "@jupyter-widgets/controls",
       "_model_module_version": "1.5.0",
       "_model_name": "DescriptionStyleModel",
       "_view_count": null,
       "_view_module": "@jupyter-widgets/base",
       "_view_module_version": "1.2.0",
       "_view_name": "StyleView",
       "description_width": ""
      }
     },
     "cd267a2522b74451a16d57c1ddaa67a3": {
      "model_module": "@jupyter-widgets/controls",
      "model_module_version": "1.5.0",
      "model_name": "FloatProgressModel",
      "state": {
       "_dom_classes": [],
       "_model_module": "@jupyter-widgets/controls",
       "_model_module_version": "1.5.0",
       "_model_name": "FloatProgressModel",
       "_view_count": null,
       "_view_module": "@jupyter-widgets/controls",
       "_view_module_version": "1.5.0",
       "_view_name": "ProgressView",
       "bar_style": "success",
       "description": "",
       "description_tooltip": null,
       "layout": "IPY_MODEL_f1a074cdee704148ace16aa7fd3626a0",
       "max": 1115590446.0,
       "min": 0.0,
       "orientation": "horizontal",
       "style": "IPY_MODEL_94e81362b9fb441abccd85aadc77cc5f",
       "value": 1115590446.0
      }
     },
     "ceb819737a7b47ac8e7daa3530c6f53d": {
      "model_module": "@jupyter-widgets/base",
      "model_module_version": "1.2.0",
      "model_name": "LayoutModel",
      "state": {
       "_model_module": "@jupyter-widgets/base",
       "_model_module_version": "1.2.0",
       "_model_name": "LayoutModel",
       "_view_count": null,
       "_view_module": "@jupyter-widgets/base",
       "_view_module_version": "1.2.0",
       "_view_name": "LayoutView",
       "align_content": null,
       "align_items": null,
       "align_self": null,
       "border": null,
       "bottom": null,
       "display": null,
       "flex": null,
       "flex_flow": null,
       "grid_area": null,
       "grid_auto_columns": null,
       "grid_auto_flow": null,
       "grid_auto_rows": null,
       "grid_column": null,
       "grid_gap": null,
       "grid_row": null,
       "grid_template_areas": null,
       "grid_template_columns": null,
       "grid_template_rows": null,
       "height": null,
       "justify_content": null,
       "justify_items": null,
       "left": null,
       "margin": null,
       "max_height": null,
       "max_width": null,
       "min_height": null,
       "min_width": null,
       "object_fit": null,
       "object_position": null,
       "order": null,
       "overflow": null,
       "overflow_x": null,
       "overflow_y": null,
       "padding": null,
       "right": null,
       "top": null,
       "visibility": null,
       "width": null
      }
     },
     "d3b8222d0ed4432ba4d62c0b727f4403": {
      "model_module": "@jupyter-widgets/base",
      "model_module_version": "1.2.0",
      "model_name": "LayoutModel",
      "state": {
       "_model_module": "@jupyter-widgets/base",
       "_model_module_version": "1.2.0",
       "_model_name": "LayoutModel",
       "_view_count": null,
       "_view_module": "@jupyter-widgets/base",
       "_view_module_version": "1.2.0",
       "_view_name": "LayoutView",
       "align_content": null,
       "align_items": null,
       "align_self": null,
       "border": null,
       "bottom": null,
       "display": null,
       "flex": null,
       "flex_flow": null,
       "grid_area": null,
       "grid_auto_columns": null,
       "grid_auto_flow": null,
       "grid_auto_rows": null,
       "grid_column": null,
       "grid_gap": null,
       "grid_row": null,
       "grid_template_areas": null,
       "grid_template_columns": null,
       "grid_template_rows": null,
       "height": null,
       "justify_content": null,
       "justify_items": null,
       "left": null,
       "margin": null,
       "max_height": null,
       "max_width": null,
       "min_height": null,
       "min_width": null,
       "object_fit": null,
       "object_position": null,
       "order": null,
       "overflow": null,
       "overflow_x": null,
       "overflow_y": null,
       "padding": null,
       "right": null,
       "top": null,
       "visibility": null,
       "width": null
      }
     },
     "d5bc1ec88f0549629f30b0cf73d0be38": {
      "model_module": "@jupyter-widgets/controls",
      "model_module_version": "1.5.0",
      "model_name": "HTMLModel",
      "state": {
       "_dom_classes": [],
       "_model_module": "@jupyter-widgets/controls",
       "_model_module_version": "1.5.0",
       "_model_name": "HTMLModel",
       "_view_count": null,
       "_view_module": "@jupyter-widgets/controls",
       "_view_module_version": "1.5.0",
       "_view_name": "HTMLView",
       "description": "",
       "description_tooltip": null,
       "layout": "IPY_MODEL_050d9224503140c7995960e16594928a",
       "placeholder": "​",
       "style": "IPY_MODEL_61adcde0f4154b15b0cbfd921f350340",
       "value": " 4.83M/4.83M [00:00&lt;00:00, 22.6MB/s]"
      }
     },
     "d6039e5f5e6a415b92739135502632be": {
      "model_module": "@jupyter-widgets/controls",
      "model_module_version": "1.5.0",
      "model_name": "FloatProgressModel",
      "state": {
       "_dom_classes": [],
       "_model_module": "@jupyter-widgets/controls",
       "_model_module_version": "1.5.0",
       "_model_name": "FloatProgressModel",
       "_view_count": null,
       "_view_module": "@jupyter-widgets/controls",
       "_view_module_version": "1.5.0",
       "_view_name": "ProgressView",
       "bar_style": "success",
       "description": "",
       "description_tooltip": null,
       "layout": "IPY_MODEL_0341ed74b306484c8a1ad5e1156de65b",
       "max": 5069051.0,
       "min": 0.0,
       "orientation": "horizontal",
       "style": "IPY_MODEL_141376d2d393416a9b37268dd6ff2d96",
       "value": 5069051.0
      }
     },
     "d91e3d5de360481791053e8556a62107": {
      "model_module": "@jupyter-widgets/controls",
      "model_module_version": "1.5.0",
      "model_name": "HBoxModel",
      "state": {
       "_dom_classes": [],
       "_model_module": "@jupyter-widgets/controls",
       "_model_module_version": "1.5.0",
       "_model_name": "HBoxModel",
       "_view_count": null,
       "_view_module": "@jupyter-widgets/controls",
       "_view_module_version": "1.5.0",
       "_view_name": "HBoxView",
       "box_style": "",
       "children": [
        "IPY_MODEL_8e18c549f25842d1a09215a8b9d2da12",
        "IPY_MODEL_cd267a2522b74451a16d57c1ddaa67a3",
        "IPY_MODEL_5b09d19e0b06432bad97626d76f330b5"
       ],
       "layout": "IPY_MODEL_8a6cd51f913e46b1a2dffcd981add61f"
      }
     },
     "e08f3ded057e4aae9663bc1a5cde479e": {
      "model_module": "@jupyter-widgets/base",
      "model_module_version": "1.2.0",
      "model_name": "LayoutModel",
      "state": {
       "_model_module": "@jupyter-widgets/base",
       "_model_module_version": "1.2.0",
       "_model_name": "LayoutModel",
       "_view_count": null,
       "_view_module": "@jupyter-widgets/base",
       "_view_module_version": "1.2.0",
       "_view_name": "LayoutView",
       "align_content": null,
       "align_items": null,
       "align_self": null,
       "border": null,
       "bottom": null,
       "display": null,
       "flex": null,
       "flex_flow": null,
       "grid_area": null,
       "grid_auto_columns": null,
       "grid_auto_flow": null,
       "grid_auto_rows": null,
       "grid_column": null,
       "grid_gap": null,
       "grid_row": null,
       "grid_template_areas": null,
       "grid_template_columns": null,
       "grid_template_rows": null,
       "height": null,
       "justify_content": null,
       "justify_items": null,
       "left": null,
       "margin": null,
       "max_height": null,
       "max_width": null,
       "min_height": null,
       "min_width": null,
       "object_fit": null,
       "object_position": null,
       "order": null,
       "overflow": null,
       "overflow_x": null,
       "overflow_y": null,
       "padding": null,
       "right": null,
       "top": null,
       "visibility": null,
       "width": null
      }
     },
     "e5834687b72445c192c82daaca0217c6": {
      "model_module": "@jupyter-widgets/controls",
      "model_module_version": "1.5.0",
      "model_name": "HBoxModel",
      "state": {
       "_dom_classes": [],
       "_model_module": "@jupyter-widgets/controls",
       "_model_module_version": "1.5.0",
       "_model_name": "HBoxModel",
       "_view_count": null,
       "_view_module": "@jupyter-widgets/controls",
       "_view_module_version": "1.5.0",
       "_view_name": "HBoxView",
       "box_style": "",
       "children": [
        "IPY_MODEL_a7cdb1ae24a949b2be567d8a4120ca0c",
        "IPY_MODEL_5012340f9ff043e9985ac37d54341828",
        "IPY_MODEL_8d02b67a431043aba071aee8078abf23"
       ],
       "layout": "IPY_MODEL_f115bfbd99b740c2b71011be9944843a"
      }
     },
     "f115bfbd99b740c2b71011be9944843a": {
      "model_module": "@jupyter-widgets/base",
      "model_module_version": "1.2.0",
      "model_name": "LayoutModel",
      "state": {
       "_model_module": "@jupyter-widgets/base",
       "_model_module_version": "1.2.0",
       "_model_name": "LayoutModel",
       "_view_count": null,
       "_view_module": "@jupyter-widgets/base",
       "_view_module_version": "1.2.0",
       "_view_name": "LayoutView",
       "align_content": null,
       "align_items": null,
       "align_self": null,
       "border": null,
       "bottom": null,
       "display": null,
       "flex": null,
       "flex_flow": null,
       "grid_area": null,
       "grid_auto_columns": null,
       "grid_auto_flow": null,
       "grid_auto_rows": null,
       "grid_column": null,
       "grid_gap": null,
       "grid_row": null,
       "grid_template_areas": null,
       "grid_template_columns": null,
       "grid_template_rows": null,
       "height": null,
       "justify_content": null,
       "justify_items": null,
       "left": null,
       "margin": null,
       "max_height": null,
       "max_width": null,
       "min_height": null,
       "min_width": null,
       "object_fit": null,
       "object_position": null,
       "order": null,
       "overflow": null,
       "overflow_x": null,
       "overflow_y": null,
       "padding": null,
       "right": null,
       "top": null,
       "visibility": null,
       "width": null
      }
     },
     "f1a074cdee704148ace16aa7fd3626a0": {
      "model_module": "@jupyter-widgets/base",
      "model_module_version": "1.2.0",
      "model_name": "LayoutModel",
      "state": {
       "_model_module": "@jupyter-widgets/base",
       "_model_module_version": "1.2.0",
       "_model_name": "LayoutModel",
       "_view_count": null,
       "_view_module": "@jupyter-widgets/base",
       "_view_module_version": "1.2.0",
       "_view_name": "LayoutView",
       "align_content": null,
       "align_items": null,
       "align_self": null,
       "border": null,
       "bottom": null,
       "display": null,
       "flex": null,
       "flex_flow": null,
       "grid_area": null,
       "grid_auto_columns": null,
       "grid_auto_flow": null,
       "grid_auto_rows": null,
       "grid_column": null,
       "grid_gap": null,
       "grid_row": null,
       "grid_template_areas": null,
       "grid_template_columns": null,
       "grid_template_rows": null,
       "height": null,
       "justify_content": null,
       "justify_items": null,
       "left": null,
       "margin": null,
       "max_height": null,
       "max_width": null,
       "min_height": null,
       "min_width": null,
       "object_fit": null,
       "object_position": null,
       "order": null,
       "overflow": null,
       "overflow_x": null,
       "overflow_y": null,
       "padding": null,
       "right": null,
       "top": null,
       "visibility": null,
       "width": null
      }
     },
     "f4ab98a3ef144f188b325dbc54211800": {
      "model_module": "@jupyter-widgets/controls",
      "model_module_version": "1.5.0",
      "model_name": "HTMLModel",
      "state": {
       "_dom_classes": [],
       "_model_module": "@jupyter-widgets/controls",
       "_model_module_version": "1.5.0",
       "_model_name": "HTMLModel",
       "_view_count": null,
       "_view_module": "@jupyter-widgets/controls",
       "_view_module_version": "1.5.0",
       "_view_name": "HTMLView",
       "description": "",
       "description_tooltip": null,
       "layout": "IPY_MODEL_e08f3ded057e4aae9663bc1a5cde479e",
       "placeholder": "​",
       "style": "IPY_MODEL_4915b649a3b54ca99b9e3470982eec2e",
       "value": "Downloading builder script: "
      }
     },
     "f69bb83213574df1aa5d202293cc25cf": {
      "model_module": "@jupyter-widgets/base",
      "model_module_version": "1.2.0",
      "model_name": "LayoutModel",
      "state": {
       "_model_module": "@jupyter-widgets/base",
       "_model_module_version": "1.2.0",
       "_model_name": "LayoutModel",
       "_view_count": null,
       "_view_module": "@jupyter-widgets/base",
       "_view_module_version": "1.2.0",
       "_view_name": "LayoutView",
       "align_content": null,
       "align_items": null,
       "align_self": null,
       "border": null,
       "bottom": null,
       "display": null,
       "flex": null,
       "flex_flow": null,
       "grid_area": null,
       "grid_auto_columns": null,
       "grid_auto_flow": null,
       "grid_auto_rows": null,
       "grid_column": null,
       "grid_gap": null,
       "grid_row": null,
       "grid_template_areas": null,
       "grid_template_columns": null,
       "grid_template_rows": null,
       "height": null,
       "justify_content": null,
       "justify_items": null,
       "left": null,
       "margin": null,
       "max_height": null,
       "max_width": null,
       "min_height": null,
       "min_width": null,
       "object_fit": null,
       "object_position": null,
       "order": null,
       "overflow": null,
       "overflow_x": null,
       "overflow_y": null,
       "padding": null,
       "right": null,
       "top": null,
       "visibility": null,
       "width": null
      }
     },
     "f8cf42fd0319422882cebf2f70340fcb": {
      "model_module": "@jupyter-widgets/controls",
      "model_module_version": "1.5.0",
      "model_name": "HTMLModel",
      "state": {
       "_dom_classes": [],
       "_model_module": "@jupyter-widgets/controls",
       "_model_module_version": "1.5.0",
       "_model_name": "HTMLModel",
       "_view_count": null,
       "_view_module": "@jupyter-widgets/controls",
       "_view_module_version": "1.5.0",
       "_view_name": "HTMLView",
       "description": "",
       "description_tooltip": null,
       "layout": "IPY_MODEL_d3b8222d0ed4432ba4d62c0b727f4403",
       "placeholder": "​",
       "style": "IPY_MODEL_67e8aa5159d34d7ebbcd165a7a9d8d8b",
       "value": "Downloading config.json: 100%"
      }
     },
     "fa2e61b5d13b4315ad65f25fe95c85ad": {
      "model_module": "@jupyter-widgets/controls",
      "model_module_version": "1.5.0",
      "model_name": "DescriptionStyleModel",
      "state": {
       "_model_module": "@jupyter-widgets/controls",
       "_model_module_version": "1.5.0",
       "_model_name": "DescriptionStyleModel",
       "_view_count": null,
       "_view_module": "@jupyter-widgets/base",
       "_view_module_version": "1.2.0",
       "_view_name": "StyleView",
       "description_width": ""
      }
     },
     "ff29fd98f024484a908a9474f7bfe6ee": {
      "model_module": "@jupyter-widgets/base",
      "model_module_version": "1.2.0",
      "model_name": "LayoutModel",
      "state": {
       "_model_module": "@jupyter-widgets/base",
       "_model_module_version": "1.2.0",
       "_model_name": "LayoutModel",
       "_view_count": null,
       "_view_module": "@jupyter-widgets/base",
       "_view_module_version": "1.2.0",
       "_view_name": "LayoutView",
       "align_content": null,
       "align_items": null,
       "align_self": null,
       "border": null,
       "bottom": null,
       "display": null,
       "flex": null,
       "flex_flow": null,
       "grid_area": null,
       "grid_auto_columns": null,
       "grid_auto_flow": null,
       "grid_auto_rows": null,
       "grid_column": null,
       "grid_gap": null,
       "grid_row": null,
       "grid_template_areas": null,
       "grid_template_columns": null,
       "grid_template_rows": null,
       "height": null,
       "justify_content": null,
       "justify_items": null,
       "left": null,
       "margin": null,
       "max_height": null,
       "max_width": null,
       "min_height": null,
       "min_width": null,
       "object_fit": null,
       "object_position": null,
       "order": null,
       "overflow": null,
       "overflow_x": null,
       "overflow_y": null,
       "padding": null,
       "right": null,
       "top": null,
       "visibility": null,
       "width": null
      }
     },
     "ff8b20cc7f7545b3babebf2db32013c5": {
      "model_module": "@jupyter-widgets/controls",
      "model_module_version": "1.5.0",
      "model_name": "HBoxModel",
      "state": {
       "_dom_classes": [],
       "_model_module": "@jupyter-widgets/controls",
       "_model_module_version": "1.5.0",
       "_model_name": "HBoxModel",
       "_view_count": null,
       "_view_module": "@jupyter-widgets/controls",
       "_view_module_version": "1.5.0",
       "_view_name": "HBoxView",
       "box_style": "",
       "children": [
        "IPY_MODEL_5e102778018949d7babb107b41faa6ef",
        "IPY_MODEL_3943f7d76fe04a08bcd52742928047dd",
        "IPY_MODEL_9ce14b39ba9e401fb66546920f6b0df4"
       ],
       "layout": "IPY_MODEL_51d8d461a2fa4527a952e04b3cedaecc"
      }
     }
    },
    "version_major": 2,
    "version_minor": 0
   }
  }
 },
 "nbformat": 4,
 "nbformat_minor": 5
}
